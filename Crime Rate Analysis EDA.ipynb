{
 "cells": [
  {
   "cell_type": "code",
   "execution_count": 1,
   "metadata": {
    "scrolled": true
   },
   "outputs": [
    {
     "name": "stdout",
     "output_type": "stream",
     "text": [
      "Requirement already satisfied: pandas-profiling in d:\\myfolder\\anaconda\\lib\\site-packages (3.1.0)\n",
      "Requirement already satisfied: joblib~=1.0.1 in d:\\myfolder\\anaconda\\lib\\site-packages (from pandas-profiling) (1.0.1)\n",
      "Requirement already satisfied: matplotlib>=3.2.0 in d:\\myfolder\\anaconda\\lib\\site-packages (from pandas-profiling) (3.3.4)\n",
      "Requirement already satisfied: tqdm>=4.48.2 in d:\\myfolder\\anaconda\\lib\\site-packages (from pandas-profiling) (4.59.0)\n",
      "Requirement already satisfied: visions[type_image_path]==0.7.4 in d:\\myfolder\\anaconda\\lib\\site-packages (from pandas-profiling) (0.7.4)\n",
      "Requirement already satisfied: htmlmin>=0.1.12 in d:\\myfolder\\anaconda\\lib\\site-packages (from pandas-profiling) (0.1.12)\n",
      "Requirement already satisfied: PyYAML>=5.0.0 in d:\\myfolder\\anaconda\\lib\\site-packages (from pandas-profiling) (5.4.1)\n",
      "Requirement already satisfied: missingno>=0.4.2 in d:\\myfolder\\anaconda\\lib\\site-packages (from pandas-profiling) (0.5.0)\n",
      "Requirement already satisfied: phik>=0.11.1 in d:\\myfolder\\anaconda\\lib\\site-packages (from pandas-profiling) (0.12.0)\n",
      "Requirement already satisfied: multimethod>=1.4 in d:\\myfolder\\anaconda\\lib\\site-packages (from pandas-profiling) (1.6)\n",
      "Requirement already satisfied: pydantic>=1.8.1 in d:\\myfolder\\anaconda\\lib\\site-packages (from pandas-profiling) (1.8.2)\n",
      "Requirement already satisfied: scipy>=1.4.1 in d:\\myfolder\\anaconda\\lib\\site-packages (from pandas-profiling) (1.6.2)\n",
      "Requirement already satisfied: numpy>=1.16.0 in d:\\myfolder\\anaconda\\lib\\site-packages (from pandas-profiling) (1.20.1)\n",
      "Requirement already satisfied: tangled-up-in-unicode==0.1.0 in d:\\myfolder\\anaconda\\lib\\site-packages (from pandas-profiling) (0.1.0)\n",
      "Requirement already satisfied: markupsafe~=2.0.1 in d:\\myfolder\\anaconda\\lib\\site-packages (from pandas-profiling) (2.0.1)\n",
      "Requirement already satisfied: requests>=2.24.0 in d:\\myfolder\\anaconda\\lib\\site-packages (from pandas-profiling) (2.25.1)\n",
      "Requirement already satisfied: pandas!=1.0.0,!=1.0.1,!=1.0.2,!=1.1.0,>=0.25.3 in d:\\myfolder\\anaconda\\lib\\site-packages (from pandas-profiling) (1.2.4)\n",
      "Requirement already satisfied: seaborn>=0.10.1 in d:\\myfolder\\anaconda\\lib\\site-packages (from pandas-profiling) (0.11.1)\n",
      "Requirement already satisfied: jinja2>=2.11.1 in d:\\myfolder\\anaconda\\lib\\site-packages (from pandas-profiling) (2.11.3)\n",
      "Requirement already satisfied: networkx>=2.4 in d:\\myfolder\\anaconda\\lib\\site-packages (from visions[type_image_path]==0.7.4->pandas-profiling) (2.5)\n",
      "Requirement already satisfied: attrs>=19.3.0 in d:\\myfolder\\anaconda\\lib\\site-packages (from visions[type_image_path]==0.7.4->pandas-profiling) (20.3.0)\n",
      "Requirement already satisfied: imagehash in d:\\myfolder\\anaconda\\lib\\site-packages (from visions[type_image_path]==0.7.4->pandas-profiling) (4.2.1)\n",
      "Requirement already satisfied: Pillow in d:\\myfolder\\anaconda\\lib\\site-packages (from visions[type_image_path]==0.7.4->pandas-profiling) (8.2.0)\n",
      "Requirement already satisfied: pyparsing!=2.0.4,!=2.1.2,!=2.1.6,>=2.0.3 in d:\\myfolder\\anaconda\\lib\\site-packages (from matplotlib>=3.2.0->pandas-profiling) (2.4.7)\n",
      "Requirement already satisfied: cycler>=0.10 in d:\\myfolder\\anaconda\\lib\\site-packages (from matplotlib>=3.2.0->pandas-profiling) (0.10.0)\n",
      "Requirement already satisfied: kiwisolver>=1.0.1 in d:\\myfolder\\anaconda\\lib\\site-packages (from matplotlib>=3.2.0->pandas-profiling) (1.3.1)\n",
      "Requirement already satisfied: python-dateutil>=2.1 in d:\\myfolder\\anaconda\\lib\\site-packages (from matplotlib>=3.2.0->pandas-profiling) (2.8.1)\n",
      "Requirement already satisfied: six in d:\\myfolder\\anaconda\\lib\\site-packages (from cycler>=0.10->matplotlib>=3.2.0->pandas-profiling) (1.15.0)\n",
      "Requirement already satisfied: decorator>=4.3.0 in d:\\myfolder\\anaconda\\lib\\site-packages (from networkx>=2.4->visions[type_image_path]==0.7.4->pandas-profiling) (5.0.6)\n",
      "Requirement already satisfied: pytz>=2017.3 in d:\\myfolder\\anaconda\\lib\\site-packages (from pandas!=1.0.0,!=1.0.1,!=1.0.2,!=1.1.0,>=0.25.3->pandas-profiling) (2021.1)\n",
      "Requirement already satisfied: typing-extensions>=3.7.4.3 in d:\\myfolder\\anaconda\\lib\\site-packages (from pydantic>=1.8.1->pandas-profiling) (3.7.4.3)\n",
      "Requirement already satisfied: chardet<5,>=3.0.2 in d:\\myfolder\\anaconda\\lib\\site-packages (from requests>=2.24.0->pandas-profiling) (4.0.0)\n",
      "Requirement already satisfied: idna<3,>=2.5 in d:\\myfolder\\anaconda\\lib\\site-packages (from requests>=2.24.0->pandas-profiling) (2.10)\n",
      "Requirement already satisfied: certifi>=2017.4.17 in d:\\myfolder\\anaconda\\lib\\site-packages (from requests>=2.24.0->pandas-profiling) (2021.5.30)\n",
      "Requirement already satisfied: urllib3<1.27,>=1.21.1 in d:\\myfolder\\anaconda\\lib\\site-packages (from requests>=2.24.0->pandas-profiling) (1.26.4)\n",
      "Requirement already satisfied: PyWavelets in d:\\myfolder\\anaconda\\lib\\site-packages (from imagehash->visions[type_image_path]==0.7.4->pandas-profiling) (1.1.1)\n"
     ]
    }
   ],
   "source": [
    "import sys\n",
    "!{sys.executable} -m pip install pandas-profiling"
   ]
  },
  {
   "cell_type": "code",
   "execution_count": 2,
   "metadata": {},
   "outputs": [],
   "source": [
    "import pandas as pd \n",
    "df = pd.read_csv(\"crime rate analysis.csv\")"
   ]
  },
  {
   "cell_type": "code",
   "execution_count": 3,
   "metadata": {},
   "outputs": [
    {
     "data": {
      "text/html": [
       "<div>\n",
       "<style scoped>\n",
       "    .dataframe tbody tr th:only-of-type {\n",
       "        vertical-align: middle;\n",
       "    }\n",
       "\n",
       "    .dataframe tbody tr th {\n",
       "        vertical-align: top;\n",
       "    }\n",
       "\n",
       "    .dataframe thead th {\n",
       "        text-align: right;\n",
       "    }\n",
       "</style>\n",
       "<table border=\"1\" class=\"dataframe\">\n",
       "  <thead>\n",
       "    <tr style=\"text-align: right;\">\n",
       "      <th></th>\n",
       "      <th>ID</th>\n",
       "      <th>Date</th>\n",
       "      <th>IUCR</th>\n",
       "      <th>Primary Type</th>\n",
       "      <th>Description</th>\n",
       "      <th>Location Description</th>\n",
       "      <th>Arrest</th>\n",
       "      <th>Domestic</th>\n",
       "      <th>Year</th>\n",
       "      <th>Updated On</th>\n",
       "    </tr>\n",
       "  </thead>\n",
       "  <tbody>\n",
       "    <tr>\n",
       "      <th>0</th>\n",
       "      <td>12014684</td>\n",
       "      <td>03/17/2020 09:30:00 PM</td>\n",
       "      <td>0820</td>\n",
       "      <td>THEFT</td>\n",
       "      <td>$500 AND UNDER</td>\n",
       "      <td>STREET</td>\n",
       "      <td>False</td>\n",
       "      <td>False</td>\n",
       "      <td>2020</td>\n",
       "      <td>03/25/2020 03:45:43 PM</td>\n",
       "    </tr>\n",
       "    <tr>\n",
       "      <th>1</th>\n",
       "      <td>11864018</td>\n",
       "      <td>09/24/2019 08:00:00 AM</td>\n",
       "      <td>1154</td>\n",
       "      <td>DECEPTIVE PRACTICE</td>\n",
       "      <td>FINANCIAL IDENTITY THEFT $300 AND UNDER</td>\n",
       "      <td>COMMERCIAL / BUSINESS OFFICE</td>\n",
       "      <td>False</td>\n",
       "      <td>False</td>\n",
       "      <td>2019</td>\n",
       "      <td>10/20/2019 03:56:02 PM</td>\n",
       "    </tr>\n",
       "    <tr>\n",
       "      <th>2</th>\n",
       "      <td>11859805</td>\n",
       "      <td>10/13/2019 08:30:00 PM</td>\n",
       "      <td>0860</td>\n",
       "      <td>THEFT</td>\n",
       "      <td>RETAIL THEFT</td>\n",
       "      <td>GROCERY FOOD STORE</td>\n",
       "      <td>False</td>\n",
       "      <td>False</td>\n",
       "      <td>2019</td>\n",
       "      <td>10/20/2019 04:03:03 PM</td>\n",
       "    </tr>\n",
       "    <tr>\n",
       "      <th>3</th>\n",
       "      <td>12012127</td>\n",
       "      <td>03/18/2020 02:03:00 AM</td>\n",
       "      <td>0910</td>\n",
       "      <td>MOTOR VEHICLE THEFT</td>\n",
       "      <td>AUTOMOBILE</td>\n",
       "      <td>APARTMENT</td>\n",
       "      <td>False</td>\n",
       "      <td>True</td>\n",
       "      <td>2020</td>\n",
       "      <td>03/25/2020 03:47:29 PM</td>\n",
       "    </tr>\n",
       "    <tr>\n",
       "      <th>4</th>\n",
       "      <td>11863808</td>\n",
       "      <td>10/05/2019 06:30:00 PM</td>\n",
       "      <td>0810</td>\n",
       "      <td>THEFT</td>\n",
       "      <td>OVER $500</td>\n",
       "      <td>RESIDENCE</td>\n",
       "      <td>False</td>\n",
       "      <td>False</td>\n",
       "      <td>2019</td>\n",
       "      <td>10/20/2019 03:56:02 PM</td>\n",
       "    </tr>\n",
       "  </tbody>\n",
       "</table>\n",
       "</div>"
      ],
      "text/plain": [
       "         ID                    Date  IUCR         Primary Type  \\\n",
       "0  12014684  03/17/2020 09:30:00 PM  0820                THEFT   \n",
       "1  11864018  09/24/2019 08:00:00 AM  1154   DECEPTIVE PRACTICE   \n",
       "2  11859805  10/13/2019 08:30:00 PM  0860                THEFT   \n",
       "3  12012127  03/18/2020 02:03:00 AM  0910  MOTOR VEHICLE THEFT   \n",
       "4  11863808  10/05/2019 06:30:00 PM  0810                THEFT   \n",
       "\n",
       "                               Description          Location Description  \\\n",
       "0                           $500 AND UNDER                        STREET   \n",
       "1  FINANCIAL IDENTITY THEFT $300 AND UNDER  COMMERCIAL / BUSINESS OFFICE   \n",
       "2                             RETAIL THEFT            GROCERY FOOD STORE   \n",
       "3                               AUTOMOBILE                     APARTMENT   \n",
       "4                                OVER $500                     RESIDENCE   \n",
       "\n",
       "   Arrest  Domestic  Year              Updated On  \n",
       "0   False     False  2020  03/25/2020 03:45:43 PM  \n",
       "1   False     False  2019  10/20/2019 03:56:02 PM  \n",
       "2   False     False  2019  10/20/2019 04:03:03 PM  \n",
       "3   False      True  2020  03/25/2020 03:47:29 PM  \n",
       "4   False     False  2019  10/20/2019 03:56:02 PM  "
      ]
     },
     "execution_count": 3,
     "metadata": {},
     "output_type": "execute_result"
    }
   ],
   "source": [
    "df.head()"
   ]
  },
  {
   "cell_type": "code",
   "execution_count": 4,
   "metadata": {
    "scrolled": true
   },
   "outputs": [],
   "source": [
    "from pandas_profiling import ProfileReport"
   ]
  },
  {
   "cell_type": "code",
   "execution_count": 5,
   "metadata": {},
   "outputs": [
    {
     "name": "stdout",
     "output_type": "stream",
     "text": [
      "Collecting package metadata (current_repodata.json): ...working... done\n",
      "Solving environment: ...working... done\n",
      "\n",
      "# All requested packages already installed.\n",
      "\n"
     ]
    }
   ],
   "source": [
    "import sys\n",
    "!conda install --yes --prefix {sys.prefix} pandas-profiling"
   ]
  },
  {
   "cell_type": "code",
   "execution_count": 6,
   "metadata": {},
   "outputs": [],
   "source": [
    "prof=ProfileReport(df)"
   ]
  },
  {
   "cell_type": "code",
   "execution_count": 7,
   "metadata": {},
   "outputs": [
    {
     "data": {
      "application/vnd.jupyter.widget-view+json": {
       "model_id": "c32af268d1be41c8bded5fc2fa8cfd3a",
       "version_major": 2,
       "version_minor": 0
      },
      "text/plain": [
       "Summarize dataset:   0%|          | 0/24 [00:00<?, ?it/s]"
      ]
     },
     "metadata": {},
     "output_type": "display_data"
    },
    {
     "name": "stderr",
     "output_type": "stream",
     "text": [
      "D:\\myfolder\\anaconda\\lib\\site-packages\\scipy\\stats\\stats.py:4594: RuntimeWarning: overflow encountered in longlong_scalars\n",
      "  (2 * xtie * ytie) / m + x0 * y0 / (9 * m * (size - 2)))\n"
     ]
    },
    {
     "data": {
      "application/vnd.jupyter.widget-view+json": {
       "model_id": "ff4e125934d84078b3071255c7931e9c",
       "version_major": 2,
       "version_minor": 0
      },
      "text/plain": [
       "Generate report structure:   0%|          | 0/1 [00:00<?, ?it/s]"
      ]
     },
     "metadata": {},
     "output_type": "display_data"
    },
    {
     "data": {
      "application/vnd.jupyter.widget-view+json": {
       "model_id": "add2ed30b295435b82a43aa2db77f0e6",
       "version_major": 2,
       "version_minor": 0
      },
      "text/plain": [
       "Render HTML:   0%|          | 0/1 [00:00<?, ?it/s]"
      ]
     },
     "metadata": {},
     "output_type": "display_data"
    },
    {
     "data": {
      "application/vnd.jupyter.widget-view+json": {
       "model_id": "9732a255dee8480c9af73b4221d12a32",
       "version_major": 2,
       "version_minor": 0
      },
      "text/plain": [
       "Export report to file:   0%|          | 0/1 [00:00<?, ?it/s]"
      ]
     },
     "metadata": {},
     "output_type": "display_data"
    }
   ],
   "source": [
    "prof.to_file(output_file='output.html')"
   ]
  },
  {
   "cell_type": "code",
   "execution_count": 8,
   "metadata": {
    "scrolled": true
   },
   "outputs": [
    {
     "data": {
      "application/vnd.jupyter.widget-view+json": {
       "model_id": "",
       "version_major": 2,
       "version_minor": 0
      },
      "text/plain": [
       "Render widgets:   0%|          | 0/1 [00:00<?, ?it/s]"
      ]
     },
     "metadata": {},
     "output_type": "display_data"
    },
    {
     "data": {
      "application/vnd.jupyter.widget-view+json": {
       "model_id": "60c14f787df1486aaf45f32dbeb0d57d",
       "version_major": 2,
       "version_minor": 0
      },
      "text/plain": [
       "VBox(children=(Tab(children=(Tab(children=(GridBox(children=(VBox(children=(GridspecLayout(children=(HTML(valu…"
      ]
     },
     "metadata": {},
     "output_type": "display_data"
    }
   ],
   "source": [
    "prof.to_widgets()"
   ]
  },
  {
   "cell_type": "code",
   "execution_count": null,
   "metadata": {},
   "outputs": [],
   "source": []
  },
  {
   "cell_type": "code",
   "execution_count": 9,
   "metadata": {},
   "outputs": [
    {
     "data": {
      "text/html": [
       "<div>\n",
       "<style scoped>\n",
       "    .dataframe tbody tr th:only-of-type {\n",
       "        vertical-align: middle;\n",
       "    }\n",
       "\n",
       "    .dataframe tbody tr th {\n",
       "        vertical-align: top;\n",
       "    }\n",
       "\n",
       "    .dataframe thead th {\n",
       "        text-align: right;\n",
       "    }\n",
       "</style>\n",
       "<table border=\"1\" class=\"dataframe\">\n",
       "  <thead>\n",
       "    <tr style=\"text-align: right;\">\n",
       "      <th></th>\n",
       "      <th>ID</th>\n",
       "      <th>Date</th>\n",
       "      <th>IUCR</th>\n",
       "      <th>Primary Type</th>\n",
       "      <th>Description</th>\n",
       "      <th>Location Description</th>\n",
       "      <th>Arrest</th>\n",
       "      <th>Domestic</th>\n",
       "      <th>Year</th>\n",
       "      <th>Updated On</th>\n",
       "    </tr>\n",
       "  </thead>\n",
       "  <tbody>\n",
       "    <tr>\n",
       "      <th>0</th>\n",
       "      <td>12014684</td>\n",
       "      <td>03/17/2020 09:30:00 PM</td>\n",
       "      <td>0820</td>\n",
       "      <td>THEFT</td>\n",
       "      <td>$500 AND UNDER</td>\n",
       "      <td>STREET</td>\n",
       "      <td>False</td>\n",
       "      <td>False</td>\n",
       "      <td>2020</td>\n",
       "      <td>03/25/2020 03:45:43 PM</td>\n",
       "    </tr>\n",
       "    <tr>\n",
       "      <th>1</th>\n",
       "      <td>11864018</td>\n",
       "      <td>09/24/2019 08:00:00 AM</td>\n",
       "      <td>1154</td>\n",
       "      <td>DECEPTIVE PRACTICE</td>\n",
       "      <td>FINANCIAL IDENTITY THEFT $300 AND UNDER</td>\n",
       "      <td>COMMERCIAL / BUSINESS OFFICE</td>\n",
       "      <td>False</td>\n",
       "      <td>False</td>\n",
       "      <td>2019</td>\n",
       "      <td>10/20/2019 03:56:02 PM</td>\n",
       "    </tr>\n",
       "    <tr>\n",
       "      <th>2</th>\n",
       "      <td>11859805</td>\n",
       "      <td>10/13/2019 08:30:00 PM</td>\n",
       "      <td>0860</td>\n",
       "      <td>THEFT</td>\n",
       "      <td>RETAIL THEFT</td>\n",
       "      <td>GROCERY FOOD STORE</td>\n",
       "      <td>False</td>\n",
       "      <td>False</td>\n",
       "      <td>2019</td>\n",
       "      <td>10/20/2019 04:03:03 PM</td>\n",
       "    </tr>\n",
       "    <tr>\n",
       "      <th>3</th>\n",
       "      <td>12012127</td>\n",
       "      <td>03/18/2020 02:03:00 AM</td>\n",
       "      <td>0910</td>\n",
       "      <td>MOTOR VEHICLE THEFT</td>\n",
       "      <td>AUTOMOBILE</td>\n",
       "      <td>APARTMENT</td>\n",
       "      <td>False</td>\n",
       "      <td>True</td>\n",
       "      <td>2020</td>\n",
       "      <td>03/25/2020 03:47:29 PM</td>\n",
       "    </tr>\n",
       "    <tr>\n",
       "      <th>4</th>\n",
       "      <td>11863808</td>\n",
       "      <td>10/05/2019 06:30:00 PM</td>\n",
       "      <td>0810</td>\n",
       "      <td>THEFT</td>\n",
       "      <td>OVER $500</td>\n",
       "      <td>RESIDENCE</td>\n",
       "      <td>False</td>\n",
       "      <td>False</td>\n",
       "      <td>2019</td>\n",
       "      <td>10/20/2019 03:56:02 PM</td>\n",
       "    </tr>\n",
       "    <tr>\n",
       "      <th>...</th>\n",
       "      <td>...</td>\n",
       "      <td>...</td>\n",
       "      <td>...</td>\n",
       "      <td>...</td>\n",
       "      <td>...</td>\n",
       "      <td>...</td>\n",
       "      <td>...</td>\n",
       "      <td>...</td>\n",
       "      <td>...</td>\n",
       "      <td>...</td>\n",
       "    </tr>\n",
       "    <tr>\n",
       "      <th>477772</th>\n",
       "      <td>12275971</td>\n",
       "      <td>01/14/2021 09:00:00 AM</td>\n",
       "      <td>1154</td>\n",
       "      <td>DECEPTIVE PRACTICE</td>\n",
       "      <td>FINANCIAL IDENTITY THEFT $300 AND UNDER</td>\n",
       "      <td>RESIDENCE</td>\n",
       "      <td>False</td>\n",
       "      <td>False</td>\n",
       "      <td>2021</td>\n",
       "      <td>01/23/2021 03:54:52 PM</td>\n",
       "    </tr>\n",
       "    <tr>\n",
       "      <th>477773</th>\n",
       "      <td>12275660</td>\n",
       "      <td>02/01/2019 07:00:00 AM</td>\n",
       "      <td>2825</td>\n",
       "      <td>OTHER OFFENSE</td>\n",
       "      <td>HARASSMENT BY TELEPHONE</td>\n",
       "      <td>COMMERCIAL / BUSINESS OFFICE</td>\n",
       "      <td>False</td>\n",
       "      <td>False</td>\n",
       "      <td>2019</td>\n",
       "      <td>01/23/2021 03:54:52 PM</td>\n",
       "    </tr>\n",
       "    <tr>\n",
       "      <th>477774</th>\n",
       "      <td>12271896</td>\n",
       "      <td>01/16/2021 01:00:00 PM</td>\n",
       "      <td>0620</td>\n",
       "      <td>BURGLARY</td>\n",
       "      <td>UNLAWFUL ENTRY</td>\n",
       "      <td>APARTMENT</td>\n",
       "      <td>False</td>\n",
       "      <td>False</td>\n",
       "      <td>2021</td>\n",
       "      <td>01/23/2021 03:54:52 PM</td>\n",
       "    </tr>\n",
       "    <tr>\n",
       "      <th>477775</th>\n",
       "      <td>12271349</td>\n",
       "      <td>01/16/2021 09:13:00 PM</td>\n",
       "      <td>0325</td>\n",
       "      <td>ROBBERY</td>\n",
       "      <td>VEHICULAR HIJACKING</td>\n",
       "      <td>ALLEY</td>\n",
       "      <td>False</td>\n",
       "      <td>False</td>\n",
       "      <td>2021</td>\n",
       "      <td>01/23/2021 03:54:52 PM</td>\n",
       "    </tr>\n",
       "    <tr>\n",
       "      <th>477776</th>\n",
       "      <td>12271006</td>\n",
       "      <td>01/16/2021 11:26:00 AM</td>\n",
       "      <td>1822</td>\n",
       "      <td>NARCOTICS</td>\n",
       "      <td>MANUFACTURE / DELIVER - CANNABIS OVER 10 GRAMS</td>\n",
       "      <td>STREET</td>\n",
       "      <td>True</td>\n",
       "      <td>False</td>\n",
       "      <td>2021</td>\n",
       "      <td>01/23/2021 03:54:52 PM</td>\n",
       "    </tr>\n",
       "  </tbody>\n",
       "</table>\n",
       "<p>475488 rows × 10 columns</p>\n",
       "</div>"
      ],
      "text/plain": [
       "              ID                    Date  IUCR         Primary Type  \\\n",
       "0       12014684  03/17/2020 09:30:00 PM  0820                THEFT   \n",
       "1       11864018  09/24/2019 08:00:00 AM  1154   DECEPTIVE PRACTICE   \n",
       "2       11859805  10/13/2019 08:30:00 PM  0860                THEFT   \n",
       "3       12012127  03/18/2020 02:03:00 AM  0910  MOTOR VEHICLE THEFT   \n",
       "4       11863808  10/05/2019 06:30:00 PM  0810                THEFT   \n",
       "...          ...                     ...   ...                  ...   \n",
       "477772  12275971  01/14/2021 09:00:00 AM  1154   DECEPTIVE PRACTICE   \n",
       "477773  12275660  02/01/2019 07:00:00 AM  2825        OTHER OFFENSE   \n",
       "477774  12271896  01/16/2021 01:00:00 PM  0620             BURGLARY   \n",
       "477775  12271349  01/16/2021 09:13:00 PM  0325              ROBBERY   \n",
       "477776  12271006  01/16/2021 11:26:00 AM  1822            NARCOTICS   \n",
       "\n",
       "                                           Description  \\\n",
       "0                                       $500 AND UNDER   \n",
       "1              FINANCIAL IDENTITY THEFT $300 AND UNDER   \n",
       "2                                         RETAIL THEFT   \n",
       "3                                           AUTOMOBILE   \n",
       "4                                            OVER $500   \n",
       "...                                                ...   \n",
       "477772         FINANCIAL IDENTITY THEFT $300 AND UNDER   \n",
       "477773                         HARASSMENT BY TELEPHONE   \n",
       "477774                                  UNLAWFUL ENTRY   \n",
       "477775                             VEHICULAR HIJACKING   \n",
       "477776  MANUFACTURE / DELIVER - CANNABIS OVER 10 GRAMS   \n",
       "\n",
       "                Location Description  Arrest  Domestic  Year  \\\n",
       "0                             STREET   False     False  2020   \n",
       "1       COMMERCIAL / BUSINESS OFFICE   False     False  2019   \n",
       "2                 GROCERY FOOD STORE   False     False  2019   \n",
       "3                          APARTMENT   False      True  2020   \n",
       "4                          RESIDENCE   False     False  2019   \n",
       "...                              ...     ...       ...   ...   \n",
       "477772                     RESIDENCE   False     False  2021   \n",
       "477773  COMMERCIAL / BUSINESS OFFICE   False     False  2019   \n",
       "477774                     APARTMENT   False     False  2021   \n",
       "477775                         ALLEY   False     False  2021   \n",
       "477776                        STREET    True     False  2021   \n",
       "\n",
       "                    Updated On  \n",
       "0       03/25/2020 03:45:43 PM  \n",
       "1       10/20/2019 03:56:02 PM  \n",
       "2       10/20/2019 04:03:03 PM  \n",
       "3       03/25/2020 03:47:29 PM  \n",
       "4       10/20/2019 03:56:02 PM  \n",
       "...                        ...  \n",
       "477772  01/23/2021 03:54:52 PM  \n",
       "477773  01/23/2021 03:54:52 PM  \n",
       "477774  01/23/2021 03:54:52 PM  \n",
       "477775  01/23/2021 03:54:52 PM  \n",
       "477776  01/23/2021 03:54:52 PM  \n",
       "\n",
       "[475488 rows x 10 columns]"
      ]
     },
     "execution_count": 9,
     "metadata": {},
     "output_type": "execute_result"
    }
   ],
   "source": [
    "df.dropna()"
   ]
  },
  {
   "cell_type": "code",
   "execution_count": 10,
   "metadata": {},
   "outputs": [
    {
     "name": "stdout",
     "output_type": "stream",
     "text": [
      "{'encoding': 'ascii', 'confidence': 1.0, 'language': ''}\n"
     ]
    }
   ],
   "source": [
    "import chardet \n",
    "with open(\"crime rate analysis.csv\",'rb') as rawdata:  result = chardet.detect(rawdata.read(10000))  # check what the character encoding might be  \n",
    "print(result)"
   ]
  },
  {
   "cell_type": "code",
   "execution_count": 11,
   "metadata": {},
   "outputs": [
    {
     "name": "stdout",
     "output_type": "stream",
     "text": [
      "{'encoding': 'ascii', 'confidence': 1.0, 'language': ''}\n"
     ]
    }
   ],
   "source": [
    "import chardet \n",
    "with open(\"crime rate analysis.csv\",'rb') as rawdata:  result = chardet.detect(rawdata.read(10000))  # check what the character encoding might be  \n",
    "print(result)"
   ]
  },
  {
   "cell_type": "code",
   "execution_count": 12,
   "metadata": {},
   "outputs": [
    {
     "data": {
      "text/plain": [
       "(477777, 10)"
      ]
     },
     "execution_count": 12,
     "metadata": {},
     "output_type": "execute_result"
    }
   ],
   "source": [
    "df.shape"
   ]
  },
  {
   "cell_type": "code",
   "execution_count": 13,
   "metadata": {},
   "outputs": [],
   "source": [
    "import datetime\n",
    "df[\"Date\"]=pd.to_datetime(df[\"Date\"])\n",
    "df[\"Month\"]=df[\"Date\"].dt.month\n",
    "df[\"Day\"]=df[\"Date\"].dt.day\n",
    "df[\"Hour\"]=df[\"Date\"].dt.hour"
   ]
  },
  {
   "cell_type": "code",
   "execution_count": 14,
   "metadata": {},
   "outputs": [],
   "source": [
    "df.drop([\"Date\",\"ID\",\"Description\"], axis=1, inplace=True)"
   ]
  },
  {
   "cell_type": "code",
   "execution_count": 15,
   "metadata": {},
   "outputs": [
    {
     "data": {
      "text/plain": [
       "THEFT                                104630\n",
       "BATTERY                               92325\n",
       "CRIMINAL DAMAGE                       52444\n",
       "ASSAULT                               39525\n",
       "DECEPTIVE PRACTICE                    36426\n",
       "OTHER OFFENSE                         29623\n",
       "NARCOTICS                             22581\n",
       "MOTOR VEHICLE THEFT                   19312\n",
       "BURGLARY                              18602\n",
       "ROBBERY                               16236\n",
       "WEAPONS VIOLATION                     15185\n",
       "CRIMINAL TRESPASS                     11130\n",
       "OFFENSE INVOLVING CHILDREN             4266\n",
       "PUBLIC PEACE VIOLATION                 2815\n",
       "SEX OFFENSE                            2261\n",
       "INTERFERENCE WITH PUBLIC OFFICER       2224\n",
       "CRIMINAL SEXUAL ASSAULT                1773\n",
       "HOMICIDE                               1317\n",
       "CRIM SEXUAL ASSAULT                    1023\n",
       "ARSON                                   969\n",
       "PROSTITUTION                            959\n",
       "STALKING                                440\n",
       "LIQUOR LAW VIOLATION                    376\n",
       "CONCEALED CARRY LICENSE VIOLATION       370\n",
       "INTIMIDATION                            331\n",
       "KIDNAPPING                              296\n",
       "GAMBLING                                167\n",
       "OBSCENITY                               113\n",
       "PUBLIC INDECENCY                         20\n",
       "HUMAN TRAFFICKING                        18\n",
       "OTHER NARCOTIC VIOLATION                 14\n",
       "NON-CRIMINAL                              5\n",
       "RITUALISM                                 1\n",
       "Name: Primary Type, dtype: int64"
      ]
     },
     "execution_count": 15,
     "metadata": {},
     "output_type": "execute_result"
    }
   ],
   "source": [
    "df[\"Primary Type\"].value_counts()"
   ]
  },
  {
   "cell_type": "code",
   "execution_count": 16,
   "metadata": {},
   "outputs": [
    {
     "ename": "SyntaxError",
     "evalue": "invalid syntax (<ipython-input-16-b566b5ac4034>, line 4)",
     "output_type": "error",
     "traceback": [
      "\u001b[1;36m  File \u001b[1;32m\"<ipython-input-16-b566b5ac4034>\"\u001b[1;36m, line \u001b[1;32m4\u001b[0m\n\u001b[1;33m    elif x==\"\"\u001b[0m\n\u001b[1;37m              ^\u001b[0m\n\u001b[1;31mSyntaxError\u001b[0m\u001b[1;31m:\u001b[0m invalid syntax\n"
     ]
    }
   ],
   "source": [
    "def decompose():\n",
    "    if x==\"THEFT\":\n",
    "        return \"THEFT\"\n",
    "    elif x==\"\""
   ]
  },
  {
   "cell_type": "code",
   "execution_count": 17,
   "metadata": {},
   "outputs": [
    {
     "data": {
      "text/html": [
       "<div>\n",
       "<style scoped>\n",
       "    .dataframe tbody tr th:only-of-type {\n",
       "        vertical-align: middle;\n",
       "    }\n",
       "\n",
       "    .dataframe tbody tr th {\n",
       "        vertical-align: top;\n",
       "    }\n",
       "\n",
       "    .dataframe thead th {\n",
       "        text-align: right;\n",
       "    }\n",
       "</style>\n",
       "<table border=\"1\" class=\"dataframe\">\n",
       "  <thead>\n",
       "    <tr style=\"text-align: right;\">\n",
       "      <th></th>\n",
       "      <th>IUCR</th>\n",
       "      <th>Primary Type</th>\n",
       "      <th>Location Description</th>\n",
       "      <th>Arrest</th>\n",
       "      <th>Domestic</th>\n",
       "      <th>Year</th>\n",
       "      <th>Updated On</th>\n",
       "      <th>Month</th>\n",
       "      <th>Day</th>\n",
       "      <th>Hour</th>\n",
       "    </tr>\n",
       "  </thead>\n",
       "  <tbody>\n",
       "    <tr>\n",
       "      <th>0</th>\n",
       "      <td>0820</td>\n",
       "      <td>THEFT</td>\n",
       "      <td>STREET</td>\n",
       "      <td>False</td>\n",
       "      <td>False</td>\n",
       "      <td>2020</td>\n",
       "      <td>03/25/2020 03:45:43 PM</td>\n",
       "      <td>3</td>\n",
       "      <td>17</td>\n",
       "      <td>21</td>\n",
       "    </tr>\n",
       "    <tr>\n",
       "      <th>1</th>\n",
       "      <td>1154</td>\n",
       "      <td>DECEPTIVE PRACTICE</td>\n",
       "      <td>COMMERCIAL / BUSINESS OFFICE</td>\n",
       "      <td>False</td>\n",
       "      <td>False</td>\n",
       "      <td>2019</td>\n",
       "      <td>10/20/2019 03:56:02 PM</td>\n",
       "      <td>9</td>\n",
       "      <td>24</td>\n",
       "      <td>8</td>\n",
       "    </tr>\n",
       "    <tr>\n",
       "      <th>2</th>\n",
       "      <td>0860</td>\n",
       "      <td>THEFT</td>\n",
       "      <td>GROCERY FOOD STORE</td>\n",
       "      <td>False</td>\n",
       "      <td>False</td>\n",
       "      <td>2019</td>\n",
       "      <td>10/20/2019 04:03:03 PM</td>\n",
       "      <td>10</td>\n",
       "      <td>13</td>\n",
       "      <td>20</td>\n",
       "    </tr>\n",
       "    <tr>\n",
       "      <th>3</th>\n",
       "      <td>0910</td>\n",
       "      <td>MOTOR VEHICLE THEFT</td>\n",
       "      <td>APARTMENT</td>\n",
       "      <td>False</td>\n",
       "      <td>True</td>\n",
       "      <td>2020</td>\n",
       "      <td>03/25/2020 03:47:29 PM</td>\n",
       "      <td>3</td>\n",
       "      <td>18</td>\n",
       "      <td>2</td>\n",
       "    </tr>\n",
       "    <tr>\n",
       "      <th>4</th>\n",
       "      <td>0810</td>\n",
       "      <td>THEFT</td>\n",
       "      <td>RESIDENCE</td>\n",
       "      <td>False</td>\n",
       "      <td>False</td>\n",
       "      <td>2019</td>\n",
       "      <td>10/20/2019 03:56:02 PM</td>\n",
       "      <td>10</td>\n",
       "      <td>5</td>\n",
       "      <td>18</td>\n",
       "    </tr>\n",
       "  </tbody>\n",
       "</table>\n",
       "</div>"
      ],
      "text/plain": [
       "   IUCR         Primary Type          Location Description  Arrest  Domestic  \\\n",
       "0  0820                THEFT                        STREET   False     False   \n",
       "1  1154   DECEPTIVE PRACTICE  COMMERCIAL / BUSINESS OFFICE   False     False   \n",
       "2  0860                THEFT            GROCERY FOOD STORE   False     False   \n",
       "3  0910  MOTOR VEHICLE THEFT                     APARTMENT   False      True   \n",
       "4  0810                THEFT                     RESIDENCE   False     False   \n",
       "\n",
       "   Year              Updated On  Month  Day  Hour  \n",
       "0  2020  03/25/2020 03:45:43 PM      3   17    21  \n",
       "1  2019  10/20/2019 03:56:02 PM      9   24     8  \n",
       "2  2019  10/20/2019 04:03:03 PM     10   13    20  \n",
       "3  2020  03/25/2020 03:47:29 PM      3   18     2  \n",
       "4  2019  10/20/2019 03:56:02 PM     10    5    18  "
      ]
     },
     "execution_count": 17,
     "metadata": {},
     "output_type": "execute_result"
    }
   ],
   "source": [
    "df.head()"
   ]
  },
  {
   "cell_type": "code",
   "execution_count": 18,
   "metadata": {},
   "outputs": [
    {
     "name": "stdout",
     "output_type": "stream",
     "text": [
      "<class 'pandas.core.frame.DataFrame'>\n",
      "RangeIndex: 477777 entries, 0 to 477776\n",
      "Data columns (total 10 columns):\n",
      " #   Column                Non-Null Count   Dtype \n",
      "---  ------                --------------   ----- \n",
      " 0   IUCR                  477777 non-null  object\n",
      " 1   Primary Type          477777 non-null  object\n",
      " 2   Location Description  475488 non-null  object\n",
      " 3   Arrest                477777 non-null  bool  \n",
      " 4   Domestic              477777 non-null  bool  \n",
      " 5   Year                  477777 non-null  int64 \n",
      " 6   Updated On            477777 non-null  object\n",
      " 7   Month                 477777 non-null  int64 \n",
      " 8   Day                   477777 non-null  int64 \n",
      " 9   Hour                  477777 non-null  int64 \n",
      "dtypes: bool(2), int64(4), object(4)\n",
      "memory usage: 30.1+ MB\n"
     ]
    }
   ],
   "source": [
    "df.info()"
   ]
  },
  {
   "cell_type": "code",
   "execution_count": 19,
   "metadata": {},
   "outputs": [
    {
     "data": {
      "text/html": [
       "<div>\n",
       "<style scoped>\n",
       "    .dataframe tbody tr th:only-of-type {\n",
       "        vertical-align: middle;\n",
       "    }\n",
       "\n",
       "    .dataframe tbody tr th {\n",
       "        vertical-align: top;\n",
       "    }\n",
       "\n",
       "    .dataframe thead th {\n",
       "        text-align: right;\n",
       "    }\n",
       "</style>\n",
       "<table border=\"1\" class=\"dataframe\">\n",
       "  <thead>\n",
       "    <tr style=\"text-align: right;\">\n",
       "      <th></th>\n",
       "      <th>IUCR</th>\n",
       "      <th>Primary Type</th>\n",
       "      <th>Location Description</th>\n",
       "      <th>Arrest</th>\n",
       "      <th>Domestic</th>\n",
       "      <th>Year</th>\n",
       "      <th>Updated On</th>\n",
       "      <th>Month</th>\n",
       "      <th>Day</th>\n",
       "      <th>Hour</th>\n",
       "    </tr>\n",
       "  </thead>\n",
       "  <tbody>\n",
       "    <tr>\n",
       "      <th>0</th>\n",
       "      <td>0820</td>\n",
       "      <td>THEFT</td>\n",
       "      <td>STREET</td>\n",
       "      <td>False</td>\n",
       "      <td>False</td>\n",
       "      <td>2020</td>\n",
       "      <td>03/25/2020 03:45:43 PM</td>\n",
       "      <td>3</td>\n",
       "      <td>17</td>\n",
       "      <td>21</td>\n",
       "    </tr>\n",
       "    <tr>\n",
       "      <th>1</th>\n",
       "      <td>1154</td>\n",
       "      <td>DECEPTIVE PRACTICE</td>\n",
       "      <td>COMMERCIAL / BUSINESS OFFICE</td>\n",
       "      <td>False</td>\n",
       "      <td>False</td>\n",
       "      <td>2019</td>\n",
       "      <td>10/20/2019 03:56:02 PM</td>\n",
       "      <td>9</td>\n",
       "      <td>24</td>\n",
       "      <td>8</td>\n",
       "    </tr>\n",
       "    <tr>\n",
       "      <th>2</th>\n",
       "      <td>0860</td>\n",
       "      <td>THEFT</td>\n",
       "      <td>GROCERY FOOD STORE</td>\n",
       "      <td>False</td>\n",
       "      <td>False</td>\n",
       "      <td>2019</td>\n",
       "      <td>10/20/2019 04:03:03 PM</td>\n",
       "      <td>10</td>\n",
       "      <td>13</td>\n",
       "      <td>20</td>\n",
       "    </tr>\n",
       "    <tr>\n",
       "      <th>3</th>\n",
       "      <td>0910</td>\n",
       "      <td>MOTOR VEHICLE THEFT</td>\n",
       "      <td>APARTMENT</td>\n",
       "      <td>False</td>\n",
       "      <td>True</td>\n",
       "      <td>2020</td>\n",
       "      <td>03/25/2020 03:47:29 PM</td>\n",
       "      <td>3</td>\n",
       "      <td>18</td>\n",
       "      <td>2</td>\n",
       "    </tr>\n",
       "    <tr>\n",
       "      <th>4</th>\n",
       "      <td>0810</td>\n",
       "      <td>THEFT</td>\n",
       "      <td>RESIDENCE</td>\n",
       "      <td>False</td>\n",
       "      <td>False</td>\n",
       "      <td>2019</td>\n",
       "      <td>10/20/2019 03:56:02 PM</td>\n",
       "      <td>10</td>\n",
       "      <td>5</td>\n",
       "      <td>18</td>\n",
       "    </tr>\n",
       "    <tr>\n",
       "      <th>...</th>\n",
       "      <td>...</td>\n",
       "      <td>...</td>\n",
       "      <td>...</td>\n",
       "      <td>...</td>\n",
       "      <td>...</td>\n",
       "      <td>...</td>\n",
       "      <td>...</td>\n",
       "      <td>...</td>\n",
       "      <td>...</td>\n",
       "      <td>...</td>\n",
       "    </tr>\n",
       "    <tr>\n",
       "      <th>477772</th>\n",
       "      <td>1154</td>\n",
       "      <td>DECEPTIVE PRACTICE</td>\n",
       "      <td>RESIDENCE</td>\n",
       "      <td>False</td>\n",
       "      <td>False</td>\n",
       "      <td>2021</td>\n",
       "      <td>01/23/2021 03:54:52 PM</td>\n",
       "      <td>1</td>\n",
       "      <td>14</td>\n",
       "      <td>9</td>\n",
       "    </tr>\n",
       "    <tr>\n",
       "      <th>477773</th>\n",
       "      <td>2825</td>\n",
       "      <td>OTHER OFFENSE</td>\n",
       "      <td>COMMERCIAL / BUSINESS OFFICE</td>\n",
       "      <td>False</td>\n",
       "      <td>False</td>\n",
       "      <td>2019</td>\n",
       "      <td>01/23/2021 03:54:52 PM</td>\n",
       "      <td>2</td>\n",
       "      <td>1</td>\n",
       "      <td>7</td>\n",
       "    </tr>\n",
       "    <tr>\n",
       "      <th>477774</th>\n",
       "      <td>0620</td>\n",
       "      <td>BURGLARY</td>\n",
       "      <td>APARTMENT</td>\n",
       "      <td>False</td>\n",
       "      <td>False</td>\n",
       "      <td>2021</td>\n",
       "      <td>01/23/2021 03:54:52 PM</td>\n",
       "      <td>1</td>\n",
       "      <td>16</td>\n",
       "      <td>13</td>\n",
       "    </tr>\n",
       "    <tr>\n",
       "      <th>477775</th>\n",
       "      <td>0325</td>\n",
       "      <td>ROBBERY</td>\n",
       "      <td>ALLEY</td>\n",
       "      <td>False</td>\n",
       "      <td>False</td>\n",
       "      <td>2021</td>\n",
       "      <td>01/23/2021 03:54:52 PM</td>\n",
       "      <td>1</td>\n",
       "      <td>16</td>\n",
       "      <td>21</td>\n",
       "    </tr>\n",
       "    <tr>\n",
       "      <th>477776</th>\n",
       "      <td>1822</td>\n",
       "      <td>NARCOTICS</td>\n",
       "      <td>STREET</td>\n",
       "      <td>True</td>\n",
       "      <td>False</td>\n",
       "      <td>2021</td>\n",
       "      <td>01/23/2021 03:54:52 PM</td>\n",
       "      <td>1</td>\n",
       "      <td>16</td>\n",
       "      <td>11</td>\n",
       "    </tr>\n",
       "  </tbody>\n",
       "</table>\n",
       "<p>475488 rows × 10 columns</p>\n",
       "</div>"
      ],
      "text/plain": [
       "        IUCR         Primary Type          Location Description  Arrest  \\\n",
       "0       0820                THEFT                        STREET   False   \n",
       "1       1154   DECEPTIVE PRACTICE  COMMERCIAL / BUSINESS OFFICE   False   \n",
       "2       0860                THEFT            GROCERY FOOD STORE   False   \n",
       "3       0910  MOTOR VEHICLE THEFT                     APARTMENT   False   \n",
       "4       0810                THEFT                     RESIDENCE   False   \n",
       "...      ...                  ...                           ...     ...   \n",
       "477772  1154   DECEPTIVE PRACTICE                     RESIDENCE   False   \n",
       "477773  2825        OTHER OFFENSE  COMMERCIAL / BUSINESS OFFICE   False   \n",
       "477774  0620             BURGLARY                     APARTMENT   False   \n",
       "477775  0325              ROBBERY                         ALLEY   False   \n",
       "477776  1822            NARCOTICS                        STREET    True   \n",
       "\n",
       "        Domestic  Year              Updated On  Month  Day  Hour  \n",
       "0          False  2020  03/25/2020 03:45:43 PM      3   17    21  \n",
       "1          False  2019  10/20/2019 03:56:02 PM      9   24     8  \n",
       "2          False  2019  10/20/2019 04:03:03 PM     10   13    20  \n",
       "3           True  2020  03/25/2020 03:47:29 PM      3   18     2  \n",
       "4          False  2019  10/20/2019 03:56:02 PM     10    5    18  \n",
       "...          ...   ...                     ...    ...  ...   ...  \n",
       "477772     False  2021  01/23/2021 03:54:52 PM      1   14     9  \n",
       "477773     False  2019  01/23/2021 03:54:52 PM      2    1     7  \n",
       "477774     False  2021  01/23/2021 03:54:52 PM      1   16    13  \n",
       "477775     False  2021  01/23/2021 03:54:52 PM      1   16    21  \n",
       "477776     False  2021  01/23/2021 03:54:52 PM      1   16    11  \n",
       "\n",
       "[475488 rows x 10 columns]"
      ]
     },
     "execution_count": 19,
     "metadata": {},
     "output_type": "execute_result"
    }
   ],
   "source": [
    "df.dropna()"
   ]
  },
  {
   "cell_type": "code",
   "execution_count": 20,
   "metadata": {},
   "outputs": [
    {
     "data": {
      "text/plain": [
       "array(['THEFT', 'DECEPTIVE PRACTICE', 'MOTOR VEHICLE THEFT',\n",
       "       'CRIMINAL DAMAGE', 'ASSAULT', 'BATTERY', 'OTHER OFFENSE',\n",
       "       'NARCOTICS', 'WEAPONS VIOLATION', 'ROBBERY', 'CRIMINAL TRESPASS',\n",
       "       'BURGLARY', 'INTERFERENCE WITH PUBLIC OFFICER', 'ARSON',\n",
       "       'CRIM SEXUAL ASSAULT', 'CRIMINAL SEXUAL ASSAULT', 'PROSTITUTION',\n",
       "       'PUBLIC PEACE VIOLATION', 'OFFENSE INVOLVING CHILDREN',\n",
       "       'LIQUOR LAW VIOLATION', 'SEX OFFENSE', 'STALKING', 'KIDNAPPING',\n",
       "       'INTIMIDATION', 'CONCEALED CARRY LICENSE VIOLATION', 'HOMICIDE',\n",
       "       'GAMBLING', 'OBSCENITY', 'HUMAN TRAFFICKING', 'NON-CRIMINAL',\n",
       "       'OTHER NARCOTIC VIOLATION', 'PUBLIC INDECENCY', 'RITUALISM'],\n",
       "      dtype=object)"
      ]
     },
     "execution_count": 20,
     "metadata": {},
     "output_type": "execute_result"
    }
   ],
   "source": [
    "df['Primary Type'].unique()"
   ]
  },
  {
   "cell_type": "code",
   "execution_count": 21,
   "metadata": {},
   "outputs": [
    {
     "data": {
      "text/plain": [
       "array(['STREET', 'COMMERCIAL / BUSINESS OFFICE', 'GROCERY FOOD STORE',\n",
       "       'APARTMENT', 'RESIDENCE', 'GAS STATION', 'APPLIANCE STORE',\n",
       "       'RESIDENCE PORCH/HALLWAY', 'OTHER (SPECIFY)', 'RESTAURANT',\n",
       "       'COLLEGE/UNIVERSITY GROUNDS', 'SIDEWALK', 'BAR OR TAVERN',\n",
       "       'HOTEL/MOTEL', 'OTHER', 'ATHLETIC CLUB', 'SMALL RETAIL STORE',\n",
       "       'VEHICLE NON-COMMERCIAL', 'ALLEY', 'ABANDONED BUILDING',\n",
       "       'DEPARTMENT STORE', 'CTA TRAIN',\n",
       "       'VEHICLE - OTHER RIDE SHARE SERVICE (E.G., UBER, LYFT)', 'TAXICAB',\n",
       "       'CTA BUS', 'DRUG STORE', 'RESIDENTIAL YARD (FRONT/BACK)', nan,\n",
       "       'RESIDENCE-GARAGE', 'CONVENIENCE STORE',\n",
       "       'PARKING LOT / GARAGE (NON RESIDENTIAL)',\n",
       "       'PARKING LOT/GARAGE(NON.RESID.)',\n",
       "       'POLICE FACILITY / VEHICLE PARKING LOT', 'PARK PROPERTY',\n",
       "       'CHA APARTMENT', 'AIRPORT TERMINAL UPPER LEVEL - SECURE AREA',\n",
       "       'VEHICLE - COMMERCIAL', 'AUTO / BOAT / RV DEALERSHIP',\n",
       "       'POLICE FACILITY/VEH PARKING LOT', 'HOSPITAL BUILDING/GROUNDS',\n",
       "       'ATM (AUTOMATIC TELLER MACHINE)', 'CTA GARAGE / OTHER PROPERTY',\n",
       "       'SCHOOL, PRIVATE, GROUNDS', 'COIN OPERATED MACHINE',\n",
       "       'SCHOOL, PUBLIC, GROUNDS', 'CHURCH/SYNAGOGUE/PLACE OF WORSHIP',\n",
       "       'GOVERNMENT BUILDING/PROPERTY', 'CTA PLATFORM', 'WAREHOUSE',\n",
       "       'CONSTRUCTION SITE', 'SCHOOL, PUBLIC, BUILDING', 'CTA BUS STOP',\n",
       "       'TAVERN/LIQUOR STORE',\n",
       "       'AIRPORT TERMINAL LOWER LEVEL - NON-SECURE AREA',\n",
       "       'CHA PARKING LOT/GROUNDS', 'SCHOOL, PRIVATE, BUILDING',\n",
       "       'BARBERSHOP', 'RESIDENCE - GARAGE', 'RESIDENCE - PORCH / HALLWAY',\n",
       "       'DRIVEWAY - RESIDENTIAL', 'CHA HALLWAY / STAIRWELL / ELEVATOR',\n",
       "       'VEHICLE - OTHER RIDE SHARE SERVICE (LYFT, UBER, ETC.)',\n",
       "       'FACTORY / MANUFACTURING BUILDING', 'BRIDGE',\n",
       "       'HOSPITAL BUILDING / GROUNDS', 'SCHOOL - PUBLIC BUILDING',\n",
       "       'AIRCRAFT', 'RESIDENCE - YARD (FRONT / BACK)',\n",
       "       'OTHER COMMERCIAL TRANSPORTATION', 'BANK', 'MOVIE HOUSE / THEATER',\n",
       "       'CHA PARKING LOT / GROUNDS', 'CTA STATION',\n",
       "       'MEDICAL/DENTAL OFFICE', 'CHA HALLWAY/STAIRWELL/ELEVATOR',\n",
       "       'AIRPORT EXTERIOR - NON-SECURE AREA',\n",
       "       'NURSING HOME/RETIREMENT HOME', 'PORCH', 'FIRE STATION',\n",
       "       'ANIMAL HOSPITAL', 'VACANT LOT / LAND', 'LIBRARY',\n",
       "       'HIGHWAY/EXPRESSWAY', 'VACANT LOT/LAND',\n",
       "       'NURSING / RETIREMENT HOME', 'CLEANING STORE',\n",
       "       'AIRPORT TERMINAL UPPER LEVEL - NON-SECURE AREA',\n",
       "       'GOVERNMENT BUILDING / PROPERTY', 'HOTEL / MOTEL', 'CAR WASH',\n",
       "       'SCHOOL - PRIVATE BUILDING', 'CURRENCY EXCHANGE',\n",
       "       'SPORTS ARENA/STADIUM', 'AIRPORT VENDING ESTABLISHMENT',\n",
       "       'FACTORY/MANUFACTURING BUILDING', 'VACANT LOT',\n",
       "       'CHURCH / SYNAGOGUE / PLACE OF WORSHIP', 'NEWSSTAND',\n",
       "       'OTHER RAILROAD PROPERTY / TRAIN DEPOT', 'TAVERN / LIQUOR STORE',\n",
       "       'AIRPORT BUILDING NON-TERMINAL - SECURE AREA', 'DAY CARE CENTER',\n",
       "       'AIRPORT EXTERIOR - SECURE AREA',\n",
       "       'LAKEFRONT / WATERFRONT / RIVERBANK', 'BOWLING ALLEY', 'CEMETARY',\n",
       "       'VEHICLE-COMMERCIAL', 'VEHICLE - DELIVERY TRUCK',\n",
       "       'MEDICAL / DENTAL OFFICE', 'AIRPORT PARKING LOT',\n",
       "       'COLLEGE/UNIVERSITY RESIDENCE HALL', 'CTA TRACKS - RIGHT OF WAY',\n",
       "       'JAIL / LOCK-UP FACILITY', 'AIRPORT/AIRCRAFT',\n",
       "       'LAKEFRONT/WATERFRONT/RIVERBANK', 'SCHOOL - PUBLIC GROUNDS',\n",
       "       'MOVIE HOUSE/THEATER', 'PAWN SHOP',\n",
       "       'AIRPORT BUILDING NON-TERMINAL - NON-SECURE AREA',\n",
       "       'FEDERAL BUILDING', 'BOAT/WATERCRAFT',\n",
       "       'COLLEGE / UNIVERSITY - GROUNDS', 'SCHOOL - PRIVATE GROUNDS',\n",
       "       'SPORTS ARENA / STADIUM', 'POOL ROOM',\n",
       "       'OTHER RAILROAD PROP / TRAIN DEPOT',\n",
       "       'COLLEGE / UNIVERSITY - RESIDENCE HALL',\n",
       "       'AIRPORT TERMINAL LOWER LEVEL - SECURE AREA', 'SAVINGS AND LOAN',\n",
       "       'AIRPORT TRANSPORTATION SYSTEM (ATS)', 'CREDIT UNION',\n",
       "       'CTA PARKING LOT / GARAGE / OTHER PROPERTY',\n",
       "       'HIGHWAY / EXPRESSWAY', 'AUTO', 'FOREST PRESERVE', 'KENNEL',\n",
       "       'VEHICLE-COMMERCIAL - TROLLEY BUS', 'FARM',\n",
       "       'AIRPORT TERMINAL MEZZANINE - NON-SECURE AREA', 'HOUSE',\n",
       "       'VEHICLE - COMMERCIAL: ENTERTAINMENT / PARTY BUS', 'YARD',\n",
       "       'PARKING LOT', 'BASEMENT', 'BARBER SHOP/BEAUTY SALON',\n",
       "       'CHA PLAY LOT', 'VEHICLE-COMMERCIAL - ENTERTAINMENT/PARTY BUS',\n",
       "       'RETAIL STORE', 'HOTEL', 'CTA SUBWAY STATION', 'GARAGE',\n",
       "       'HORSE STABLE', 'HALLWAY', 'CHA PARKING LOT', 'BOAT / WATERCRAFT',\n",
       "       'CTA PROPERTY', 'VESTIBULE', 'CTA \"L\" PLATFORM', 'HOSPITAL',\n",
       "       'CLUB', 'LIQUOR STORE', 'CHA HALLWAY', 'RAILROAD PROPERTY',\n",
       "       'TRAILER', 'GAS STATION DRIVE/PROP.', 'CHA GROUNDS', 'STAIRWELL',\n",
       "       'MOTEL', 'LAKE', 'VEHICLE - COMMERCIAL: TROLLEY BUS', 'OFFICE',\n",
       "       'NURSING HOME', 'SCHOOL YARD', 'GANGWAY'], dtype=object)"
      ]
     },
     "execution_count": 21,
     "metadata": {},
     "output_type": "execute_result"
    }
   ],
   "source": [
    "df['Location Description'].unique()"
   ]
  },
  {
   "cell_type": "code",
   "execution_count": 41,
   "metadata": {},
   "outputs": [],
   "source": [
    "year = df.Year.unique()"
   ]
  },
  {
   "cell_type": "code",
   "execution_count": 42,
   "metadata": {},
   "outputs": [],
   "source": [
    "month = df.Month.unique()"
   ]
  },
  {
   "cell_type": "code",
   "execution_count": 36,
   "metadata": {},
   "outputs": [
    {
     "name": "stderr",
     "output_type": "stream",
     "text": [
      "<ipython-input-36-752985fb20ca>:1: UserWarning: Boolean Series key will be reindexed to match DataFrame index.\n",
      "  ran = df[df.Year== 2019][df.Month ==1]\n"
     ]
    }
   ],
   "source": []
  },
  {
   "cell_type": "code",
   "execution_count": 39,
   "metadata": {},
   "outputs": [],
   "source": [
    "index = ran.index"
   ]
  },
  {
   "cell_type": "code",
   "execution_count": 40,
   "metadata": {},
   "outputs": [
    {
     "data": {
      "text/plain": [
       "19632"
      ]
     },
     "execution_count": 40,
     "metadata": {},
     "output_type": "execute_result"
    }
   ],
   "source": [
    "len(index)"
   ]
  },
  {
   "cell_type": "code",
   "execution_count": 45,
   "metadata": {},
   "outputs": [
    {
     "name": "stderr",
     "output_type": "stream",
     "text": [
      "<ipython-input-45-63c2098c8c85>:4: UserWarning: Boolean Series key will be reindexed to match DataFrame index.\n",
      "  ran = df[df.Year== i][df.Month ==j]\n",
      "<ipython-input-45-63c2098c8c85>:4: UserWarning: Boolean Series key will be reindexed to match DataFrame index.\n",
      "  ran = df[df.Year== i][df.Month ==j]\n",
      "<ipython-input-45-63c2098c8c85>:4: UserWarning: Boolean Series key will be reindexed to match DataFrame index.\n",
      "  ran = df[df.Year== i][df.Month ==j]\n",
      "<ipython-input-45-63c2098c8c85>:4: UserWarning: Boolean Series key will be reindexed to match DataFrame index.\n",
      "  ran = df[df.Year== i][df.Month ==j]\n",
      "<ipython-input-45-63c2098c8c85>:4: UserWarning: Boolean Series key will be reindexed to match DataFrame index.\n",
      "  ran = df[df.Year== i][df.Month ==j]\n",
      "<ipython-input-45-63c2098c8c85>:4: UserWarning: Boolean Series key will be reindexed to match DataFrame index.\n",
      "  ran = df[df.Year== i][df.Month ==j]\n",
      "<ipython-input-45-63c2098c8c85>:4: UserWarning: Boolean Series key will be reindexed to match DataFrame index.\n",
      "  ran = df[df.Year== i][df.Month ==j]\n",
      "<ipython-input-45-63c2098c8c85>:4: UserWarning: Boolean Series key will be reindexed to match DataFrame index.\n",
      "  ran = df[df.Year== i][df.Month ==j]\n",
      "<ipython-input-45-63c2098c8c85>:4: UserWarning: Boolean Series key will be reindexed to match DataFrame index.\n",
      "  ran = df[df.Year== i][df.Month ==j]\n",
      "<ipython-input-45-63c2098c8c85>:4: UserWarning: Boolean Series key will be reindexed to match DataFrame index.\n",
      "  ran = df[df.Year== i][df.Month ==j]\n",
      "<ipython-input-45-63c2098c8c85>:4: UserWarning: Boolean Series key will be reindexed to match DataFrame index.\n",
      "  ran = df[df.Year== i][df.Month ==j]\n",
      "<ipython-input-45-63c2098c8c85>:4: UserWarning: Boolean Series key will be reindexed to match DataFrame index.\n",
      "  ran = df[df.Year== i][df.Month ==j]\n",
      "<ipython-input-45-63c2098c8c85>:4: UserWarning: Boolean Series key will be reindexed to match DataFrame index.\n",
      "  ran = df[df.Year== i][df.Month ==j]\n",
      "<ipython-input-45-63c2098c8c85>:4: UserWarning: Boolean Series key will be reindexed to match DataFrame index.\n",
      "  ran = df[df.Year== i][df.Month ==j]\n",
      "<ipython-input-45-63c2098c8c85>:4: UserWarning: Boolean Series key will be reindexed to match DataFrame index.\n",
      "  ran = df[df.Year== i][df.Month ==j]\n",
      "<ipython-input-45-63c2098c8c85>:4: UserWarning: Boolean Series key will be reindexed to match DataFrame index.\n",
      "  ran = df[df.Year== i][df.Month ==j]\n",
      "<ipython-input-45-63c2098c8c85>:4: UserWarning: Boolean Series key will be reindexed to match DataFrame index.\n",
      "  ran = df[df.Year== i][df.Month ==j]\n",
      "<ipython-input-45-63c2098c8c85>:4: UserWarning: Boolean Series key will be reindexed to match DataFrame index.\n",
      "  ran = df[df.Year== i][df.Month ==j]\n",
      "<ipython-input-45-63c2098c8c85>:4: UserWarning: Boolean Series key will be reindexed to match DataFrame index.\n",
      "  ran = df[df.Year== i][df.Month ==j]\n",
      "<ipython-input-45-63c2098c8c85>:4: UserWarning: Boolean Series key will be reindexed to match DataFrame index.\n",
      "  ran = df[df.Year== i][df.Month ==j]\n",
      "<ipython-input-45-63c2098c8c85>:4: UserWarning: Boolean Series key will be reindexed to match DataFrame index.\n",
      "  ran = df[df.Year== i][df.Month ==j]\n",
      "<ipython-input-45-63c2098c8c85>:4: UserWarning: Boolean Series key will be reindexed to match DataFrame index.\n",
      "  ran = df[df.Year== i][df.Month ==j]\n",
      "<ipython-input-45-63c2098c8c85>:4: UserWarning: Boolean Series key will be reindexed to match DataFrame index.\n",
      "  ran = df[df.Year== i][df.Month ==j]\n",
      "<ipython-input-45-63c2098c8c85>:4: UserWarning: Boolean Series key will be reindexed to match DataFrame index.\n",
      "  ran = df[df.Year== i][df.Month ==j]\n",
      "<ipython-input-45-63c2098c8c85>:4: UserWarning: Boolean Series key will be reindexed to match DataFrame index.\n",
      "  ran = df[df.Year== i][df.Month ==j]\n",
      "<ipython-input-45-63c2098c8c85>:4: UserWarning: Boolean Series key will be reindexed to match DataFrame index.\n",
      "  ran = df[df.Year== i][df.Month ==j]\n",
      "<ipython-input-45-63c2098c8c85>:4: UserWarning: Boolean Series key will be reindexed to match DataFrame index.\n",
      "  ran = df[df.Year== i][df.Month ==j]\n",
      "<ipython-input-45-63c2098c8c85>:4: UserWarning: Boolean Series key will be reindexed to match DataFrame index.\n",
      "  ran = df[df.Year== i][df.Month ==j]\n",
      "<ipython-input-45-63c2098c8c85>:4: UserWarning: Boolean Series key will be reindexed to match DataFrame index.\n",
      "  ran = df[df.Year== i][df.Month ==j]\n",
      "<ipython-input-45-63c2098c8c85>:4: UserWarning: Boolean Series key will be reindexed to match DataFrame index.\n",
      "  ran = df[df.Year== i][df.Month ==j]\n",
      "<ipython-input-45-63c2098c8c85>:4: UserWarning: Boolean Series key will be reindexed to match DataFrame index.\n",
      "  ran = df[df.Year== i][df.Month ==j]\n",
      "<ipython-input-45-63c2098c8c85>:4: UserWarning: Boolean Series key will be reindexed to match DataFrame index.\n",
      "  ran = df[df.Year== i][df.Month ==j]\n",
      "<ipython-input-45-63c2098c8c85>:4: UserWarning: Boolean Series key will be reindexed to match DataFrame index.\n",
      "  ran = df[df.Year== i][df.Month ==j]\n",
      "<ipython-input-45-63c2098c8c85>:4: UserWarning: Boolean Series key will be reindexed to match DataFrame index.\n",
      "  ran = df[df.Year== i][df.Month ==j]\n",
      "<ipython-input-45-63c2098c8c85>:4: UserWarning: Boolean Series key will be reindexed to match DataFrame index.\n",
      "  ran = df[df.Year== i][df.Month ==j]\n",
      "<ipython-input-45-63c2098c8c85>:4: UserWarning: Boolean Series key will be reindexed to match DataFrame index.\n",
      "  ran = df[df.Year== i][df.Month ==j]\n"
     ]
    }
   ],
   "source": [
    "a = []\n",
    "for i in year:\n",
    "    for j in month:\n",
    "        ran = df[df.Year== i][df.Month ==j]\n",
    "        count = len(ran.index)\n",
    "        a.append([count,i,j])"
   ]
  },
  {
   "cell_type": "code",
   "execution_count": 46,
   "metadata": {},
   "outputs": [
    {
     "data": {
      "text/plain": [
       "[24828, 2019, 7]"
      ]
     },
     "execution_count": 46,
     "metadata": {},
     "output_type": "execute_result"
    }
   ],
   "source": [
    "max(a)"
   ]
  },
  {
   "cell_type": "code",
   "execution_count": 47,
   "metadata": {},
   "outputs": [
    {
     "name": "stderr",
     "output_type": "stream",
     "text": [
      "<ipython-input-47-03a2299a57ce>:1: UserWarning: Boolean Series key will be reindexed to match DataFrame index.\n",
      "  ran = df[df.Year== 2019][df.Month ==7]\n"
     ]
    }
   ],
   "source": [
    "ran = df[df.Year== 2019][df.Month ==7]\n",
    "count = len(ran.index)"
   ]
  },
  {
   "cell_type": "code",
   "execution_count": 48,
   "metadata": {},
   "outputs": [
    {
     "data": {
      "text/plain": [
       "24828"
      ]
     },
     "execution_count": 48,
     "metadata": {},
     "output_type": "execute_result"
    }
   ],
   "source": [
    "count"
   ]
  },
  {
   "cell_type": "code",
   "execution_count": 49,
   "metadata": {},
   "outputs": [
    {
     "data": {
      "text/plain": [
       "0    False\n",
       "dtype: bool"
      ]
     },
     "execution_count": 49,
     "metadata": {},
     "output_type": "execute_result"
    }
   ],
   "source": [
    "df.Domestic.mode()"
   ]
  },
  {
   "cell_type": "code",
   "execution_count": 51,
   "metadata": {},
   "outputs": [],
   "source": [
    "crime = df[\"Primary Type\"].unique()"
   ]
  },
  {
   "cell_type": "code",
   "execution_count": 52,
   "metadata": {},
   "outputs": [
    {
     "data": {
      "text/plain": [
       "array(['THEFT', 'DECEPTIVE PRACTICE', 'MOTOR VEHICLE THEFT',\n",
       "       'CRIMINAL DAMAGE', 'ASSAULT', 'BATTERY', 'OTHER OFFENSE',\n",
       "       'NARCOTICS', 'WEAPONS VIOLATION', 'ROBBERY', 'CRIMINAL TRESPASS',\n",
       "       'BURGLARY', 'INTERFERENCE WITH PUBLIC OFFICER', 'ARSON',\n",
       "       'CRIM SEXUAL ASSAULT', 'CRIMINAL SEXUAL ASSAULT', 'PROSTITUTION',\n",
       "       'PUBLIC PEACE VIOLATION', 'OFFENSE INVOLVING CHILDREN',\n",
       "       'LIQUOR LAW VIOLATION', 'SEX OFFENSE', 'STALKING', 'KIDNAPPING',\n",
       "       'INTIMIDATION', 'CONCEALED CARRY LICENSE VIOLATION', 'HOMICIDE',\n",
       "       'GAMBLING', 'OBSCENITY', 'HUMAN TRAFFICKING', 'NON-CRIMINAL',\n",
       "       'OTHER NARCOTIC VIOLATION', 'PUBLIC INDECENCY', 'RITUALISM'],\n",
       "      dtype=object)"
      ]
     },
     "execution_count": 52,
     "metadata": {},
     "output_type": "execute_result"
    }
   ],
   "source": [
    "crime\n"
   ]
  },
  {
   "cell_type": "code",
   "execution_count": 56,
   "metadata": {},
   "outputs": [
    {
     "name": "stderr",
     "output_type": "stream",
     "text": [
      "<ipython-input-56-249f8ae39be7>:3: UserWarning: Boolean Series key will be reindexed to match DataFrame index.\n",
      "  ran = df[df[\"Primary Type\"]== i][df.Arrest == True]\n",
      "<ipython-input-56-249f8ae39be7>:3: UserWarning: Boolean Series key will be reindexed to match DataFrame index.\n",
      "  ran = df[df[\"Primary Type\"]== i][df.Arrest == True]\n",
      "<ipython-input-56-249f8ae39be7>:3: UserWarning: Boolean Series key will be reindexed to match DataFrame index.\n",
      "  ran = df[df[\"Primary Type\"]== i][df.Arrest == True]\n",
      "<ipython-input-56-249f8ae39be7>:3: UserWarning: Boolean Series key will be reindexed to match DataFrame index.\n",
      "  ran = df[df[\"Primary Type\"]== i][df.Arrest == True]\n",
      "<ipython-input-56-249f8ae39be7>:3: UserWarning: Boolean Series key will be reindexed to match DataFrame index.\n",
      "  ran = df[df[\"Primary Type\"]== i][df.Arrest == True]\n",
      "<ipython-input-56-249f8ae39be7>:3: UserWarning: Boolean Series key will be reindexed to match DataFrame index.\n",
      "  ran = df[df[\"Primary Type\"]== i][df.Arrest == True]\n",
      "<ipython-input-56-249f8ae39be7>:3: UserWarning: Boolean Series key will be reindexed to match DataFrame index.\n",
      "  ran = df[df[\"Primary Type\"]== i][df.Arrest == True]\n",
      "<ipython-input-56-249f8ae39be7>:3: UserWarning: Boolean Series key will be reindexed to match DataFrame index.\n",
      "  ran = df[df[\"Primary Type\"]== i][df.Arrest == True]\n",
      "<ipython-input-56-249f8ae39be7>:3: UserWarning: Boolean Series key will be reindexed to match DataFrame index.\n",
      "  ran = df[df[\"Primary Type\"]== i][df.Arrest == True]\n",
      "<ipython-input-56-249f8ae39be7>:3: UserWarning: Boolean Series key will be reindexed to match DataFrame index.\n",
      "  ran = df[df[\"Primary Type\"]== i][df.Arrest == True]\n",
      "<ipython-input-56-249f8ae39be7>:3: UserWarning: Boolean Series key will be reindexed to match DataFrame index.\n",
      "  ran = df[df[\"Primary Type\"]== i][df.Arrest == True]\n",
      "<ipython-input-56-249f8ae39be7>:3: UserWarning: Boolean Series key will be reindexed to match DataFrame index.\n",
      "  ran = df[df[\"Primary Type\"]== i][df.Arrest == True]\n",
      "<ipython-input-56-249f8ae39be7>:3: UserWarning: Boolean Series key will be reindexed to match DataFrame index.\n",
      "  ran = df[df[\"Primary Type\"]== i][df.Arrest == True]\n",
      "<ipython-input-56-249f8ae39be7>:3: UserWarning: Boolean Series key will be reindexed to match DataFrame index.\n",
      "  ran = df[df[\"Primary Type\"]== i][df.Arrest == True]\n",
      "<ipython-input-56-249f8ae39be7>:3: UserWarning: Boolean Series key will be reindexed to match DataFrame index.\n",
      "  ran = df[df[\"Primary Type\"]== i][df.Arrest == True]\n",
      "<ipython-input-56-249f8ae39be7>:3: UserWarning: Boolean Series key will be reindexed to match DataFrame index.\n",
      "  ran = df[df[\"Primary Type\"]== i][df.Arrest == True]\n",
      "<ipython-input-56-249f8ae39be7>:3: UserWarning: Boolean Series key will be reindexed to match DataFrame index.\n",
      "  ran = df[df[\"Primary Type\"]== i][df.Arrest == True]\n",
      "<ipython-input-56-249f8ae39be7>:3: UserWarning: Boolean Series key will be reindexed to match DataFrame index.\n",
      "  ran = df[df[\"Primary Type\"]== i][df.Arrest == True]\n",
      "<ipython-input-56-249f8ae39be7>:3: UserWarning: Boolean Series key will be reindexed to match DataFrame index.\n",
      "  ran = df[df[\"Primary Type\"]== i][df.Arrest == True]\n",
      "<ipython-input-56-249f8ae39be7>:3: UserWarning: Boolean Series key will be reindexed to match DataFrame index.\n",
      "  ran = df[df[\"Primary Type\"]== i][df.Arrest == True]\n",
      "<ipython-input-56-249f8ae39be7>:3: UserWarning: Boolean Series key will be reindexed to match DataFrame index.\n",
      "  ran = df[df[\"Primary Type\"]== i][df.Arrest == True]\n",
      "<ipython-input-56-249f8ae39be7>:3: UserWarning: Boolean Series key will be reindexed to match DataFrame index.\n",
      "  ran = df[df[\"Primary Type\"]== i][df.Arrest == True]\n",
      "<ipython-input-56-249f8ae39be7>:3: UserWarning: Boolean Series key will be reindexed to match DataFrame index.\n",
      "  ran = df[df[\"Primary Type\"]== i][df.Arrest == True]\n",
      "<ipython-input-56-249f8ae39be7>:3: UserWarning: Boolean Series key will be reindexed to match DataFrame index.\n",
      "  ran = df[df[\"Primary Type\"]== i][df.Arrest == True]\n",
      "<ipython-input-56-249f8ae39be7>:3: UserWarning: Boolean Series key will be reindexed to match DataFrame index.\n",
      "  ran = df[df[\"Primary Type\"]== i][df.Arrest == True]\n",
      "<ipython-input-56-249f8ae39be7>:3: UserWarning: Boolean Series key will be reindexed to match DataFrame index.\n",
      "  ran = df[df[\"Primary Type\"]== i][df.Arrest == True]\n",
      "<ipython-input-56-249f8ae39be7>:3: UserWarning: Boolean Series key will be reindexed to match DataFrame index.\n",
      "  ran = df[df[\"Primary Type\"]== i][df.Arrest == True]\n",
      "<ipython-input-56-249f8ae39be7>:3: UserWarning: Boolean Series key will be reindexed to match DataFrame index.\n",
      "  ran = df[df[\"Primary Type\"]== i][df.Arrest == True]\n",
      "<ipython-input-56-249f8ae39be7>:3: UserWarning: Boolean Series key will be reindexed to match DataFrame index.\n",
      "  ran = df[df[\"Primary Type\"]== i][df.Arrest == True]\n",
      "<ipython-input-56-249f8ae39be7>:3: UserWarning: Boolean Series key will be reindexed to match DataFrame index.\n",
      "  ran = df[df[\"Primary Type\"]== i][df.Arrest == True]\n",
      "<ipython-input-56-249f8ae39be7>:3: UserWarning: Boolean Series key will be reindexed to match DataFrame index.\n",
      "  ran = df[df[\"Primary Type\"]== i][df.Arrest == True]\n",
      "<ipython-input-56-249f8ae39be7>:3: UserWarning: Boolean Series key will be reindexed to match DataFrame index.\n",
      "  ran = df[df[\"Primary Type\"]== i][df.Arrest == True]\n",
      "<ipython-input-56-249f8ae39be7>:3: UserWarning: Boolean Series key will be reindexed to match DataFrame index.\n",
      "  ran = df[df[\"Primary Type\"]== i][df.Arrest == True]\n"
     ]
    }
   ],
   "source": [
    "count_arrest = []\n",
    "for i in crime:\n",
    "    ran = df[df[\"Primary Type\"]== i][df.Arrest == True]\n",
    "    count = len(ran.index)\n",
    "    count_arrest.append([count,i])"
   ]
  },
  {
   "cell_type": "code",
   "execution_count": 57,
   "metadata": {},
   "outputs": [
    {
     "data": {
      "text/plain": [
       "[22573, 'NARCOTICS']"
      ]
     },
     "execution_count": 57,
     "metadata": {},
     "output_type": "execute_result"
    }
   ],
   "source": [
    "max(count_arrest)"
   ]
  },
  {
   "cell_type": "code",
   "execution_count": 58,
   "metadata": {},
   "outputs": [],
   "source": [
    "ran = df[df.Domestic == True]"
   ]
  },
  {
   "cell_type": "code",
   "execution_count": 59,
   "metadata": {},
   "outputs": [],
   "source": [
    "index = len(ran.index)"
   ]
  },
  {
   "cell_type": "code",
   "execution_count": 60,
   "metadata": {},
   "outputs": [
    {
     "data": {
      "text/plain": [
       "84419"
      ]
     },
     "execution_count": 60,
     "metadata": {},
     "output_type": "execute_result"
    }
   ],
   "source": [
    "index "
   ]
  },
  {
   "cell_type": "code",
   "execution_count": 61,
   "metadata": {},
   "outputs": [
    {
     "data": {
      "text/html": [
       "<div>\n",
       "<style scoped>\n",
       "    .dataframe tbody tr th:only-of-type {\n",
       "        vertical-align: middle;\n",
       "    }\n",
       "\n",
       "    .dataframe tbody tr th {\n",
       "        vertical-align: top;\n",
       "    }\n",
       "\n",
       "    .dataframe thead th {\n",
       "        text-align: right;\n",
       "    }\n",
       "</style>\n",
       "<table border=\"1\" class=\"dataframe\">\n",
       "  <thead>\n",
       "    <tr style=\"text-align: right;\">\n",
       "      <th></th>\n",
       "      <th>IUCR</th>\n",
       "      <th>Primary Type</th>\n",
       "      <th>Location Description</th>\n",
       "      <th>Arrest</th>\n",
       "      <th>Domestic</th>\n",
       "      <th>Year</th>\n",
       "      <th>Updated On</th>\n",
       "      <th>Month</th>\n",
       "      <th>Day</th>\n",
       "      <th>Hour</th>\n",
       "    </tr>\n",
       "  </thead>\n",
       "  <tbody>\n",
       "    <tr>\n",
       "      <th>0</th>\n",
       "      <td>0820</td>\n",
       "      <td>THEFT</td>\n",
       "      <td>STREET</td>\n",
       "      <td>False</td>\n",
       "      <td>False</td>\n",
       "      <td>2020</td>\n",
       "      <td>03/25/2020 03:45:43 PM</td>\n",
       "      <td>3</td>\n",
       "      <td>17</td>\n",
       "      <td>21</td>\n",
       "    </tr>\n",
       "    <tr>\n",
       "      <th>1</th>\n",
       "      <td>1154</td>\n",
       "      <td>DECEPTIVE PRACTICE</td>\n",
       "      <td>COMMERCIAL / BUSINESS OFFICE</td>\n",
       "      <td>False</td>\n",
       "      <td>False</td>\n",
       "      <td>2019</td>\n",
       "      <td>10/20/2019 03:56:02 PM</td>\n",
       "      <td>9</td>\n",
       "      <td>24</td>\n",
       "      <td>8</td>\n",
       "    </tr>\n",
       "    <tr>\n",
       "      <th>2</th>\n",
       "      <td>0860</td>\n",
       "      <td>THEFT</td>\n",
       "      <td>GROCERY FOOD STORE</td>\n",
       "      <td>False</td>\n",
       "      <td>False</td>\n",
       "      <td>2019</td>\n",
       "      <td>10/20/2019 04:03:03 PM</td>\n",
       "      <td>10</td>\n",
       "      <td>13</td>\n",
       "      <td>20</td>\n",
       "    </tr>\n",
       "    <tr>\n",
       "      <th>3</th>\n",
       "      <td>0910</td>\n",
       "      <td>MOTOR VEHICLE THEFT</td>\n",
       "      <td>APARTMENT</td>\n",
       "      <td>False</td>\n",
       "      <td>True</td>\n",
       "      <td>2020</td>\n",
       "      <td>03/25/2020 03:47:29 PM</td>\n",
       "      <td>3</td>\n",
       "      <td>18</td>\n",
       "      <td>2</td>\n",
       "    </tr>\n",
       "    <tr>\n",
       "      <th>4</th>\n",
       "      <td>0810</td>\n",
       "      <td>THEFT</td>\n",
       "      <td>RESIDENCE</td>\n",
       "      <td>False</td>\n",
       "      <td>False</td>\n",
       "      <td>2019</td>\n",
       "      <td>10/20/2019 03:56:02 PM</td>\n",
       "      <td>10</td>\n",
       "      <td>5</td>\n",
       "      <td>18</td>\n",
       "    </tr>\n",
       "  </tbody>\n",
       "</table>\n",
       "</div>"
      ],
      "text/plain": [
       "   IUCR         Primary Type          Location Description  Arrest  Domestic  \\\n",
       "0  0820                THEFT                        STREET   False     False   \n",
       "1  1154   DECEPTIVE PRACTICE  COMMERCIAL / BUSINESS OFFICE   False     False   \n",
       "2  0860                THEFT            GROCERY FOOD STORE   False     False   \n",
       "3  0910  MOTOR VEHICLE THEFT                     APARTMENT   False      True   \n",
       "4  0810                THEFT                     RESIDENCE   False     False   \n",
       "\n",
       "   Year              Updated On  Month  Day  Hour  \n",
       "0  2020  03/25/2020 03:45:43 PM      3   17    21  \n",
       "1  2019  10/20/2019 03:56:02 PM      9   24     8  \n",
       "2  2019  10/20/2019 04:03:03 PM     10   13    20  \n",
       "3  2020  03/25/2020 03:47:29 PM      3   18     2  \n",
       "4  2019  10/20/2019 03:56:02 PM     10    5    18  "
      ]
     },
     "execution_count": 61,
     "metadata": {},
     "output_type": "execute_result"
    }
   ],
   "source": [
    "df.head()"
   ]
  },
  {
   "cell_type": "code",
   "execution_count": 62,
   "metadata": {},
   "outputs": [
    {
     "name": "stdout",
     "output_type": "stream",
     "text": [
      "<class 'pandas.core.frame.DataFrame'>\n",
      "RangeIndex: 477777 entries, 0 to 477776\n",
      "Data columns (total 10 columns):\n",
      " #   Column                Non-Null Count   Dtype \n",
      "---  ------                --------------   ----- \n",
      " 0   IUCR                  477777 non-null  object\n",
      " 1   Primary Type          477777 non-null  object\n",
      " 2   Location Description  475488 non-null  object\n",
      " 3   Arrest                477777 non-null  bool  \n",
      " 4   Domestic              477777 non-null  bool  \n",
      " 5   Year                  477777 non-null  int64 \n",
      " 6   Updated On            477777 non-null  object\n",
      " 7   Month                 477777 non-null  int64 \n",
      " 8   Day                   477777 non-null  int64 \n",
      " 9   Hour                  477777 non-null  int64 \n",
      "dtypes: bool(2), int64(4), object(4)\n",
      "memory usage: 30.1+ MB\n"
     ]
    }
   ],
   "source": [
    "df.info()"
   ]
  },
  {
   "cell_type": "code",
   "execution_count": 63,
   "metadata": {},
   "outputs": [
    {
     "data": {
      "text/plain": [
       "array(['STREET', 'COMMERCIAL / BUSINESS OFFICE', 'GROCERY FOOD STORE',\n",
       "       'APARTMENT', 'RESIDENCE', 'GAS STATION', 'APPLIANCE STORE',\n",
       "       'RESIDENCE PORCH/HALLWAY', 'OTHER (SPECIFY)', 'RESTAURANT',\n",
       "       'COLLEGE/UNIVERSITY GROUNDS', 'SIDEWALK', 'BAR OR TAVERN',\n",
       "       'HOTEL/MOTEL', 'OTHER', 'ATHLETIC CLUB', 'SMALL RETAIL STORE',\n",
       "       'VEHICLE NON-COMMERCIAL', 'ALLEY', 'ABANDONED BUILDING',\n",
       "       'DEPARTMENT STORE', 'CTA TRAIN',\n",
       "       'VEHICLE - OTHER RIDE SHARE SERVICE (E.G., UBER, LYFT)', 'TAXICAB',\n",
       "       'CTA BUS', 'DRUG STORE', 'RESIDENTIAL YARD (FRONT/BACK)', nan,\n",
       "       'RESIDENCE-GARAGE', 'CONVENIENCE STORE',\n",
       "       'PARKING LOT / GARAGE (NON RESIDENTIAL)',\n",
       "       'PARKING LOT/GARAGE(NON.RESID.)',\n",
       "       'POLICE FACILITY / VEHICLE PARKING LOT', 'PARK PROPERTY',\n",
       "       'CHA APARTMENT', 'AIRPORT TERMINAL UPPER LEVEL - SECURE AREA',\n",
       "       'VEHICLE - COMMERCIAL', 'AUTO / BOAT / RV DEALERSHIP',\n",
       "       'POLICE FACILITY/VEH PARKING LOT', 'HOSPITAL BUILDING/GROUNDS',\n",
       "       'ATM (AUTOMATIC TELLER MACHINE)', 'CTA GARAGE / OTHER PROPERTY',\n",
       "       'SCHOOL, PRIVATE, GROUNDS', 'COIN OPERATED MACHINE',\n",
       "       'SCHOOL, PUBLIC, GROUNDS', 'CHURCH/SYNAGOGUE/PLACE OF WORSHIP',\n",
       "       'GOVERNMENT BUILDING/PROPERTY', 'CTA PLATFORM', 'WAREHOUSE',\n",
       "       'CONSTRUCTION SITE', 'SCHOOL, PUBLIC, BUILDING', 'CTA BUS STOP',\n",
       "       'TAVERN/LIQUOR STORE',\n",
       "       'AIRPORT TERMINAL LOWER LEVEL - NON-SECURE AREA',\n",
       "       'CHA PARKING LOT/GROUNDS', 'SCHOOL, PRIVATE, BUILDING',\n",
       "       'BARBERSHOP', 'RESIDENCE - GARAGE', 'RESIDENCE - PORCH / HALLWAY',\n",
       "       'DRIVEWAY - RESIDENTIAL', 'CHA HALLWAY / STAIRWELL / ELEVATOR',\n",
       "       'VEHICLE - OTHER RIDE SHARE SERVICE (LYFT, UBER, ETC.)',\n",
       "       'FACTORY / MANUFACTURING BUILDING', 'BRIDGE',\n",
       "       'HOSPITAL BUILDING / GROUNDS', 'SCHOOL - PUBLIC BUILDING',\n",
       "       'AIRCRAFT', 'RESIDENCE - YARD (FRONT / BACK)',\n",
       "       'OTHER COMMERCIAL TRANSPORTATION', 'BANK', 'MOVIE HOUSE / THEATER',\n",
       "       'CHA PARKING LOT / GROUNDS', 'CTA STATION',\n",
       "       'MEDICAL/DENTAL OFFICE', 'CHA HALLWAY/STAIRWELL/ELEVATOR',\n",
       "       'AIRPORT EXTERIOR - NON-SECURE AREA',\n",
       "       'NURSING HOME/RETIREMENT HOME', 'PORCH', 'FIRE STATION',\n",
       "       'ANIMAL HOSPITAL', 'VACANT LOT / LAND', 'LIBRARY',\n",
       "       'HIGHWAY/EXPRESSWAY', 'VACANT LOT/LAND',\n",
       "       'NURSING / RETIREMENT HOME', 'CLEANING STORE',\n",
       "       'AIRPORT TERMINAL UPPER LEVEL - NON-SECURE AREA',\n",
       "       'GOVERNMENT BUILDING / PROPERTY', 'HOTEL / MOTEL', 'CAR WASH',\n",
       "       'SCHOOL - PRIVATE BUILDING', 'CURRENCY EXCHANGE',\n",
       "       'SPORTS ARENA/STADIUM', 'AIRPORT VENDING ESTABLISHMENT',\n",
       "       'FACTORY/MANUFACTURING BUILDING', 'VACANT LOT',\n",
       "       'CHURCH / SYNAGOGUE / PLACE OF WORSHIP', 'NEWSSTAND',\n",
       "       'OTHER RAILROAD PROPERTY / TRAIN DEPOT', 'TAVERN / LIQUOR STORE',\n",
       "       'AIRPORT BUILDING NON-TERMINAL - SECURE AREA', 'DAY CARE CENTER',\n",
       "       'AIRPORT EXTERIOR - SECURE AREA',\n",
       "       'LAKEFRONT / WATERFRONT / RIVERBANK', 'BOWLING ALLEY', 'CEMETARY',\n",
       "       'VEHICLE-COMMERCIAL', 'VEHICLE - DELIVERY TRUCK',\n",
       "       'MEDICAL / DENTAL OFFICE', 'AIRPORT PARKING LOT',\n",
       "       'COLLEGE/UNIVERSITY RESIDENCE HALL', 'CTA TRACKS - RIGHT OF WAY',\n",
       "       'JAIL / LOCK-UP FACILITY', 'AIRPORT/AIRCRAFT',\n",
       "       'LAKEFRONT/WATERFRONT/RIVERBANK', 'SCHOOL - PUBLIC GROUNDS',\n",
       "       'MOVIE HOUSE/THEATER', 'PAWN SHOP',\n",
       "       'AIRPORT BUILDING NON-TERMINAL - NON-SECURE AREA',\n",
       "       'FEDERAL BUILDING', 'BOAT/WATERCRAFT',\n",
       "       'COLLEGE / UNIVERSITY - GROUNDS', 'SCHOOL - PRIVATE GROUNDS',\n",
       "       'SPORTS ARENA / STADIUM', 'POOL ROOM',\n",
       "       'OTHER RAILROAD PROP / TRAIN DEPOT',\n",
       "       'COLLEGE / UNIVERSITY - RESIDENCE HALL',\n",
       "       'AIRPORT TERMINAL LOWER LEVEL - SECURE AREA', 'SAVINGS AND LOAN',\n",
       "       'AIRPORT TRANSPORTATION SYSTEM (ATS)', 'CREDIT UNION',\n",
       "       'CTA PARKING LOT / GARAGE / OTHER PROPERTY',\n",
       "       'HIGHWAY / EXPRESSWAY', 'AUTO', 'FOREST PRESERVE', 'KENNEL',\n",
       "       'VEHICLE-COMMERCIAL - TROLLEY BUS', 'FARM',\n",
       "       'AIRPORT TERMINAL MEZZANINE - NON-SECURE AREA', 'HOUSE',\n",
       "       'VEHICLE - COMMERCIAL: ENTERTAINMENT / PARTY BUS', 'YARD',\n",
       "       'PARKING LOT', 'BASEMENT', 'BARBER SHOP/BEAUTY SALON',\n",
       "       'CHA PLAY LOT', 'VEHICLE-COMMERCIAL - ENTERTAINMENT/PARTY BUS',\n",
       "       'RETAIL STORE', 'HOTEL', 'CTA SUBWAY STATION', 'GARAGE',\n",
       "       'HORSE STABLE', 'HALLWAY', 'CHA PARKING LOT', 'BOAT / WATERCRAFT',\n",
       "       'CTA PROPERTY', 'VESTIBULE', 'CTA \"L\" PLATFORM', 'HOSPITAL',\n",
       "       'CLUB', 'LIQUOR STORE', 'CHA HALLWAY', 'RAILROAD PROPERTY',\n",
       "       'TRAILER', 'GAS STATION DRIVE/PROP.', 'CHA GROUNDS', 'STAIRWELL',\n",
       "       'MOTEL', 'LAKE', 'VEHICLE - COMMERCIAL: TROLLEY BUS', 'OFFICE',\n",
       "       'NURSING HOME', 'SCHOOL YARD', 'GANGWAY'], dtype=object)"
      ]
     },
     "execution_count": 63,
     "metadata": {},
     "output_type": "execute_result"
    }
   ],
   "source": [
    "df[\"Location Description\"].unique()"
   ]
  },
  {
   "cell_type": "code",
   "execution_count": 65,
   "metadata": {},
   "outputs": [
    {
     "data": {
      "text/html": [
       "<div>\n",
       "<style scoped>\n",
       "    .dataframe tbody tr th:only-of-type {\n",
       "        vertical-align: middle;\n",
       "    }\n",
       "\n",
       "    .dataframe tbody tr th {\n",
       "        vertical-align: top;\n",
       "    }\n",
       "\n",
       "    .dataframe thead th {\n",
       "        text-align: right;\n",
       "    }\n",
       "</style>\n",
       "<table border=\"1\" class=\"dataframe\">\n",
       "  <thead>\n",
       "    <tr style=\"text-align: right;\">\n",
       "      <th></th>\n",
       "      <th>IUCR</th>\n",
       "      <th>Primary Type</th>\n",
       "      <th>Location Description</th>\n",
       "      <th>Arrest</th>\n",
       "      <th>Domestic</th>\n",
       "      <th>Year</th>\n",
       "      <th>Updated On</th>\n",
       "      <th>Month</th>\n",
       "      <th>Day</th>\n",
       "      <th>Hour</th>\n",
       "    </tr>\n",
       "  </thead>\n",
       "  <tbody>\n",
       "    <tr>\n",
       "      <th>0</th>\n",
       "      <td>0820</td>\n",
       "      <td>THEFT</td>\n",
       "      <td>STREET</td>\n",
       "      <td>False</td>\n",
       "      <td>False</td>\n",
       "      <td>2020</td>\n",
       "      <td>03/25/2020 03:45:43 PM</td>\n",
       "      <td>3</td>\n",
       "      <td>17</td>\n",
       "      <td>21</td>\n",
       "    </tr>\n",
       "    <tr>\n",
       "      <th>1</th>\n",
       "      <td>1154</td>\n",
       "      <td>DECEPTIVE PRACTICE</td>\n",
       "      <td>COMMERCIAL / BUSINESS OFFICE</td>\n",
       "      <td>False</td>\n",
       "      <td>False</td>\n",
       "      <td>2019</td>\n",
       "      <td>10/20/2019 03:56:02 PM</td>\n",
       "      <td>9</td>\n",
       "      <td>24</td>\n",
       "      <td>8</td>\n",
       "    </tr>\n",
       "    <tr>\n",
       "      <th>2</th>\n",
       "      <td>0860</td>\n",
       "      <td>THEFT</td>\n",
       "      <td>GROCERY FOOD STORE</td>\n",
       "      <td>False</td>\n",
       "      <td>False</td>\n",
       "      <td>2019</td>\n",
       "      <td>10/20/2019 04:03:03 PM</td>\n",
       "      <td>10</td>\n",
       "      <td>13</td>\n",
       "      <td>20</td>\n",
       "    </tr>\n",
       "    <tr>\n",
       "      <th>3</th>\n",
       "      <td>0910</td>\n",
       "      <td>MOTOR VEHICLE THEFT</td>\n",
       "      <td>APARTMENT</td>\n",
       "      <td>False</td>\n",
       "      <td>True</td>\n",
       "      <td>2020</td>\n",
       "      <td>03/25/2020 03:47:29 PM</td>\n",
       "      <td>3</td>\n",
       "      <td>18</td>\n",
       "      <td>2</td>\n",
       "    </tr>\n",
       "    <tr>\n",
       "      <th>4</th>\n",
       "      <td>0810</td>\n",
       "      <td>THEFT</td>\n",
       "      <td>RESIDENCE</td>\n",
       "      <td>False</td>\n",
       "      <td>False</td>\n",
       "      <td>2019</td>\n",
       "      <td>10/20/2019 03:56:02 PM</td>\n",
       "      <td>10</td>\n",
       "      <td>5</td>\n",
       "      <td>18</td>\n",
       "    </tr>\n",
       "  </tbody>\n",
       "</table>\n",
       "</div>"
      ],
      "text/plain": [
       "   IUCR         Primary Type          Location Description  Arrest  Domestic  \\\n",
       "0  0820                THEFT                        STREET   False     False   \n",
       "1  1154   DECEPTIVE PRACTICE  COMMERCIAL / BUSINESS OFFICE   False     False   \n",
       "2  0860                THEFT            GROCERY FOOD STORE   False     False   \n",
       "3  0910  MOTOR VEHICLE THEFT                     APARTMENT   False      True   \n",
       "4  0810                THEFT                     RESIDENCE   False     False   \n",
       "\n",
       "   Year              Updated On  Month  Day  Hour  \n",
       "0  2020  03/25/2020 03:45:43 PM      3   17    21  \n",
       "1  2019  10/20/2019 03:56:02 PM      9   24     8  \n",
       "2  2019  10/20/2019 04:03:03 PM     10   13    20  \n",
       "3  2020  03/25/2020 03:47:29 PM      3   18     2  \n",
       "4  2019  10/20/2019 03:56:02 PM     10    5    18  "
      ]
     },
     "execution_count": 65,
     "metadata": {},
     "output_type": "execute_result"
    }
   ],
   "source": [
    "df.head()"
   ]
  },
  {
   "cell_type": "code",
   "execution_count": 66,
   "metadata": {},
   "outputs": [
    {
     "data": {
      "text/html": [
       "<div>\n",
       "<style scoped>\n",
       "    .dataframe tbody tr th:only-of-type {\n",
       "        vertical-align: middle;\n",
       "    }\n",
       "\n",
       "    .dataframe tbody tr th {\n",
       "        vertical-align: top;\n",
       "    }\n",
       "\n",
       "    .dataframe thead th {\n",
       "        text-align: right;\n",
       "    }\n",
       "</style>\n",
       "<table border=\"1\" class=\"dataframe\">\n",
       "  <thead>\n",
       "    <tr style=\"text-align: right;\">\n",
       "      <th></th>\n",
       "      <th>Primary Type</th>\n",
       "      <th>Location Description</th>\n",
       "      <th>Arrest</th>\n",
       "      <th>Domestic</th>\n",
       "      <th>Year</th>\n",
       "      <th>Month</th>\n",
       "      <th>Day</th>\n",
       "      <th>Hour</th>\n",
       "    </tr>\n",
       "  </thead>\n",
       "  <tbody>\n",
       "    <tr>\n",
       "      <th>0</th>\n",
       "      <td>THEFT</td>\n",
       "      <td>STREET</td>\n",
       "      <td>False</td>\n",
       "      <td>False</td>\n",
       "      <td>2020</td>\n",
       "      <td>3</td>\n",
       "      <td>17</td>\n",
       "      <td>21</td>\n",
       "    </tr>\n",
       "    <tr>\n",
       "      <th>1</th>\n",
       "      <td>DECEPTIVE PRACTICE</td>\n",
       "      <td>COMMERCIAL / BUSINESS OFFICE</td>\n",
       "      <td>False</td>\n",
       "      <td>False</td>\n",
       "      <td>2019</td>\n",
       "      <td>9</td>\n",
       "      <td>24</td>\n",
       "      <td>8</td>\n",
       "    </tr>\n",
       "    <tr>\n",
       "      <th>2</th>\n",
       "      <td>THEFT</td>\n",
       "      <td>GROCERY FOOD STORE</td>\n",
       "      <td>False</td>\n",
       "      <td>False</td>\n",
       "      <td>2019</td>\n",
       "      <td>10</td>\n",
       "      <td>13</td>\n",
       "      <td>20</td>\n",
       "    </tr>\n",
       "    <tr>\n",
       "      <th>3</th>\n",
       "      <td>MOTOR VEHICLE THEFT</td>\n",
       "      <td>APARTMENT</td>\n",
       "      <td>False</td>\n",
       "      <td>True</td>\n",
       "      <td>2020</td>\n",
       "      <td>3</td>\n",
       "      <td>18</td>\n",
       "      <td>2</td>\n",
       "    </tr>\n",
       "    <tr>\n",
       "      <th>4</th>\n",
       "      <td>THEFT</td>\n",
       "      <td>RESIDENCE</td>\n",
       "      <td>False</td>\n",
       "      <td>False</td>\n",
       "      <td>2019</td>\n",
       "      <td>10</td>\n",
       "      <td>5</td>\n",
       "      <td>18</td>\n",
       "    </tr>\n",
       "    <tr>\n",
       "      <th>...</th>\n",
       "      <td>...</td>\n",
       "      <td>...</td>\n",
       "      <td>...</td>\n",
       "      <td>...</td>\n",
       "      <td>...</td>\n",
       "      <td>...</td>\n",
       "      <td>...</td>\n",
       "      <td>...</td>\n",
       "    </tr>\n",
       "    <tr>\n",
       "      <th>477772</th>\n",
       "      <td>DECEPTIVE PRACTICE</td>\n",
       "      <td>RESIDENCE</td>\n",
       "      <td>False</td>\n",
       "      <td>False</td>\n",
       "      <td>2021</td>\n",
       "      <td>1</td>\n",
       "      <td>14</td>\n",
       "      <td>9</td>\n",
       "    </tr>\n",
       "    <tr>\n",
       "      <th>477773</th>\n",
       "      <td>OTHER OFFENSE</td>\n",
       "      <td>COMMERCIAL / BUSINESS OFFICE</td>\n",
       "      <td>False</td>\n",
       "      <td>False</td>\n",
       "      <td>2019</td>\n",
       "      <td>2</td>\n",
       "      <td>1</td>\n",
       "      <td>7</td>\n",
       "    </tr>\n",
       "    <tr>\n",
       "      <th>477774</th>\n",
       "      <td>BURGLARY</td>\n",
       "      <td>APARTMENT</td>\n",
       "      <td>False</td>\n",
       "      <td>False</td>\n",
       "      <td>2021</td>\n",
       "      <td>1</td>\n",
       "      <td>16</td>\n",
       "      <td>13</td>\n",
       "    </tr>\n",
       "    <tr>\n",
       "      <th>477775</th>\n",
       "      <td>ROBBERY</td>\n",
       "      <td>ALLEY</td>\n",
       "      <td>False</td>\n",
       "      <td>False</td>\n",
       "      <td>2021</td>\n",
       "      <td>1</td>\n",
       "      <td>16</td>\n",
       "      <td>21</td>\n",
       "    </tr>\n",
       "    <tr>\n",
       "      <th>477776</th>\n",
       "      <td>NARCOTICS</td>\n",
       "      <td>STREET</td>\n",
       "      <td>True</td>\n",
       "      <td>False</td>\n",
       "      <td>2021</td>\n",
       "      <td>1</td>\n",
       "      <td>16</td>\n",
       "      <td>11</td>\n",
       "    </tr>\n",
       "  </tbody>\n",
       "</table>\n",
       "<p>477777 rows × 8 columns</p>\n",
       "</div>"
      ],
      "text/plain": [
       "               Primary Type          Location Description  Arrest  Domestic  \\\n",
       "0                     THEFT                        STREET   False     False   \n",
       "1        DECEPTIVE PRACTICE  COMMERCIAL / BUSINESS OFFICE   False     False   \n",
       "2                     THEFT            GROCERY FOOD STORE   False     False   \n",
       "3       MOTOR VEHICLE THEFT                     APARTMENT   False      True   \n",
       "4                     THEFT                     RESIDENCE   False     False   \n",
       "...                     ...                           ...     ...       ...   \n",
       "477772   DECEPTIVE PRACTICE                     RESIDENCE   False     False   \n",
       "477773        OTHER OFFENSE  COMMERCIAL / BUSINESS OFFICE   False     False   \n",
       "477774             BURGLARY                     APARTMENT   False     False   \n",
       "477775              ROBBERY                         ALLEY   False     False   \n",
       "477776            NARCOTICS                        STREET    True     False   \n",
       "\n",
       "        Year  Month  Day  Hour  \n",
       "0       2020      3   17    21  \n",
       "1       2019      9   24     8  \n",
       "2       2019     10   13    20  \n",
       "3       2020      3   18     2  \n",
       "4       2019     10    5    18  \n",
       "...      ...    ...  ...   ...  \n",
       "477772  2021      1   14     9  \n",
       "477773  2019      2    1     7  \n",
       "477774  2021      1   16    13  \n",
       "477775  2021      1   16    21  \n",
       "477776  2021      1   16    11  \n",
       "\n",
       "[477777 rows x 8 columns]"
      ]
     },
     "execution_count": 66,
     "metadata": {},
     "output_type": "execute_result"
    }
   ],
   "source": [
    "df.drop(columns = ['IUCR','Updated On'],axis = 1)"
   ]
  },
  {
   "cell_type": "code",
   "execution_count": null,
   "metadata": {},
   "outputs": [],
   "source": []
  }
 ],
 "metadata": {
  "kernelspec": {
   "display_name": "Python 3",
   "language": "python",
   "name": "python3"
  },
  "language_info": {
   "codemirror_mode": {
    "name": "ipython",
    "version": 3
   },
   "file_extension": ".py",
   "mimetype": "text/x-python",
   "name": "python",
   "nbconvert_exporter": "python",
   "pygments_lexer": "ipython3",
   "version": "3.8.8"
  }
 },
 "nbformat": 4,
 "nbformat_minor": 2
}
