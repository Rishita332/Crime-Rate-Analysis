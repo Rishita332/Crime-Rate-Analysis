{
 "cells": [
  {
   "cell_type": "code",
   "execution_count": 1,
   "metadata": {
    "scrolled": true
   },
   "outputs": [
    {
     "name": "stdout",
     "output_type": "stream",
     "text": [
      "Requirement already satisfied: pandas-profiling in c:\\users\\rishita\\anaconda3\\lib\\site-packages (3.1.0)\n",
      "Requirement already satisfied: multimethod>=1.4 in c:\\users\\rishita\\anaconda3\\lib\\site-packages (from pandas-profiling) (1.6)\n",
      "Requirement already satisfied: pandas!=1.0.0,!=1.0.1,!=1.0.2,!=1.1.0,>=0.25.3 in c:\\users\\rishita\\anaconda3\\lib\\site-packages (from pandas-profiling) (1.2.4)\n",
      "Requirement already satisfied: pydantic>=1.8.1 in c:\\users\\rishita\\anaconda3\\lib\\site-packages (from pandas-profiling) (1.8.2)\n",
      "Requirement already satisfied: htmlmin>=0.1.12 in c:\\users\\rishita\\anaconda3\\lib\\site-packages (from pandas-profiling) (0.1.12)\n",
      "Requirement already satisfied: visions[type_image_path]==0.7.4 in c:\\users\\rishita\\anaconda3\\lib\\site-packages (from pandas-profiling) (0.7.4)\n",
      "Requirement already satisfied: requests>=2.24.0 in c:\\users\\rishita\\anaconda3\\lib\\site-packages (from pandas-profiling) (2.25.1)\n",
      "Requirement already satisfied: missingno>=0.4.2 in c:\\users\\rishita\\anaconda3\\lib\\site-packages (from pandas-profiling) (0.5.0)\n",
      "Requirement already satisfied: PyYAML>=5.0.0 in c:\\users\\rishita\\anaconda3\\lib\\site-packages (from pandas-profiling) (5.4.1)\n",
      "Requirement already satisfied: markupsafe~=2.0.1 in c:\\users\\rishita\\anaconda3\\lib\\site-packages (from pandas-profiling) (2.0.1)\n",
      "Requirement already satisfied: jinja2>=2.11.1 in c:\\users\\rishita\\appdata\\roaming\\python\\python38\\site-packages (from pandas-profiling) (3.0.0)\n",
      "Requirement already satisfied: numpy>=1.16.0 in c:\\users\\rishita\\anaconda3\\lib\\site-packages (from pandas-profiling) (1.20.1)\n",
      "Requirement already satisfied: tqdm>=4.48.2 in c:\\users\\rishita\\anaconda3\\lib\\site-packages (from pandas-profiling) (4.59.0)\n",
      "Requirement already satisfied: tangled-up-in-unicode==0.1.0 in c:\\users\\rishita\\anaconda3\\lib\\site-packages (from pandas-profiling) (0.1.0)\n",
      "Requirement already satisfied: seaborn>=0.10.1 in c:\\users\\rishita\\anaconda3\\lib\\site-packages (from pandas-profiling) (0.11.1)\n",
      "Requirement already satisfied: scipy>=1.4.1 in c:\\users\\rishita\\anaconda3\\lib\\site-packages (from pandas-profiling) (1.6.2)\n",
      "Requirement already satisfied: joblib~=1.0.1 in c:\\users\\rishita\\anaconda3\\lib\\site-packages (from pandas-profiling) (1.0.1)\n",
      "Requirement already satisfied: matplotlib>=3.2.0 in c:\\users\\rishita\\anaconda3\\lib\\site-packages (from pandas-profiling) (3.3.4)\n",
      "Requirement already satisfied: phik>=0.11.1 in c:\\users\\rishita\\anaconda3\\lib\\site-packages (from pandas-profiling) (0.12.0)\n",
      "Requirement already satisfied: attrs>=19.3.0 in c:\\users\\rishita\\appdata\\roaming\\python\\python38\\site-packages (from visions[type_image_path]==0.7.4->pandas-profiling) (21.2.0)\n",
      "Requirement already satisfied: networkx>=2.4 in c:\\users\\rishita\\anaconda3\\lib\\site-packages (from visions[type_image_path]==0.7.4->pandas-profiling) (2.5)\n",
      "Requirement already satisfied: Pillow in c:\\users\\rishita\\anaconda3\\lib\\site-packages (from visions[type_image_path]==0.7.4->pandas-profiling) (8.2.0)\n",
      "Requirement already satisfied: imagehash in c:\\users\\rishita\\anaconda3\\lib\\site-packages (from visions[type_image_path]==0.7.4->pandas-profiling) (4.2.1)\n",
      "Requirement already satisfied: pyparsing!=2.0.4,!=2.1.2,!=2.1.6,>=2.0.3 in c:\\users\\rishita\\appdata\\roaming\\python\\python38\\site-packages (from matplotlib>=3.2.0->pandas-profiling) (2.4.7)\n",
      "Requirement already satisfied: kiwisolver>=1.0.1 in c:\\users\\rishita\\anaconda3\\lib\\site-packages (from matplotlib>=3.2.0->pandas-profiling) (1.3.1)\n",
      "Requirement already satisfied: cycler>=0.10 in c:\\users\\rishita\\anaconda3\\lib\\site-packages (from matplotlib>=3.2.0->pandas-profiling) (0.10.0)\n",
      "Requirement already satisfied: python-dateutil>=2.1 in c:\\users\\rishita\\appdata\\roaming\\python\\python38\\site-packages (from matplotlib>=3.2.0->pandas-profiling) (2.8.1)\n",
      "Requirement already satisfied: six in c:\\users\\rishita\\appdata\\roaming\\python\\python38\\site-packages (from cycler>=0.10->matplotlib>=3.2.0->pandas-profiling) (1.16.0)\n",
      "Requirement already satisfied: decorator>=4.3.0 in c:\\users\\rishita\\appdata\\roaming\\python\\python38\\site-packages (from networkx>=2.4->visions[type_image_path]==0.7.4->pandas-profiling) (5.0.9)\n",
      "Requirement already satisfied: pytz>=2017.3 in c:\\users\\rishita\\anaconda3\\lib\\site-packages (from pandas!=1.0.0,!=1.0.1,!=1.0.2,!=1.1.0,>=0.25.3->pandas-profiling) (2021.1)\n",
      "Requirement already satisfied: typing-extensions>=3.7.4.3 in c:\\users\\rishita\\anaconda3\\lib\\site-packages (from pydantic>=1.8.1->pandas-profiling) (3.7.4.3)\n",
      "Requirement already satisfied: urllib3<1.27,>=1.21.1 in c:\\users\\rishita\\anaconda3\\lib\\site-packages (from requests>=2.24.0->pandas-profiling) (1.26.4)\n",
      "Requirement already satisfied: idna<3,>=2.5 in c:\\users\\rishita\\anaconda3\\lib\\site-packages (from requests>=2.24.0->pandas-profiling) (2.10)\n",
      "Requirement already satisfied: chardet<5,>=3.0.2 in c:\\users\\rishita\\anaconda3\\lib\\site-packages (from requests>=2.24.0->pandas-profiling) (4.0.0)\n",
      "Requirement already satisfied: certifi>=2017.4.17 in c:\\users\\rishita\\anaconda3\\lib\\site-packages (from requests>=2.24.0->pandas-profiling) (2020.12.5)\n",
      "Requirement already satisfied: PyWavelets in c:\\users\\rishita\\anaconda3\\lib\\site-packages (from imagehash->visions[type_image_path]==0.7.4->pandas-profiling) (1.1.1)\n"
     ]
    }
   ],
   "source": [
    "import sys\n",
    "!{sys.executable} -m pip install pandas-profiling"
   ]
  },
  {
   "cell_type": "code",
   "execution_count": 2,
   "metadata": {},
   "outputs": [],
   "source": [
    "import pandas as pd \n",
    "df = pd.read_csv(\"crime rate analysis.csv\")"
   ]
  },
  {
   "cell_type": "code",
   "execution_count": 3,
   "metadata": {},
   "outputs": [
    {
     "data": {
      "text/html": [
       "<div>\n",
       "<style scoped>\n",
       "    .dataframe tbody tr th:only-of-type {\n",
       "        vertical-align: middle;\n",
       "    }\n",
       "\n",
       "    .dataframe tbody tr th {\n",
       "        vertical-align: top;\n",
       "    }\n",
       "\n",
       "    .dataframe thead th {\n",
       "        text-align: right;\n",
       "    }\n",
       "</style>\n",
       "<table border=\"1\" class=\"dataframe\">\n",
       "  <thead>\n",
       "    <tr style=\"text-align: right;\">\n",
       "      <th></th>\n",
       "      <th>ID</th>\n",
       "      <th>Date</th>\n",
       "      <th>IUCR</th>\n",
       "      <th>Primary Type</th>\n",
       "      <th>Description</th>\n",
       "      <th>Location Description</th>\n",
       "      <th>Arrest</th>\n",
       "      <th>Domestic</th>\n",
       "      <th>Year</th>\n",
       "      <th>Updated On</th>\n",
       "    </tr>\n",
       "  </thead>\n",
       "  <tbody>\n",
       "    <tr>\n",
       "      <th>0</th>\n",
       "      <td>12014684</td>\n",
       "      <td>03/17/2020 09:30:00 PM</td>\n",
       "      <td>0820</td>\n",
       "      <td>THEFT</td>\n",
       "      <td>$500 AND UNDER</td>\n",
       "      <td>STREET</td>\n",
       "      <td>False</td>\n",
       "      <td>False</td>\n",
       "      <td>2020</td>\n",
       "      <td>03/25/2020 03:45:43 PM</td>\n",
       "    </tr>\n",
       "    <tr>\n",
       "      <th>1</th>\n",
       "      <td>11864018</td>\n",
       "      <td>09/24/2019 08:00:00 AM</td>\n",
       "      <td>1154</td>\n",
       "      <td>DECEPTIVE PRACTICE</td>\n",
       "      <td>FINANCIAL IDENTITY THEFT $300 AND UNDER</td>\n",
       "      <td>COMMERCIAL / BUSINESS OFFICE</td>\n",
       "      <td>False</td>\n",
       "      <td>False</td>\n",
       "      <td>2019</td>\n",
       "      <td>10/20/2019 03:56:02 PM</td>\n",
       "    </tr>\n",
       "    <tr>\n",
       "      <th>2</th>\n",
       "      <td>11859805</td>\n",
       "      <td>10/13/2019 08:30:00 PM</td>\n",
       "      <td>0860</td>\n",
       "      <td>THEFT</td>\n",
       "      <td>RETAIL THEFT</td>\n",
       "      <td>GROCERY FOOD STORE</td>\n",
       "      <td>False</td>\n",
       "      <td>False</td>\n",
       "      <td>2019</td>\n",
       "      <td>10/20/2019 04:03:03 PM</td>\n",
       "    </tr>\n",
       "    <tr>\n",
       "      <th>3</th>\n",
       "      <td>12012127</td>\n",
       "      <td>03/18/2020 02:03:00 AM</td>\n",
       "      <td>0910</td>\n",
       "      <td>MOTOR VEHICLE THEFT</td>\n",
       "      <td>AUTOMOBILE</td>\n",
       "      <td>APARTMENT</td>\n",
       "      <td>False</td>\n",
       "      <td>True</td>\n",
       "      <td>2020</td>\n",
       "      <td>03/25/2020 03:47:29 PM</td>\n",
       "    </tr>\n",
       "    <tr>\n",
       "      <th>4</th>\n",
       "      <td>11863808</td>\n",
       "      <td>10/05/2019 06:30:00 PM</td>\n",
       "      <td>0810</td>\n",
       "      <td>THEFT</td>\n",
       "      <td>OVER $500</td>\n",
       "      <td>RESIDENCE</td>\n",
       "      <td>False</td>\n",
       "      <td>False</td>\n",
       "      <td>2019</td>\n",
       "      <td>10/20/2019 03:56:02 PM</td>\n",
       "    </tr>\n",
       "  </tbody>\n",
       "</table>\n",
       "</div>"
      ],
      "text/plain": [
       "         ID                    Date  IUCR         Primary Type  \\\n",
       "0  12014684  03/17/2020 09:30:00 PM  0820                THEFT   \n",
       "1  11864018  09/24/2019 08:00:00 AM  1154   DECEPTIVE PRACTICE   \n",
       "2  11859805  10/13/2019 08:30:00 PM  0860                THEFT   \n",
       "3  12012127  03/18/2020 02:03:00 AM  0910  MOTOR VEHICLE THEFT   \n",
       "4  11863808  10/05/2019 06:30:00 PM  0810                THEFT   \n",
       "\n",
       "                               Description          Location Description  \\\n",
       "0                           $500 AND UNDER                        STREET   \n",
       "1  FINANCIAL IDENTITY THEFT $300 AND UNDER  COMMERCIAL / BUSINESS OFFICE   \n",
       "2                             RETAIL THEFT            GROCERY FOOD STORE   \n",
       "3                               AUTOMOBILE                     APARTMENT   \n",
       "4                                OVER $500                     RESIDENCE   \n",
       "\n",
       "   Arrest  Domestic  Year              Updated On  \n",
       "0   False     False  2020  03/25/2020 03:45:43 PM  \n",
       "1   False     False  2019  10/20/2019 03:56:02 PM  \n",
       "2   False     False  2019  10/20/2019 04:03:03 PM  \n",
       "3   False      True  2020  03/25/2020 03:47:29 PM  \n",
       "4   False     False  2019  10/20/2019 03:56:02 PM  "
      ]
     },
     "execution_count": 3,
     "metadata": {},
     "output_type": "execute_result"
    }
   ],
   "source": [
    "df.head()"
   ]
  },
  {
   "cell_type": "code",
   "execution_count": 4,
   "metadata": {},
   "outputs": [],
   "source": [
    "from pandas_profiling import ProfileReport"
   ]
  },
  {
   "cell_type": "code",
   "execution_count": 5,
   "metadata": {},
   "outputs": [
    {
     "name": "stdout",
     "output_type": "stream",
     "text": [
      "Collecting package metadata (current_repodata.json): ...working... done\n",
      "Solving environment: ...working... done\n",
      "\n",
      "# All requested packages already installed.\n",
      "\n"
     ]
    }
   ],
   "source": [
    "import sys\n",
    "!conda install --yes --prefix {sys.prefix} pandas-profiling"
   ]
  },
  {
   "cell_type": "code",
   "execution_count": 6,
   "metadata": {},
   "outputs": [],
   "source": [
    "prof=ProfileReport(df)"
   ]
  },
  {
   "cell_type": "code",
   "execution_count": 7,
   "metadata": {},
   "outputs": [
    {
     "data": {
      "application/vnd.jupyter.widget-view+json": {
       "model_id": "c9691e06a9034640b7e551820ad7947e",
       "version_major": 2,
       "version_minor": 0
      },
      "text/plain": [
       "Summarize dataset:   0%|          | 0/24 [00:00<?, ?it/s]"
      ]
     },
     "metadata": {},
     "output_type": "display_data"
    },
    {
     "name": "stderr",
     "output_type": "stream",
     "text": [
      "C:\\Users\\rishita\\anaconda3\\lib\\site-packages\\scipy\\stats\\stats.py:4594: RuntimeWarning: overflow encountered in longlong_scalars\n",
      "  (2 * xtie * ytie) / m + x0 * y0 / (9 * m * (size - 2)))\n"
     ]
    },
    {
     "data": {
      "application/vnd.jupyter.widget-view+json": {
       "model_id": "c45f19677d354adf90ab0ce30428f8cc",
       "version_major": 2,
       "version_minor": 0
      },
      "text/plain": [
       "Generate report structure:   0%|          | 0/1 [00:00<?, ?it/s]"
      ]
     },
     "metadata": {},
     "output_type": "display_data"
    },
    {
     "data": {
      "application/vnd.jupyter.widget-view+json": {
       "model_id": "16f251a45bf04f6d9a83a7f3ade54562",
       "version_major": 2,
       "version_minor": 0
      },
      "text/plain": [
       "Render HTML:   0%|          | 0/1 [00:00<?, ?it/s]"
      ]
     },
     "metadata": {},
     "output_type": "display_data"
    },
    {
     "data": {
      "application/vnd.jupyter.widget-view+json": {
       "model_id": "66aea990588d4805acdff582bdbd8390",
       "version_major": 2,
       "version_minor": 0
      },
      "text/plain": [
       "Export report to file:   0%|          | 0/1 [00:00<?, ?it/s]"
      ]
     },
     "metadata": {},
     "output_type": "display_data"
    }
   ],
   "source": [
    "prof.to_file(output_file='output.html')"
   ]
  },
  {
   "cell_type": "code",
   "execution_count": 8,
   "metadata": {
    "scrolled": true
   },
   "outputs": [
    {
     "data": {
      "application/vnd.jupyter.widget-view+json": {
       "model_id": "",
       "version_major": 2,
       "version_minor": 0
      },
      "text/plain": [
       "Render widgets:   0%|          | 0/1 [00:00<?, ?it/s]"
      ]
     },
     "metadata": {},
     "output_type": "display_data"
    },
    {
     "data": {
      "application/vnd.jupyter.widget-view+json": {
       "model_id": "6a634d563d6d430b83cfe0665a8cb42f",
       "version_major": 2,
       "version_minor": 0
      },
      "text/plain": [
       "VBox(children=(Tab(children=(Tab(children=(GridBox(children=(VBox(children=(GridspecLayout(children=(HTML(valu…"
      ]
     },
     "metadata": {},
     "output_type": "display_data"
    }
   ],
   "source": [
    "prof.to_widgets()"
   ]
  },
  {
   "cell_type": "code",
   "execution_count": null,
   "metadata": {},
   "outputs": [],
   "source": []
  },
  {
   "cell_type": "code",
   "execution_count": 9,
   "metadata": {},
   "outputs": [
    {
     "data": {
      "text/html": [
       "<div>\n",
       "<style scoped>\n",
       "    .dataframe tbody tr th:only-of-type {\n",
       "        vertical-align: middle;\n",
       "    }\n",
       "\n",
       "    .dataframe tbody tr th {\n",
       "        vertical-align: top;\n",
       "    }\n",
       "\n",
       "    .dataframe thead th {\n",
       "        text-align: right;\n",
       "    }\n",
       "</style>\n",
       "<table border=\"1\" class=\"dataframe\">\n",
       "  <thead>\n",
       "    <tr style=\"text-align: right;\">\n",
       "      <th></th>\n",
       "      <th>ID</th>\n",
       "      <th>Date</th>\n",
       "      <th>IUCR</th>\n",
       "      <th>Primary Type</th>\n",
       "      <th>Description</th>\n",
       "      <th>Location Description</th>\n",
       "      <th>Arrest</th>\n",
       "      <th>Domestic</th>\n",
       "      <th>Year</th>\n",
       "      <th>Updated On</th>\n",
       "    </tr>\n",
       "  </thead>\n",
       "  <tbody>\n",
       "    <tr>\n",
       "      <th>0</th>\n",
       "      <td>12014684</td>\n",
       "      <td>03/17/2020 09:30:00 PM</td>\n",
       "      <td>0820</td>\n",
       "      <td>THEFT</td>\n",
       "      <td>$500 AND UNDER</td>\n",
       "      <td>STREET</td>\n",
       "      <td>False</td>\n",
       "      <td>False</td>\n",
       "      <td>2020</td>\n",
       "      <td>03/25/2020 03:45:43 PM</td>\n",
       "    </tr>\n",
       "    <tr>\n",
       "      <th>1</th>\n",
       "      <td>11864018</td>\n",
       "      <td>09/24/2019 08:00:00 AM</td>\n",
       "      <td>1154</td>\n",
       "      <td>DECEPTIVE PRACTICE</td>\n",
       "      <td>FINANCIAL IDENTITY THEFT $300 AND UNDER</td>\n",
       "      <td>COMMERCIAL / BUSINESS OFFICE</td>\n",
       "      <td>False</td>\n",
       "      <td>False</td>\n",
       "      <td>2019</td>\n",
       "      <td>10/20/2019 03:56:02 PM</td>\n",
       "    </tr>\n",
       "    <tr>\n",
       "      <th>2</th>\n",
       "      <td>11859805</td>\n",
       "      <td>10/13/2019 08:30:00 PM</td>\n",
       "      <td>0860</td>\n",
       "      <td>THEFT</td>\n",
       "      <td>RETAIL THEFT</td>\n",
       "      <td>GROCERY FOOD STORE</td>\n",
       "      <td>False</td>\n",
       "      <td>False</td>\n",
       "      <td>2019</td>\n",
       "      <td>10/20/2019 04:03:03 PM</td>\n",
       "    </tr>\n",
       "    <tr>\n",
       "      <th>3</th>\n",
       "      <td>12012127</td>\n",
       "      <td>03/18/2020 02:03:00 AM</td>\n",
       "      <td>0910</td>\n",
       "      <td>MOTOR VEHICLE THEFT</td>\n",
       "      <td>AUTOMOBILE</td>\n",
       "      <td>APARTMENT</td>\n",
       "      <td>False</td>\n",
       "      <td>True</td>\n",
       "      <td>2020</td>\n",
       "      <td>03/25/2020 03:47:29 PM</td>\n",
       "    </tr>\n",
       "    <tr>\n",
       "      <th>4</th>\n",
       "      <td>11863808</td>\n",
       "      <td>10/05/2019 06:30:00 PM</td>\n",
       "      <td>0810</td>\n",
       "      <td>THEFT</td>\n",
       "      <td>OVER $500</td>\n",
       "      <td>RESIDENCE</td>\n",
       "      <td>False</td>\n",
       "      <td>False</td>\n",
       "      <td>2019</td>\n",
       "      <td>10/20/2019 03:56:02 PM</td>\n",
       "    </tr>\n",
       "    <tr>\n",
       "      <th>...</th>\n",
       "      <td>...</td>\n",
       "      <td>...</td>\n",
       "      <td>...</td>\n",
       "      <td>...</td>\n",
       "      <td>...</td>\n",
       "      <td>...</td>\n",
       "      <td>...</td>\n",
       "      <td>...</td>\n",
       "      <td>...</td>\n",
       "      <td>...</td>\n",
       "    </tr>\n",
       "    <tr>\n",
       "      <th>477772</th>\n",
       "      <td>12275971</td>\n",
       "      <td>01/14/2021 09:00:00 AM</td>\n",
       "      <td>1154</td>\n",
       "      <td>DECEPTIVE PRACTICE</td>\n",
       "      <td>FINANCIAL IDENTITY THEFT $300 AND UNDER</td>\n",
       "      <td>RESIDENCE</td>\n",
       "      <td>False</td>\n",
       "      <td>False</td>\n",
       "      <td>2021</td>\n",
       "      <td>01/23/2021 03:54:52 PM</td>\n",
       "    </tr>\n",
       "    <tr>\n",
       "      <th>477773</th>\n",
       "      <td>12275660</td>\n",
       "      <td>02/01/2019 07:00:00 AM</td>\n",
       "      <td>2825</td>\n",
       "      <td>OTHER OFFENSE</td>\n",
       "      <td>HARASSMENT BY TELEPHONE</td>\n",
       "      <td>COMMERCIAL / BUSINESS OFFICE</td>\n",
       "      <td>False</td>\n",
       "      <td>False</td>\n",
       "      <td>2019</td>\n",
       "      <td>01/23/2021 03:54:52 PM</td>\n",
       "    </tr>\n",
       "    <tr>\n",
       "      <th>477774</th>\n",
       "      <td>12271896</td>\n",
       "      <td>01/16/2021 01:00:00 PM</td>\n",
       "      <td>0620</td>\n",
       "      <td>BURGLARY</td>\n",
       "      <td>UNLAWFUL ENTRY</td>\n",
       "      <td>APARTMENT</td>\n",
       "      <td>False</td>\n",
       "      <td>False</td>\n",
       "      <td>2021</td>\n",
       "      <td>01/23/2021 03:54:52 PM</td>\n",
       "    </tr>\n",
       "    <tr>\n",
       "      <th>477775</th>\n",
       "      <td>12271349</td>\n",
       "      <td>01/16/2021 09:13:00 PM</td>\n",
       "      <td>0325</td>\n",
       "      <td>ROBBERY</td>\n",
       "      <td>VEHICULAR HIJACKING</td>\n",
       "      <td>ALLEY</td>\n",
       "      <td>False</td>\n",
       "      <td>False</td>\n",
       "      <td>2021</td>\n",
       "      <td>01/23/2021 03:54:52 PM</td>\n",
       "    </tr>\n",
       "    <tr>\n",
       "      <th>477776</th>\n",
       "      <td>12271006</td>\n",
       "      <td>01/16/2021 11:26:00 AM</td>\n",
       "      <td>1822</td>\n",
       "      <td>NARCOTICS</td>\n",
       "      <td>MANUFACTURE / DELIVER - CANNABIS OVER 10 GRAMS</td>\n",
       "      <td>STREET</td>\n",
       "      <td>True</td>\n",
       "      <td>False</td>\n",
       "      <td>2021</td>\n",
       "      <td>01/23/2021 03:54:52 PM</td>\n",
       "    </tr>\n",
       "  </tbody>\n",
       "</table>\n",
       "<p>475488 rows × 10 columns</p>\n",
       "</div>"
      ],
      "text/plain": [
       "              ID                    Date  IUCR         Primary Type  \\\n",
       "0       12014684  03/17/2020 09:30:00 PM  0820                THEFT   \n",
       "1       11864018  09/24/2019 08:00:00 AM  1154   DECEPTIVE PRACTICE   \n",
       "2       11859805  10/13/2019 08:30:00 PM  0860                THEFT   \n",
       "3       12012127  03/18/2020 02:03:00 AM  0910  MOTOR VEHICLE THEFT   \n",
       "4       11863808  10/05/2019 06:30:00 PM  0810                THEFT   \n",
       "...          ...                     ...   ...                  ...   \n",
       "477772  12275971  01/14/2021 09:00:00 AM  1154   DECEPTIVE PRACTICE   \n",
       "477773  12275660  02/01/2019 07:00:00 AM  2825        OTHER OFFENSE   \n",
       "477774  12271896  01/16/2021 01:00:00 PM  0620             BURGLARY   \n",
       "477775  12271349  01/16/2021 09:13:00 PM  0325              ROBBERY   \n",
       "477776  12271006  01/16/2021 11:26:00 AM  1822            NARCOTICS   \n",
       "\n",
       "                                           Description  \\\n",
       "0                                       $500 AND UNDER   \n",
       "1              FINANCIAL IDENTITY THEFT $300 AND UNDER   \n",
       "2                                         RETAIL THEFT   \n",
       "3                                           AUTOMOBILE   \n",
       "4                                            OVER $500   \n",
       "...                                                ...   \n",
       "477772         FINANCIAL IDENTITY THEFT $300 AND UNDER   \n",
       "477773                         HARASSMENT BY TELEPHONE   \n",
       "477774                                  UNLAWFUL ENTRY   \n",
       "477775                             VEHICULAR HIJACKING   \n",
       "477776  MANUFACTURE / DELIVER - CANNABIS OVER 10 GRAMS   \n",
       "\n",
       "                Location Description  Arrest  Domestic  Year  \\\n",
       "0                             STREET   False     False  2020   \n",
       "1       COMMERCIAL / BUSINESS OFFICE   False     False  2019   \n",
       "2                 GROCERY FOOD STORE   False     False  2019   \n",
       "3                          APARTMENT   False      True  2020   \n",
       "4                          RESIDENCE   False     False  2019   \n",
       "...                              ...     ...       ...   ...   \n",
       "477772                     RESIDENCE   False     False  2021   \n",
       "477773  COMMERCIAL / BUSINESS OFFICE   False     False  2019   \n",
       "477774                     APARTMENT   False     False  2021   \n",
       "477775                         ALLEY   False     False  2021   \n",
       "477776                        STREET    True     False  2021   \n",
       "\n",
       "                    Updated On  \n",
       "0       03/25/2020 03:45:43 PM  \n",
       "1       10/20/2019 03:56:02 PM  \n",
       "2       10/20/2019 04:03:03 PM  \n",
       "3       03/25/2020 03:47:29 PM  \n",
       "4       10/20/2019 03:56:02 PM  \n",
       "...                        ...  \n",
       "477772  01/23/2021 03:54:52 PM  \n",
       "477773  01/23/2021 03:54:52 PM  \n",
       "477774  01/23/2021 03:54:52 PM  \n",
       "477775  01/23/2021 03:54:52 PM  \n",
       "477776  01/23/2021 03:54:52 PM  \n",
       "\n",
       "[475488 rows x 10 columns]"
      ]
     },
     "execution_count": 9,
     "metadata": {},
     "output_type": "execute_result"
    }
   ],
   "source": [
    "df.dropna()"
   ]
  },
  {
   "cell_type": "code",
   "execution_count": 10,
   "metadata": {},
   "outputs": [
    {
     "name": "stdout",
     "output_type": "stream",
     "text": [
      "{'encoding': 'ascii', 'confidence': 1.0, 'language': ''}\n"
     ]
    }
   ],
   "source": [
    "import chardet \n",
    "with open(\"crime rate analysis.csv\",'rb') as rawdata:  result = chardet.detect(rawdata.read(10000))  # check what the character encoding might be  \n",
    "print(result)"
   ]
  },
  {
   "cell_type": "code",
   "execution_count": 11,
   "metadata": {},
   "outputs": [
    {
     "name": "stdout",
     "output_type": "stream",
     "text": [
      "{'encoding': 'ascii', 'confidence': 1.0, 'language': ''}\n"
     ]
    }
   ],
   "source": [
    "import chardet \n",
    "with open(\"crime rate analysis.csv\",'rb') as rawdata:  result = chardet.detect(rawdata.read(10000))  # check what the character encoding might be  \n",
    "print(result)"
   ]
  },
  {
   "cell_type": "code",
   "execution_count": 12,
   "metadata": {},
   "outputs": [
    {
     "data": {
      "text/plain": [
       "(477777, 10)"
      ]
     },
     "execution_count": 12,
     "metadata": {},
     "output_type": "execute_result"
    }
   ],
   "source": [
    "df.shape"
   ]
  },
  {
   "cell_type": "code",
   "execution_count": 13,
   "metadata": {},
   "outputs": [],
   "source": [
    "import datetime\n",
    "df[\"Date\"]=pd.to_datetime(df[\"Date\"])\n",
    "df[\"Month\"]=df[\"Date\"].dt.month\n",
    "df[\"Day\"]=df[\"Date\"].dt.day\n",
    "df[\"Hour\"]=df[\"Date\"].dt.hour"
   ]
  },
  {
   "cell_type": "code",
   "execution_count": 14,
   "metadata": {},
   "outputs": [],
   "source": [
    "df.drop([\"Date\",\"ID\",\"Description\"], axis=1, inplace=True)"
   ]
  },
  {
   "cell_type": "code",
   "execution_count": 15,
   "metadata": {},
   "outputs": [
    {
     "data": {
      "text/plain": [
       "THEFT                                104630\n",
       "BATTERY                               92325\n",
       "CRIMINAL DAMAGE                       52444\n",
       "ASSAULT                               39525\n",
       "DECEPTIVE PRACTICE                    36426\n",
       "OTHER OFFENSE                         29623\n",
       "NARCOTICS                             22581\n",
       "MOTOR VEHICLE THEFT                   19312\n",
       "BURGLARY                              18602\n",
       "ROBBERY                               16236\n",
       "WEAPONS VIOLATION                     15185\n",
       "CRIMINAL TRESPASS                     11130\n",
       "OFFENSE INVOLVING CHILDREN             4266\n",
       "PUBLIC PEACE VIOLATION                 2815\n",
       "SEX OFFENSE                            2261\n",
       "INTERFERENCE WITH PUBLIC OFFICER       2224\n",
       "CRIMINAL SEXUAL ASSAULT                1773\n",
       "HOMICIDE                               1317\n",
       "CRIM SEXUAL ASSAULT                    1023\n",
       "ARSON                                   969\n",
       "PROSTITUTION                            959\n",
       "STALKING                                440\n",
       "LIQUOR LAW VIOLATION                    376\n",
       "CONCEALED CARRY LICENSE VIOLATION       370\n",
       "INTIMIDATION                            331\n",
       "KIDNAPPING                              296\n",
       "GAMBLING                                167\n",
       "OBSCENITY                               113\n",
       "PUBLIC INDECENCY                         20\n",
       "HUMAN TRAFFICKING                        18\n",
       "OTHER NARCOTIC VIOLATION                 14\n",
       "NON-CRIMINAL                              5\n",
       "RITUALISM                                 1\n",
       "Name: Primary Type, dtype: int64"
      ]
     },
     "execution_count": 15,
     "metadata": {},
     "output_type": "execute_result"
    }
   ],
   "source": [
    "df[\"Primary Type\"].value_counts()"
   ]
  },
  {
   "cell_type": "code",
   "execution_count": 16,
   "metadata": {},
   "outputs": [],
   "source": [
    "def decompose(x):\n",
    "    if x==\"THEFT\":\n",
    "        return \"THEFT\"\n",
    "    elif x==\"BATTERY\":\n",
    "        return \"BATTERY\"\n",
    "    elif x==\"CRIMINAL DAMAGE\":\n",
    "        return \"CRIMINAL DAMAGE\"\n",
    "    elif x==\"ASSAULT\":\n",
    "        return \"ASSAULT\"\n",
    "    elif x==\"DECEPTIVE PRACTICE\":\n",
    "        return \"DECEPTIVE PRACTICE\"\n",
    "    else:\n",
    "        return \"OTHERS\""
   ]
  },
  {
   "cell_type": "code",
   "execution_count": 17,
   "metadata": {},
   "outputs": [],
   "source": [
    "df[\"Primary Type\"]=df[\"Primary Type\"].apply(decompose)"
   ]
  },
  {
   "cell_type": "code",
   "execution_count": 18,
   "metadata": {},
   "outputs": [],
   "source": [
    "def location(x):\n",
    "    if x==\"STREET\":\n",
    "        return \"STREET\"\n",
    "    elif x==\"RESIDENCE\":\n",
    "        return \"RESIDENCE\"\n",
    "    elif x==\"APARTMENT\":\n",
    "        return \"APARTMENT\"\n",
    "    elif x==\"SIDEWALK\":\n",
    "        return \"SIDEWALK\"\n",
    "    else:\n",
    "        return \"OTHERS\""
   ]
  },
  {
   "cell_type": "code",
   "execution_count": 19,
   "metadata": {},
   "outputs": [],
   "source": [
    "df[\"Location Description\"]=df[\"Location Description\"].apply(location)"
   ]
  },
  {
   "cell_type": "code",
   "execution_count": 20,
   "metadata": {},
   "outputs": [],
   "source": [
    "def Domestic(x):\n",
    "    if x==True:\n",
    "        return 1\n",
    "    else:\n",
    "        return 0"
   ]
  },
  {
   "cell_type": "code",
   "execution_count": 21,
   "metadata": {},
   "outputs": [],
   "source": [
    "df[\"Domestic\"]=df[\"Domestic\"].apply(Domestic)"
   ]
  },
  {
   "cell_type": "code",
   "execution_count": 22,
   "metadata": {},
   "outputs": [],
   "source": [
    "def Arrest(x):\n",
    "    if x==True:\n",
    "        return 1\n",
    "    else:\n",
    "        return 0"
   ]
  },
  {
   "cell_type": "code",
   "execution_count": 23,
   "metadata": {},
   "outputs": [],
   "source": [
    "df[\"Arrest\"]=df[\"Arrest\"].apply(Arrest)"
   ]
  },
  {
   "cell_type": "markdown",
   "metadata": {},
   "source": [
    "# Crime Type v/s Arrest"
   ]
  },
  {
   "cell_type": "code",
   "execution_count": 24,
   "metadata": {},
   "outputs": [],
   "source": [
    "import matplotlib.pyplot as plt\n",
    "%matplotlib inline\n",
    "import seaborn as sns"
   ]
  },
  {
   "cell_type": "code",
   "execution_count": 25,
   "metadata": {},
   "outputs": [
    {
     "data": {
      "image/png": "[encoded data removed]",
      "text/plain": [
       "<Figure size 1080x504 with 1 Axes>"
      ]
     },
     "metadata": {
      "needs_background": "light"
     },
     "output_type": "display_data"
    }
   ],
   "source": [
    "plt.figure(figsize = (15,7))\n",
    "df.groupby(['Primary Type'])['Arrest'].sum().sort_values(ascending = False).head(10).plot(kind = 'bar', colormap = 'PRGn')\n",
    "plt.xticks(rotation=90)\n",
    "plt.ylabel(\"Arrest\")\n",
    "plt.show()"
   ]
  },
  {
   "cell_type": "code",
   "execution_count": 29,
   "metadata": {},
   "outputs": [
    {
     "data": {
      "text/plain": [
       "<AxesSubplot:xlabel='Primary Type', ylabel='Arrest'>"
      ]
     },
     "execution_count": 29,
     "metadata": {},
     "output_type": "execute_result"
    },
    {
     "data": {
      "image/png": "[encoded data removed]",
      "text/plain": [
       "<Figure size 432x288 with 1 Axes>"
      ]
     },
     "metadata": {
      "needs_background": "light"
     },
     "output_type": "display_data"
    }
   ],
   "source": [
    "sns.boxplot(x=\"Primary Type\", y=\"Arrest\", data=df)"
   ]
  },
  {
   "cell_type": "markdown",
   "metadata": {},
   "source": [
    "# Location V/s Arrest"
   ]
  },
  {
   "cell_type": "code",
   "execution_count": 30,
   "metadata": {},
   "outputs": [
    {
     "data": {
      "text/plain": [
       "<AxesSubplot:xlabel='Location Description', ylabel='Arrest'>"
      ]
     },
     "execution_count": 30,
     "metadata": {},
     "output_type": "execute_result"
    },
    {
     "data": {
      "image/png": "[encoded data removed]",
      "text/plain": [
       "<Figure size 432x288 with 1 Axes>"
      ]
     },
     "metadata": {
      "needs_background": "light"
     },
     "output_type": "display_data"
    }
   ],
   "source": [
    "sns.boxplot(x=\"Location Description\", y=\"Arrest\", data=df)"
   ]
  },
  {
   "cell_type": "markdown",
   "metadata": {},
   "source": [
    "# No. of Arrest"
   ]
  },
  {
   "cell_type": "code",
   "execution_count": 26,
   "metadata": {},
   "outputs": [
    {
     "data": {
      "image/png": "[encoded data removed]",
      "text/plain": [
       "<Figure size 432x288 with 1 Axes>"
      ]
     },
     "metadata": {
      "needs_background": "light"
     },
     "output_type": "display_data"
    }
   ],
   "source": [
    "ax = sns.countplot(x=\"Arrest\", data=df)\n"
   ]
  },
  {
   "cell_type": "markdown",
   "metadata": {},
   "source": [
    "# Types of Crime"
   ]
  },
  {
   "cell_type": "code",
   "execution_count": 31,
   "metadata": {},
   "outputs": [
    {
     "data": {
      "image/png": "[encoded data removed]",
      "text/plain": [
       "<Figure size 720x720 with 1 Axes>"
      ]
     },
     "metadata": {},
     "output_type": "display_data"
    }
   ],
   "source": [
    "# Pie Plot of Crime Types\n",
    "plt.figure(figsize=(10,10))\n",
    "df['Primary Type'].value_counts().plot.pie(autopct=\"%1.1f%%\")\n",
    "plt.show()"
   ]
  },
  {
   "cell_type": "markdown",
   "metadata": {},
   "source": [
    "# Location Of Crime"
   ]
  },
  {
   "cell_type": "code",
   "execution_count": 28,
   "metadata": {},
   "outputs": [
    {
     "data": {
      "image/png": "[encoded data removed]",
      "text/plain": [
       "<Figure size 1080x1080 with 1 Axes>"
      ]
     },
     "metadata": {},
     "output_type": "display_data"
    }
   ],
   "source": [
    "# Pie Plot of Location\n",
    "plt.figure(figsize=(15,15))\n",
    "df['Location Description'].value_counts().plot.pie(autopct=\"%1.1f%%\")\n",
    "plt.show()"
   ]
  },
  {
   "cell_type": "code",
   "execution_count": null,
   "metadata": {},
   "outputs": [],
   "source": []
  },
  {
   "cell_type": "code",
   "execution_count": null,
   "metadata": {},
   "outputs": [],
   "source": []
  }
 ],
 "metadata": {
  "kernelspec": {
   "display_name": "Python 3",
   "language": "python",
   "name": "python3"
  },
  "language_info": {
   "codemirror_mode": {
    "name": "ipython",
    "version": 3
   },
   "file_extension": ".py",
   "mimetype": "text/x-python",
   "name": "python",
   "nbconvert_exporter": "python",
   "pygments_lexer": "ipython3",
   "version": "3.8.8"
  }
 },
 "nbformat": 4,
 "nbformat_minor": 2
}
