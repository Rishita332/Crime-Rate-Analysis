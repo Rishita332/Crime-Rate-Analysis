{
 "cells": [
  {
   "cell_type": "code",
   "execution_count": 1,
   "metadata": {
    "scrolled": true
   },
   "outputs": [
    {
     "name": "stdout",
     "output_type": "stream",
     "text": [
      "Requirement already satisfied: pandas-profiling in c:\\users\\rishita\\anaconda3\\lib\\site-packages (3.1.0)\n",
      "Requirement already satisfied: phik>=0.11.1 in c:\\users\\rishita\\anaconda3\\lib\\site-packages (from pandas-profiling) (0.12.0)\n",
      "Requirement already satisfied: pandas!=1.0.0,!=1.0.1,!=1.0.2,!=1.1.0,>=0.25.3 in c:\\users\\rishita\\anaconda3\\lib\\site-packages (from pandas-profiling) (1.2.4)\n",
      "Requirement already satisfied: PyYAML>=5.0.0 in c:\\users\\rishita\\anaconda3\\lib\\site-packages (from pandas-profiling) (5.4.1)\n",
      "Requirement already satisfied: pydantic>=1.8.1 in c:\\users\\rishita\\anaconda3\\lib\\site-packages (from pandas-profiling) (1.8.2)\n",
      "Requirement already satisfied: scipy>=1.4.1 in c:\\users\\rishita\\anaconda3\\lib\\site-packages (from pandas-profiling) (1.6.2)\n",
      "Requirement already satisfied: missingno>=0.4.2 in c:\\users\\rishita\\anaconda3\\lib\\site-packages (from pandas-profiling) (0.5.0)\n",
      "Requirement already satisfied: visions[type_image_path]==0.7.4 in c:\\users\\rishita\\anaconda3\\lib\\site-packages (from pandas-profiling) (0.7.4)\n",
      "Requirement already satisfied: multimethod>=1.4 in c:\\users\\rishita\\anaconda3\\lib\\site-packages (from pandas-profiling) (1.6)\n",
      "Requirement already satisfied: numpy>=1.16.0 in c:\\users\\rishita\\anaconda3\\lib\\site-packages (from pandas-profiling) (1.20.1)\n",
      "Requirement already satisfied: requests>=2.24.0 in c:\\users\\rishita\\anaconda3\\lib\\site-packages (from pandas-profiling) (2.25.1)\n",
      "Requirement already satisfied: matplotlib>=3.2.0 in c:\\users\\rishita\\anaconda3\\lib\\site-packages (from pandas-profiling) (3.3.4)\n",
      "Requirement already satisfied: seaborn>=0.10.1 in c:\\users\\rishita\\anaconda3\\lib\\site-packages (from pandas-profiling) (0.11.1)\n",
      "Requirement already satisfied: markupsafe~=2.0.1 in c:\\users\\rishita\\anaconda3\\lib\\site-packages (from pandas-profiling) (2.0.1)\n",
      "Requirement already satisfied: htmlmin>=0.1.12 in c:\\users\\rishita\\anaconda3\\lib\\site-packages (from pandas-profiling) (0.1.12)\n",
      "Requirement already satisfied: joblib~=1.0.1 in c:\\users\\rishita\\anaconda3\\lib\\site-packages (from pandas-profiling) (1.0.1)\n",
      "Requirement already satisfied: jinja2>=2.11.1 in c:\\users\\rishita\\appdata\\roaming\\python\\python38\\site-packages (from pandas-profiling) (3.0.0)\n",
      "Requirement already satisfied: tqdm>=4.48.2 in c:\\users\\rishita\\anaconda3\\lib\\site-packages (from pandas-profiling) (4.59.0)\n",
      "Requirement already satisfied: tangled-up-in-unicode==0.1.0 in c:\\users\\rishita\\anaconda3\\lib\\site-packages (from pandas-profiling) (0.1.0)\n",
      "Requirement already satisfied: attrs>=19.3.0 in c:\\users\\rishita\\appdata\\roaming\\python\\python38\\site-packages (from visions[type_image_path]==0.7.4->pandas-profiling) (21.2.0)\n",
      "Requirement already satisfied: networkx>=2.4 in c:\\users\\rishita\\anaconda3\\lib\\site-packages (from visions[type_image_path]==0.7.4->pandas-profiling) (2.5)\n",
      "Requirement already satisfied: Pillow in c:\\users\\rishita\\anaconda3\\lib\\site-packages (from visions[type_image_path]==0.7.4->pandas-profiling) (8.2.0)\n",
      "Requirement already satisfied: imagehash in c:\\users\\rishita\\anaconda3\\lib\\site-packages (from visions[type_image_path]==0.7.4->pandas-profiling) (4.2.1)\n",
      "Requirement already satisfied: python-dateutil>=2.1 in c:\\users\\rishita\\appdata\\roaming\\python\\python38\\site-packages (from matplotlib>=3.2.0->pandas-profiling) (2.8.1)\n",
      "Requirement already satisfied: cycler>=0.10 in c:\\users\\rishita\\anaconda3\\lib\\site-packages (from matplotlib>=3.2.0->pandas-profiling) (0.10.0)\n",
      "Requirement already satisfied: pyparsing!=2.0.4,!=2.1.2,!=2.1.6,>=2.0.3 in c:\\users\\rishita\\appdata\\roaming\\python\\python38\\site-packages (from matplotlib>=3.2.0->pandas-profiling) (2.4.7)\n",
      "Requirement already satisfied: kiwisolver>=1.0.1 in c:\\users\\rishita\\anaconda3\\lib\\site-packages (from matplotlib>=3.2.0->pandas-profiling) (1.3.1)\n",
      "Requirement already satisfied: six in c:\\users\\rishita\\appdata\\roaming\\python\\python38\\site-packages (from cycler>=0.10->matplotlib>=3.2.0->pandas-profiling) (1.16.0)\n",
      "Requirement already satisfied: decorator>=4.3.0 in c:\\users\\rishita\\appdata\\roaming\\python\\python38\\site-packages (from networkx>=2.4->visions[type_image_path]==0.7.4->pandas-profiling) (5.0.9)\n",
      "Requirement already satisfied: pytz>=2017.3 in c:\\users\\rishita\\anaconda3\\lib\\site-packages (from pandas!=1.0.0,!=1.0.1,!=1.0.2,!=1.1.0,>=0.25.3->pandas-profiling) (2021.1)\n",
      "Requirement already satisfied: typing-extensions>=3.7.4.3 in c:\\users\\rishita\\anaconda3\\lib\\site-packages (from pydantic>=1.8.1->pandas-profiling) (3.7.4.3)\n",
      "Requirement already satisfied: idna<3,>=2.5 in c:\\users\\rishita\\anaconda3\\lib\\site-packages (from requests>=2.24.0->pandas-profiling) (2.10)\n",
      "Requirement already satisfied: urllib3<1.27,>=1.21.1 in c:\\users\\rishita\\anaconda3\\lib\\site-packages (from requests>=2.24.0->pandas-profiling) (1.26.4)\n",
      "Requirement already satisfied: certifi>=2017.4.17 in c:\\users\\rishita\\anaconda3\\lib\\site-packages (from requests>=2.24.0->pandas-profiling) (2020.12.5)\n",
      "Requirement already satisfied: chardet<5,>=3.0.2 in c:\\users\\rishita\\anaconda3\\lib\\site-packages (from requests>=2.24.0->pandas-profiling) (4.0.0)\n",
      "Requirement already satisfied: PyWavelets in c:\\users\\rishita\\anaconda3\\lib\\site-packages (from imagehash->visions[type_image_path]==0.7.4->pandas-profiling) (1.1.1)\n"
     ]
    }
   ],
   "source": [
    "import sys\n",
    "!{sys.executable} -m pip install pandas-profiling"
   ]
  },
  {
   "cell_type": "code",
   "execution_count": 2,
   "metadata": {},
   "outputs": [],
   "source": [
    "import pandas as pd \n",
    "df = pd.read_csv(\"crime rate analysis.csv\")"
   ]
  },
  {
   "cell_type": "code",
   "execution_count": 3,
   "metadata": {},
   "outputs": [
    {
     "data": {
      "text/html": [
       "<div>\n",
       "<style scoped>\n",
       "    .dataframe tbody tr th:only-of-type {\n",
       "        vertical-align: middle;\n",
       "    }\n",
       "\n",
       "    .dataframe tbody tr th {\n",
       "        vertical-align: top;\n",
       "    }\n",
       "\n",
       "    .dataframe thead th {\n",
       "        text-align: right;\n",
       "    }\n",
       "</style>\n",
       "<table border=\"1\" class=\"dataframe\">\n",
       "  <thead>\n",
       "    <tr style=\"text-align: right;\">\n",
       "      <th></th>\n",
       "      <th>ID</th>\n",
       "      <th>Date</th>\n",
       "      <th>IUCR</th>\n",
       "      <th>Primary Type</th>\n",
       "      <th>Description</th>\n",
       "      <th>Location Description</th>\n",
       "      <th>Arrest</th>\n",
       "      <th>Domestic</th>\n",
       "      <th>Year</th>\n",
       "      <th>Updated On</th>\n",
       "    </tr>\n",
       "  </thead>\n",
       "  <tbody>\n",
       "    <tr>\n",
       "      <th>0</th>\n",
       "      <td>12014684</td>\n",
       "      <td>03/17/2020 09:30:00 PM</td>\n",
       "      <td>0820</td>\n",
       "      <td>THEFT</td>\n",
       "      <td>$500 AND UNDER</td>\n",
       "      <td>STREET</td>\n",
       "      <td>False</td>\n",
       "      <td>False</td>\n",
       "      <td>2020</td>\n",
       "      <td>03/25/2020 03:45:43 PM</td>\n",
       "    </tr>\n",
       "    <tr>\n",
       "      <th>1</th>\n",
       "      <td>11864018</td>\n",
       "      <td>09/24/2019 08:00:00 AM</td>\n",
       "      <td>1154</td>\n",
       "      <td>DECEPTIVE PRACTICE</td>\n",
       "      <td>FINANCIAL IDENTITY THEFT $300 AND UNDER</td>\n",
       "      <td>COMMERCIAL / BUSINESS OFFICE</td>\n",
       "      <td>False</td>\n",
       "      <td>False</td>\n",
       "      <td>2019</td>\n",
       "      <td>10/20/2019 03:56:02 PM</td>\n",
       "    </tr>\n",
       "    <tr>\n",
       "      <th>2</th>\n",
       "      <td>11859805</td>\n",
       "      <td>10/13/2019 08:30:00 PM</td>\n",
       "      <td>0860</td>\n",
       "      <td>THEFT</td>\n",
       "      <td>RETAIL THEFT</td>\n",
       "      <td>GROCERY FOOD STORE</td>\n",
       "      <td>False</td>\n",
       "      <td>False</td>\n",
       "      <td>2019</td>\n",
       "      <td>10/20/2019 04:03:03 PM</td>\n",
       "    </tr>\n",
       "    <tr>\n",
       "      <th>3</th>\n",
       "      <td>12012127</td>\n",
       "      <td>03/18/2020 02:03:00 AM</td>\n",
       "      <td>0910</td>\n",
       "      <td>MOTOR VEHICLE THEFT</td>\n",
       "      <td>AUTOMOBILE</td>\n",
       "      <td>APARTMENT</td>\n",
       "      <td>False</td>\n",
       "      <td>True</td>\n",
       "      <td>2020</td>\n",
       "      <td>03/25/2020 03:47:29 PM</td>\n",
       "    </tr>\n",
       "    <tr>\n",
       "      <th>4</th>\n",
       "      <td>11863808</td>\n",
       "      <td>10/05/2019 06:30:00 PM</td>\n",
       "      <td>0810</td>\n",
       "      <td>THEFT</td>\n",
       "      <td>OVER $500</td>\n",
       "      <td>RESIDENCE</td>\n",
       "      <td>False</td>\n",
       "      <td>False</td>\n",
       "      <td>2019</td>\n",
       "      <td>10/20/2019 03:56:02 PM</td>\n",
       "    </tr>\n",
       "  </tbody>\n",
       "</table>\n",
       "</div>"
      ],
      "text/plain": [
       "         ID                    Date  IUCR         Primary Type  \\\n",
       "0  12014684  03/17/2020 09:30:00 PM  0820                THEFT   \n",
       "1  11864018  09/24/2019 08:00:00 AM  1154   DECEPTIVE PRACTICE   \n",
       "2  11859805  10/13/2019 08:30:00 PM  0860                THEFT   \n",
       "3  12012127  03/18/2020 02:03:00 AM  0910  MOTOR VEHICLE THEFT   \n",
       "4  11863808  10/05/2019 06:30:00 PM  0810                THEFT   \n",
       "\n",
       "                               Description          Location Description  \\\n",
       "0                           $500 AND UNDER                        STREET   \n",
       "1  FINANCIAL IDENTITY THEFT $300 AND UNDER  COMMERCIAL / BUSINESS OFFICE   \n",
       "2                             RETAIL THEFT            GROCERY FOOD STORE   \n",
       "3                               AUTOMOBILE                     APARTMENT   \n",
       "4                                OVER $500                     RESIDENCE   \n",
       "\n",
       "   Arrest  Domestic  Year              Updated On  \n",
       "0   False     False  2020  03/25/2020 03:45:43 PM  \n",
       "1   False     False  2019  10/20/2019 03:56:02 PM  \n",
       "2   False     False  2019  10/20/2019 04:03:03 PM  \n",
       "3   False      True  2020  03/25/2020 03:47:29 PM  \n",
       "4   False     False  2019  10/20/2019 03:56:02 PM  "
      ]
     },
     "execution_count": 3,
     "metadata": {},
     "output_type": "execute_result"
    }
   ],
   "source": [
    "df.head()"
   ]
  },
  {
   "cell_type": "code",
   "execution_count": 4,
   "metadata": {},
   "outputs": [],
   "source": [
    "from pandas_profiling import ProfileReport"
   ]
  },
  {
   "cell_type": "code",
   "execution_count": 5,
   "metadata": {},
   "outputs": [
    {
     "name": "stdout",
     "output_type": "stream",
     "text": [
      "Collecting package metadata (current_repodata.json): ...working... done\n",
      "Solving environment: ...working... done\n",
      "\n",
      "# All requested packages already installed.\n",
      "\n"
     ]
    }
   ],
   "source": [
    "import sys\n",
    "!conda install --yes --prefix {sys.prefix} pandas-profiling"
   ]
  },
  {
   "cell_type": "code",
   "execution_count": 6,
   "metadata": {},
   "outputs": [],
   "source": [
    "prof=ProfileReport(df)"
   ]
  },
  {
   "cell_type": "code",
   "execution_count": 7,
   "metadata": {},
   "outputs": [
    {
     "data": {
      "application/vnd.jupyter.widget-view+json": {
       "model_id": "c4834a57464346fbbaabe638b0558926",
       "version_major": 2,
       "version_minor": 0
      },
      "text/plain": [
       "Summarize dataset:   0%|          | 0/24 [00:00<?, ?it/s]"
      ]
     },
     "metadata": {},
     "output_type": "display_data"
    },
    {
     "name": "stderr",
     "output_type": "stream",
     "text": [
      "C:\\Users\\rishita\\anaconda3\\lib\\site-packages\\scipy\\stats\\stats.py:4594: RuntimeWarning: overflow encountered in longlong_scalars\n",
      "  (2 * xtie * ytie) / m + x0 * y0 / (9 * m * (size - 2)))\n"
     ]
    },
    {
     "data": {
      "application/vnd.jupyter.widget-view+json": {
       "model_id": "f238765d5ce54ef7b0a456727429e3dc",
       "version_major": 2,
       "version_minor": 0
      },
      "text/plain": [
       "Generate report structure:   0%|          | 0/1 [00:00<?, ?it/s]"
      ]
     },
     "metadata": {},
     "output_type": "display_data"
    },
    {
     "data": {
      "application/vnd.jupyter.widget-view+json": {
       "model_id": "736e5d9fdd2e4febae4efd606e9e986f",
       "version_major": 2,
       "version_minor": 0
      },
      "text/plain": [
       "Render HTML:   0%|          | 0/1 [00:00<?, ?it/s]"
      ]
     },
     "metadata": {},
     "output_type": "display_data"
    },
    {
     "data": {
      "application/vnd.jupyter.widget-view+json": {
       "model_id": "339fa7636ccd4063ab744cc13183748f",
       "version_major": 2,
       "version_minor": 0
      },
      "text/plain": [
       "Export report to file:   0%|          | 0/1 [00:00<?, ?it/s]"
      ]
     },
     "metadata": {},
     "output_type": "display_data"
    }
   ],
   "source": [
    "prof.to_file(output_file='output.html')"
   ]
  },
  {
   "cell_type": "code",
   "execution_count": 8,
   "metadata": {
    "scrolled": true
   },
   "outputs": [
    {
     "data": {
      "application/vnd.jupyter.widget-view+json": {
       "model_id": "",
       "version_major": 2,
       "version_minor": 0
      },
      "text/plain": [
       "Render widgets:   0%|          | 0/1 [00:00<?, ?it/s]"
      ]
     },
     "metadata": {},
     "output_type": "display_data"
    },
    {
     "data": {
      "application/vnd.jupyter.widget-view+json": {
       "model_id": "050aca31b972472188ab8a0384a87cdc",
       "version_major": 2,
       "version_minor": 0
      },
      "text/plain": [
       "VBox(children=(Tab(children=(Tab(children=(GridBox(children=(VBox(children=(GridspecLayout(children=(HTML(valu…"
      ]
     },
     "metadata": {},
     "output_type": "display_data"
    }
   ],
   "source": [
    "prof.to_widgets()"
   ]
  },
  {
   "cell_type": "code",
   "execution_count": 9,
   "metadata": {},
   "outputs": [
    {
     "data": {
      "text/html": [
       "<div>\n",
       "<style scoped>\n",
       "    .dataframe tbody tr th:only-of-type {\n",
       "        vertical-align: middle;\n",
       "    }\n",
       "\n",
       "    .dataframe tbody tr th {\n",
       "        vertical-align: top;\n",
       "    }\n",
       "\n",
       "    .dataframe thead th {\n",
       "        text-align: right;\n",
       "    }\n",
       "</style>\n",
       "<table border=\"1\" class=\"dataframe\">\n",
       "  <thead>\n",
       "    <tr style=\"text-align: right;\">\n",
       "      <th></th>\n",
       "      <th>ID</th>\n",
       "      <th>Date</th>\n",
       "      <th>IUCR</th>\n",
       "      <th>Primary Type</th>\n",
       "      <th>Description</th>\n",
       "      <th>Location Description</th>\n",
       "      <th>Arrest</th>\n",
       "      <th>Domestic</th>\n",
       "      <th>Year</th>\n",
       "      <th>Updated On</th>\n",
       "    </tr>\n",
       "  </thead>\n",
       "  <tbody>\n",
       "    <tr>\n",
       "      <th>0</th>\n",
       "      <td>12014684</td>\n",
       "      <td>03/17/2020 09:30:00 PM</td>\n",
       "      <td>0820</td>\n",
       "      <td>THEFT</td>\n",
       "      <td>$500 AND UNDER</td>\n",
       "      <td>STREET</td>\n",
       "      <td>False</td>\n",
       "      <td>False</td>\n",
       "      <td>2020</td>\n",
       "      <td>03/25/2020 03:45:43 PM</td>\n",
       "    </tr>\n",
       "    <tr>\n",
       "      <th>1</th>\n",
       "      <td>11864018</td>\n",
       "      <td>09/24/2019 08:00:00 AM</td>\n",
       "      <td>1154</td>\n",
       "      <td>DECEPTIVE PRACTICE</td>\n",
       "      <td>FINANCIAL IDENTITY THEFT $300 AND UNDER</td>\n",
       "      <td>COMMERCIAL / BUSINESS OFFICE</td>\n",
       "      <td>False</td>\n",
       "      <td>False</td>\n",
       "      <td>2019</td>\n",
       "      <td>10/20/2019 03:56:02 PM</td>\n",
       "    </tr>\n",
       "    <tr>\n",
       "      <th>2</th>\n",
       "      <td>11859805</td>\n",
       "      <td>10/13/2019 08:30:00 PM</td>\n",
       "      <td>0860</td>\n",
       "      <td>THEFT</td>\n",
       "      <td>RETAIL THEFT</td>\n",
       "      <td>GROCERY FOOD STORE</td>\n",
       "      <td>False</td>\n",
       "      <td>False</td>\n",
       "      <td>2019</td>\n",
       "      <td>10/20/2019 04:03:03 PM</td>\n",
       "    </tr>\n",
       "    <tr>\n",
       "      <th>3</th>\n",
       "      <td>12012127</td>\n",
       "      <td>03/18/2020 02:03:00 AM</td>\n",
       "      <td>0910</td>\n",
       "      <td>MOTOR VEHICLE THEFT</td>\n",
       "      <td>AUTOMOBILE</td>\n",
       "      <td>APARTMENT</td>\n",
       "      <td>False</td>\n",
       "      <td>True</td>\n",
       "      <td>2020</td>\n",
       "      <td>03/25/2020 03:47:29 PM</td>\n",
       "    </tr>\n",
       "    <tr>\n",
       "      <th>4</th>\n",
       "      <td>11863808</td>\n",
       "      <td>10/05/2019 06:30:00 PM</td>\n",
       "      <td>0810</td>\n",
       "      <td>THEFT</td>\n",
       "      <td>OVER $500</td>\n",
       "      <td>RESIDENCE</td>\n",
       "      <td>False</td>\n",
       "      <td>False</td>\n",
       "      <td>2019</td>\n",
       "      <td>10/20/2019 03:56:02 PM</td>\n",
       "    </tr>\n",
       "    <tr>\n",
       "      <th>...</th>\n",
       "      <td>...</td>\n",
       "      <td>...</td>\n",
       "      <td>...</td>\n",
       "      <td>...</td>\n",
       "      <td>...</td>\n",
       "      <td>...</td>\n",
       "      <td>...</td>\n",
       "      <td>...</td>\n",
       "      <td>...</td>\n",
       "      <td>...</td>\n",
       "    </tr>\n",
       "    <tr>\n",
       "      <th>477772</th>\n",
       "      <td>12275971</td>\n",
       "      <td>01/14/2021 09:00:00 AM</td>\n",
       "      <td>1154</td>\n",
       "      <td>DECEPTIVE PRACTICE</td>\n",
       "      <td>FINANCIAL IDENTITY THEFT $300 AND UNDER</td>\n",
       "      <td>RESIDENCE</td>\n",
       "      <td>False</td>\n",
       "      <td>False</td>\n",
       "      <td>2021</td>\n",
       "      <td>01/23/2021 03:54:52 PM</td>\n",
       "    </tr>\n",
       "    <tr>\n",
       "      <th>477773</th>\n",
       "      <td>12275660</td>\n",
       "      <td>02/01/2019 07:00:00 AM</td>\n",
       "      <td>2825</td>\n",
       "      <td>OTHER OFFENSE</td>\n",
       "      <td>HARASSMENT BY TELEPHONE</td>\n",
       "      <td>COMMERCIAL / BUSINESS OFFICE</td>\n",
       "      <td>False</td>\n",
       "      <td>False</td>\n",
       "      <td>2019</td>\n",
       "      <td>01/23/2021 03:54:52 PM</td>\n",
       "    </tr>\n",
       "    <tr>\n",
       "      <th>477774</th>\n",
       "      <td>12271896</td>\n",
       "      <td>01/16/2021 01:00:00 PM</td>\n",
       "      <td>0620</td>\n",
       "      <td>BURGLARY</td>\n",
       "      <td>UNLAWFUL ENTRY</td>\n",
       "      <td>APARTMENT</td>\n",
       "      <td>False</td>\n",
       "      <td>False</td>\n",
       "      <td>2021</td>\n",
       "      <td>01/23/2021 03:54:52 PM</td>\n",
       "    </tr>\n",
       "    <tr>\n",
       "      <th>477775</th>\n",
       "      <td>12271349</td>\n",
       "      <td>01/16/2021 09:13:00 PM</td>\n",
       "      <td>0325</td>\n",
       "      <td>ROBBERY</td>\n",
       "      <td>VEHICULAR HIJACKING</td>\n",
       "      <td>ALLEY</td>\n",
       "      <td>False</td>\n",
       "      <td>False</td>\n",
       "      <td>2021</td>\n",
       "      <td>01/23/2021 03:54:52 PM</td>\n",
       "    </tr>\n",
       "    <tr>\n",
       "      <th>477776</th>\n",
       "      <td>12271006</td>\n",
       "      <td>01/16/2021 11:26:00 AM</td>\n",
       "      <td>1822</td>\n",
       "      <td>NARCOTICS</td>\n",
       "      <td>MANUFACTURE / DELIVER - CANNABIS OVER 10 GRAMS</td>\n",
       "      <td>STREET</td>\n",
       "      <td>True</td>\n",
       "      <td>False</td>\n",
       "      <td>2021</td>\n",
       "      <td>01/23/2021 03:54:52 PM</td>\n",
       "    </tr>\n",
       "  </tbody>\n",
       "</table>\n",
       "<p>475488 rows × 10 columns</p>\n",
       "</div>"
      ],
      "text/plain": [
       "              ID                    Date  IUCR         Primary Type  \\\n",
       "0       12014684  03/17/2020 09:30:00 PM  0820                THEFT   \n",
       "1       11864018  09/24/2019 08:00:00 AM  1154   DECEPTIVE PRACTICE   \n",
       "2       11859805  10/13/2019 08:30:00 PM  0860                THEFT   \n",
       "3       12012127  03/18/2020 02:03:00 AM  0910  MOTOR VEHICLE THEFT   \n",
       "4       11863808  10/05/2019 06:30:00 PM  0810                THEFT   \n",
       "...          ...                     ...   ...                  ...   \n",
       "477772  12275971  01/14/2021 09:00:00 AM  1154   DECEPTIVE PRACTICE   \n",
       "477773  12275660  02/01/2019 07:00:00 AM  2825        OTHER OFFENSE   \n",
       "477774  12271896  01/16/2021 01:00:00 PM  0620             BURGLARY   \n",
       "477775  12271349  01/16/2021 09:13:00 PM  0325              ROBBERY   \n",
       "477776  12271006  01/16/2021 11:26:00 AM  1822            NARCOTICS   \n",
       "\n",
       "                                           Description  \\\n",
       "0                                       $500 AND UNDER   \n",
       "1              FINANCIAL IDENTITY THEFT $300 AND UNDER   \n",
       "2                                         RETAIL THEFT   \n",
       "3                                           AUTOMOBILE   \n",
       "4                                            OVER $500   \n",
       "...                                                ...   \n",
       "477772         FINANCIAL IDENTITY THEFT $300 AND UNDER   \n",
       "477773                         HARASSMENT BY TELEPHONE   \n",
       "477774                                  UNLAWFUL ENTRY   \n",
       "477775                             VEHICULAR HIJACKING   \n",
       "477776  MANUFACTURE / DELIVER - CANNABIS OVER 10 GRAMS   \n",
       "\n",
       "                Location Description  Arrest  Domestic  Year  \\\n",
       "0                             STREET   False     False  2020   \n",
       "1       COMMERCIAL / BUSINESS OFFICE   False     False  2019   \n",
       "2                 GROCERY FOOD STORE   False     False  2019   \n",
       "3                          APARTMENT   False      True  2020   \n",
       "4                          RESIDENCE   False     False  2019   \n",
       "...                              ...     ...       ...   ...   \n",
       "477772                     RESIDENCE   False     False  2021   \n",
       "477773  COMMERCIAL / BUSINESS OFFICE   False     False  2019   \n",
       "477774                     APARTMENT   False     False  2021   \n",
       "477775                         ALLEY   False     False  2021   \n",
       "477776                        STREET    True     False  2021   \n",
       "\n",
       "                    Updated On  \n",
       "0       03/25/2020 03:45:43 PM  \n",
       "1       10/20/2019 03:56:02 PM  \n",
       "2       10/20/2019 04:03:03 PM  \n",
       "3       03/25/2020 03:47:29 PM  \n",
       "4       10/20/2019 03:56:02 PM  \n",
       "...                        ...  \n",
       "477772  01/23/2021 03:54:52 PM  \n",
       "477773  01/23/2021 03:54:52 PM  \n",
       "477774  01/23/2021 03:54:52 PM  \n",
       "477775  01/23/2021 03:54:52 PM  \n",
       "477776  01/23/2021 03:54:52 PM  \n",
       "\n",
       "[475488 rows x 10 columns]"
      ]
     },
     "execution_count": 9,
     "metadata": {},
     "output_type": "execute_result"
    }
   ],
   "source": [
    "df.dropna()"
   ]
  },
  {
   "cell_type": "code",
   "execution_count": 10,
   "metadata": {},
   "outputs": [
    {
     "name": "stdout",
     "output_type": "stream",
     "text": [
      "{'encoding': 'ascii', 'confidence': 1.0, 'language': ''}\n"
     ]
    }
   ],
   "source": [
    "import chardet \n",
    "with open(\"crime rate analysis.csv\",'rb') as rawdata:  result = chardet.detect(rawdata.read(10000))  # check what the character encoding might be  \n",
    "print(result)"
   ]
  },
  {
   "cell_type": "code",
   "execution_count": 11,
   "metadata": {},
   "outputs": [
    {
     "name": "stdout",
     "output_type": "stream",
     "text": [
      "{'encoding': 'ascii', 'confidence': 1.0, 'language': ''}\n"
     ]
    }
   ],
   "source": [
    "import chardet \n",
    "with open(\"crime rate analysis.csv\",'rb') as rawdata:  result = chardet.detect(rawdata.read(10000))  # check what the character encoding might be  \n",
    "print(result)"
   ]
  },
  {
   "cell_type": "code",
   "execution_count": 12,
   "metadata": {},
   "outputs": [
    {
     "data": {
      "text/plain": [
       "(477777, 10)"
      ]
     },
     "execution_count": 12,
     "metadata": {},
     "output_type": "execute_result"
    }
   ],
   "source": [
    "df.shape"
   ]
  },
  {
   "cell_type": "code",
   "execution_count": 13,
   "metadata": {},
   "outputs": [],
   "source": [
    "#Splitting date feature into months, days and hours\n",
    "import datetime\n",
    "df[\"Date\"]=pd.to_datetime(df[\"Date\"])\n",
    "df[\"Month\"]=df[\"Date\"].dt.month\n",
    "df[\"Day\"]=df[\"Date\"].dt.day\n",
    "df[\"Hour\"]=df[\"Date\"].dt.hour"
   ]
  },
  {
   "cell_type": "code",
   "execution_count": 14,
   "metadata": {},
   "outputs": [],
   "source": [
    "df.drop([\"Date\",\"ID\",\"Description\"], axis=1, inplace=True)"
   ]
  },
  {
   "cell_type": "code",
   "execution_count": 15,
   "metadata": {
    "scrolled": true
   },
   "outputs": [
    {
     "data": {
      "text/plain": [
       "THEFT                                104630\n",
       "BATTERY                               92325\n",
       "CRIMINAL DAMAGE                       52444\n",
       "ASSAULT                               39525\n",
       "DECEPTIVE PRACTICE                    36426\n",
       "OTHER OFFENSE                         29623\n",
       "NARCOTICS                             22581\n",
       "MOTOR VEHICLE THEFT                   19312\n",
       "BURGLARY                              18602\n",
       "ROBBERY                               16236\n",
       "WEAPONS VIOLATION                     15185\n",
       "CRIMINAL TRESPASS                     11130\n",
       "OFFENSE INVOLVING CHILDREN             4266\n",
       "PUBLIC PEACE VIOLATION                 2815\n",
       "SEX OFFENSE                            2261\n",
       "INTERFERENCE WITH PUBLIC OFFICER       2224\n",
       "CRIMINAL SEXUAL ASSAULT                1773\n",
       "HOMICIDE                               1317\n",
       "CRIM SEXUAL ASSAULT                    1023\n",
       "ARSON                                   969\n",
       "PROSTITUTION                            959\n",
       "STALKING                                440\n",
       "LIQUOR LAW VIOLATION                    376\n",
       "CONCEALED CARRY LICENSE VIOLATION       370\n",
       "INTIMIDATION                            331\n",
       "KIDNAPPING                              296\n",
       "GAMBLING                                167\n",
       "OBSCENITY                               113\n",
       "PUBLIC INDECENCY                         20\n",
       "HUMAN TRAFFICKING                        18\n",
       "OTHER NARCOTIC VIOLATION                 14\n",
       "NON-CRIMINAL                              5\n",
       "RITUALISM                                 1\n",
       "Name: Primary Type, dtype: int64"
      ]
     },
     "execution_count": 15,
     "metadata": {},
     "output_type": "execute_result"
    }
   ],
   "source": [
    "df[\"Primary Type\"].value_counts()"
   ]
  },
  {
   "cell_type": "code",
   "execution_count": 16,
   "metadata": {},
   "outputs": [],
   "source": [
    "def decompose(x):\n",
    "    if x==\"THEFT\":\n",
    "        return \"THEFT\"\n",
    "    elif x==\"BATTERY\":\n",
    "        return \"BATTERY\"\n",
    "    elif x==\"CRIMINAL DAMAGE\":\n",
    "        return \"CRIMINAL DAMAGE\"\n",
    "    else:\n",
    "        return \"OTHERS\""
   ]
  },
  {
   "cell_type": "code",
   "execution_count": 17,
   "metadata": {},
   "outputs": [],
   "source": [
    "df[\"Primary Type\"]=df[\"Primary Type\"].apply(decompose)"
   ]
  },
  {
   "cell_type": "code",
   "execution_count": 18,
   "metadata": {},
   "outputs": [],
   "source": [
    "df.drop(\"Updated On\", axis=1, inplace=True)"
   ]
  },
  {
   "cell_type": "code",
   "execution_count": null,
   "metadata": {},
   "outputs": [],
   "source": []
  },
  {
   "cell_type": "code",
   "execution_count": 19,
   "metadata": {},
   "outputs": [
    {
     "name": "stderr",
     "output_type": "stream",
     "text": [
      "C:\\Users\\rishita\\anaconda3\\lib\\site-packages\\category_encoders\\utils.py:21: FutureWarning: is_categorical is deprecated and will be removed in a future version.  Use is_categorical_dtype instead\n",
      "  elif pd.api.types.is_categorical(cols):\n"
     ]
    }
   ],
   "source": [
    "#The categorical attribute Location description are converted into numeric using BaseN Encoder\n",
    "import category_encoders as ce\n",
    "a=ce.BaseNEncoder(cols=\"Location Description\", base=4)\n",
    "x=a.fit_transform(df[\"Location Description\"])\n"
   ]
  },
  {
   "cell_type": "code",
   "execution_count": 20,
   "metadata": {},
   "outputs": [
    {
     "data": {
      "text/html": [
       "<div>\n",
       "<style scoped>\n",
       "    .dataframe tbody tr th:only-of-type {\n",
       "        vertical-align: middle;\n",
       "    }\n",
       "\n",
       "    .dataframe tbody tr th {\n",
       "        vertical-align: top;\n",
       "    }\n",
       "\n",
       "    .dataframe thead th {\n",
       "        text-align: right;\n",
       "    }\n",
       "</style>\n",
       "<table border=\"1\" class=\"dataframe\">\n",
       "  <thead>\n",
       "    <tr style=\"text-align: right;\">\n",
       "      <th></th>\n",
       "      <th>Location Description_0</th>\n",
       "      <th>Location Description_1</th>\n",
       "      <th>Location Description_2</th>\n",
       "      <th>Location Description_3</th>\n",
       "      <th>Location Description_4</th>\n",
       "    </tr>\n",
       "  </thead>\n",
       "  <tbody>\n",
       "    <tr>\n",
       "      <th>0</th>\n",
       "      <td>0</td>\n",
       "      <td>0</td>\n",
       "      <td>0</td>\n",
       "      <td>0</td>\n",
       "      <td>1</td>\n",
       "    </tr>\n",
       "    <tr>\n",
       "      <th>1</th>\n",
       "      <td>0</td>\n",
       "      <td>0</td>\n",
       "      <td>0</td>\n",
       "      <td>0</td>\n",
       "      <td>2</td>\n",
       "    </tr>\n",
       "    <tr>\n",
       "      <th>2</th>\n",
       "      <td>0</td>\n",
       "      <td>0</td>\n",
       "      <td>0</td>\n",
       "      <td>0</td>\n",
       "      <td>3</td>\n",
       "    </tr>\n",
       "    <tr>\n",
       "      <th>3</th>\n",
       "      <td>0</td>\n",
       "      <td>0</td>\n",
       "      <td>0</td>\n",
       "      <td>1</td>\n",
       "      <td>0</td>\n",
       "    </tr>\n",
       "    <tr>\n",
       "      <th>4</th>\n",
       "      <td>0</td>\n",
       "      <td>0</td>\n",
       "      <td>0</td>\n",
       "      <td>1</td>\n",
       "      <td>1</td>\n",
       "    </tr>\n",
       "    <tr>\n",
       "      <th>...</th>\n",
       "      <td>...</td>\n",
       "      <td>...</td>\n",
       "      <td>...</td>\n",
       "      <td>...</td>\n",
       "      <td>...</td>\n",
       "    </tr>\n",
       "    <tr>\n",
       "      <th>477772</th>\n",
       "      <td>0</td>\n",
       "      <td>0</td>\n",
       "      <td>0</td>\n",
       "      <td>1</td>\n",
       "      <td>1</td>\n",
       "    </tr>\n",
       "    <tr>\n",
       "      <th>477773</th>\n",
       "      <td>0</td>\n",
       "      <td>0</td>\n",
       "      <td>0</td>\n",
       "      <td>0</td>\n",
       "      <td>2</td>\n",
       "    </tr>\n",
       "    <tr>\n",
       "      <th>477774</th>\n",
       "      <td>0</td>\n",
       "      <td>0</td>\n",
       "      <td>0</td>\n",
       "      <td>1</td>\n",
       "      <td>0</td>\n",
       "    </tr>\n",
       "    <tr>\n",
       "      <th>477775</th>\n",
       "      <td>0</td>\n",
       "      <td>0</td>\n",
       "      <td>1</td>\n",
       "      <td>0</td>\n",
       "      <td>3</td>\n",
       "    </tr>\n",
       "    <tr>\n",
       "      <th>477776</th>\n",
       "      <td>0</td>\n",
       "      <td>0</td>\n",
       "      <td>0</td>\n",
       "      <td>0</td>\n",
       "      <td>1</td>\n",
       "    </tr>\n",
       "  </tbody>\n",
       "</table>\n",
       "<p>477777 rows × 5 columns</p>\n",
       "</div>"
      ],
      "text/plain": [
       "        Location Description_0  Location Description_1  \\\n",
       "0                            0                       0   \n",
       "1                            0                       0   \n",
       "2                            0                       0   \n",
       "3                            0                       0   \n",
       "4                            0                       0   \n",
       "...                        ...                     ...   \n",
       "477772                       0                       0   \n",
       "477773                       0                       0   \n",
       "477774                       0                       0   \n",
       "477775                       0                       0   \n",
       "477776                       0                       0   \n",
       "\n",
       "        Location Description_2  Location Description_3  Location Description_4  \n",
       "0                            0                       0                       1  \n",
       "1                            0                       0                       2  \n",
       "2                            0                       0                       3  \n",
       "3                            0                       1                       0  \n",
       "4                            0                       1                       1  \n",
       "...                        ...                     ...                     ...  \n",
       "477772                       0                       1                       1  \n",
       "477773                       0                       0                       2  \n",
       "477774                       0                       1                       0  \n",
       "477775                       1                       0                       3  \n",
       "477776                       0                       0                       1  \n",
       "\n",
       "[477777 rows x 5 columns]"
      ]
     },
     "execution_count": 20,
     "metadata": {},
     "output_type": "execute_result"
    }
   ],
   "source": [
    "x"
   ]
  },
  {
   "cell_type": "code",
   "execution_count": 21,
   "metadata": {},
   "outputs": [],
   "source": [
    "df=pd.concat([df,x], axis=1)\n"
   ]
  },
  {
   "cell_type": "code",
   "execution_count": 22,
   "metadata": {},
   "outputs": [],
   "source": [
    "df.drop(\"Location Description\", axis=1, inplace=True)\n"
   ]
  },
  {
   "cell_type": "code",
   "execution_count": 23,
   "metadata": {},
   "outputs": [
    {
     "data": {
      "text/html": [
       "<div>\n",
       "<style scoped>\n",
       "    .dataframe tbody tr th:only-of-type {\n",
       "        vertical-align: middle;\n",
       "    }\n",
       "\n",
       "    .dataframe tbody tr th {\n",
       "        vertical-align: top;\n",
       "    }\n",
       "\n",
       "    .dataframe thead th {\n",
       "        text-align: right;\n",
       "    }\n",
       "</style>\n",
       "<table border=\"1\" class=\"dataframe\">\n",
       "  <thead>\n",
       "    <tr style=\"text-align: right;\">\n",
       "      <th></th>\n",
       "      <th>IUCR</th>\n",
       "      <th>Primary Type</th>\n",
       "      <th>Arrest</th>\n",
       "      <th>Domestic</th>\n",
       "      <th>Year</th>\n",
       "      <th>Month</th>\n",
       "      <th>Day</th>\n",
       "      <th>Hour</th>\n",
       "      <th>Location Description_0</th>\n",
       "      <th>Location Description_1</th>\n",
       "      <th>Location Description_2</th>\n",
       "      <th>Location Description_3</th>\n",
       "      <th>Location Description_4</th>\n",
       "    </tr>\n",
       "  </thead>\n",
       "  <tbody>\n",
       "    <tr>\n",
       "      <th>0</th>\n",
       "      <td>0820</td>\n",
       "      <td>THEFT</td>\n",
       "      <td>False</td>\n",
       "      <td>False</td>\n",
       "      <td>2020</td>\n",
       "      <td>3</td>\n",
       "      <td>17</td>\n",
       "      <td>21</td>\n",
       "      <td>0</td>\n",
       "      <td>0</td>\n",
       "      <td>0</td>\n",
       "      <td>0</td>\n",
       "      <td>1</td>\n",
       "    </tr>\n",
       "    <tr>\n",
       "      <th>1</th>\n",
       "      <td>1154</td>\n",
       "      <td>OTHERS</td>\n",
       "      <td>False</td>\n",
       "      <td>False</td>\n",
       "      <td>2019</td>\n",
       "      <td>9</td>\n",
       "      <td>24</td>\n",
       "      <td>8</td>\n",
       "      <td>0</td>\n",
       "      <td>0</td>\n",
       "      <td>0</td>\n",
       "      <td>0</td>\n",
       "      <td>2</td>\n",
       "    </tr>\n",
       "    <tr>\n",
       "      <th>2</th>\n",
       "      <td>0860</td>\n",
       "      <td>THEFT</td>\n",
       "      <td>False</td>\n",
       "      <td>False</td>\n",
       "      <td>2019</td>\n",
       "      <td>10</td>\n",
       "      <td>13</td>\n",
       "      <td>20</td>\n",
       "      <td>0</td>\n",
       "      <td>0</td>\n",
       "      <td>0</td>\n",
       "      <td>0</td>\n",
       "      <td>3</td>\n",
       "    </tr>\n",
       "    <tr>\n",
       "      <th>3</th>\n",
       "      <td>0910</td>\n",
       "      <td>OTHERS</td>\n",
       "      <td>False</td>\n",
       "      <td>True</td>\n",
       "      <td>2020</td>\n",
       "      <td>3</td>\n",
       "      <td>18</td>\n",
       "      <td>2</td>\n",
       "      <td>0</td>\n",
       "      <td>0</td>\n",
       "      <td>0</td>\n",
       "      <td>1</td>\n",
       "      <td>0</td>\n",
       "    </tr>\n",
       "    <tr>\n",
       "      <th>4</th>\n",
       "      <td>0810</td>\n",
       "      <td>THEFT</td>\n",
       "      <td>False</td>\n",
       "      <td>False</td>\n",
       "      <td>2019</td>\n",
       "      <td>10</td>\n",
       "      <td>5</td>\n",
       "      <td>18</td>\n",
       "      <td>0</td>\n",
       "      <td>0</td>\n",
       "      <td>0</td>\n",
       "      <td>1</td>\n",
       "      <td>1</td>\n",
       "    </tr>\n",
       "  </tbody>\n",
       "</table>\n",
       "</div>"
      ],
      "text/plain": [
       "   IUCR Primary Type  Arrest  Domestic  Year  Month  Day  Hour  \\\n",
       "0  0820        THEFT   False     False  2020      3   17    21   \n",
       "1  1154       OTHERS   False     False  2019      9   24     8   \n",
       "2  0860        THEFT   False     False  2019     10   13    20   \n",
       "3  0910       OTHERS   False      True  2020      3   18     2   \n",
       "4  0810        THEFT   False     False  2019     10    5    18   \n",
       "\n",
       "   Location Description_0  Location Description_1  Location Description_2  \\\n",
       "0                       0                       0                       0   \n",
       "1                       0                       0                       0   \n",
       "2                       0                       0                       0   \n",
       "3                       0                       0                       0   \n",
       "4                       0                       0                       0   \n",
       "\n",
       "   Location Description_3  Location Description_4  \n",
       "0                       0                       1  \n",
       "1                       0                       2  \n",
       "2                       0                       3  \n",
       "3                       1                       0  \n",
       "4                       1                       1  "
      ]
     },
     "execution_count": 23,
     "metadata": {},
     "output_type": "execute_result"
    }
   ],
   "source": [
    "df.head()"
   ]
  },
  {
   "cell_type": "code",
   "execution_count": 24,
   "metadata": {},
   "outputs": [],
   "source": [
    "def Domestic(x):\n",
    "    if x==True:\n",
    "        return 1\n",
    "    else:\n",
    "        return 0"
   ]
  },
  {
   "cell_type": "code",
   "execution_count": 25,
   "metadata": {},
   "outputs": [],
   "source": [
    "df[\"Domestic\"]=df[\"Domestic\"].apply(Domestic)\n"
   ]
  },
  {
   "cell_type": "code",
   "execution_count": 26,
   "metadata": {},
   "outputs": [],
   "source": [
    "df.drop(\"IUCR\",axis=1, inplace=True)"
   ]
  },
  {
   "cell_type": "code",
   "execution_count": 27,
   "metadata": {},
   "outputs": [],
   "source": [
    "def Arrest(x):\n",
    "    if x==True:\n",
    "        return 1\n",
    "    else:\n",
    "        return 0"
   ]
  },
  {
   "cell_type": "code",
   "execution_count": 28,
   "metadata": {},
   "outputs": [],
   "source": [
    "df[\"Arrest\"]=df[\"Arrest\"].apply(Arrest)"
   ]
  },
  {
   "cell_type": "code",
   "execution_count": 29,
   "metadata": {},
   "outputs": [
    {
     "data": {
      "text/html": [
       "<div>\n",
       "<style scoped>\n",
       "    .dataframe tbody tr th:only-of-type {\n",
       "        vertical-align: middle;\n",
       "    }\n",
       "\n",
       "    .dataframe tbody tr th {\n",
       "        vertical-align: top;\n",
       "    }\n",
       "\n",
       "    .dataframe thead th {\n",
       "        text-align: right;\n",
       "    }\n",
       "</style>\n",
       "<table border=\"1\" class=\"dataframe\">\n",
       "  <thead>\n",
       "    <tr style=\"text-align: right;\">\n",
       "      <th></th>\n",
       "      <th>Primary Type</th>\n",
       "      <th>Arrest</th>\n",
       "      <th>Domestic</th>\n",
       "      <th>Year</th>\n",
       "      <th>Month</th>\n",
       "      <th>Day</th>\n",
       "      <th>Hour</th>\n",
       "      <th>Location Description_0</th>\n",
       "      <th>Location Description_1</th>\n",
       "      <th>Location Description_2</th>\n",
       "      <th>Location Description_3</th>\n",
       "      <th>Location Description_4</th>\n",
       "    </tr>\n",
       "  </thead>\n",
       "  <tbody>\n",
       "    <tr>\n",
       "      <th>0</th>\n",
       "      <td>THEFT</td>\n",
       "      <td>0</td>\n",
       "      <td>0</td>\n",
       "      <td>2020</td>\n",
       "      <td>3</td>\n",
       "      <td>17</td>\n",
       "      <td>21</td>\n",
       "      <td>0</td>\n",
       "      <td>0</td>\n",
       "      <td>0</td>\n",
       "      <td>0</td>\n",
       "      <td>1</td>\n",
       "    </tr>\n",
       "    <tr>\n",
       "      <th>1</th>\n",
       "      <td>OTHERS</td>\n",
       "      <td>0</td>\n",
       "      <td>0</td>\n",
       "      <td>2019</td>\n",
       "      <td>9</td>\n",
       "      <td>24</td>\n",
       "      <td>8</td>\n",
       "      <td>0</td>\n",
       "      <td>0</td>\n",
       "      <td>0</td>\n",
       "      <td>0</td>\n",
       "      <td>2</td>\n",
       "    </tr>\n",
       "    <tr>\n",
       "      <th>2</th>\n",
       "      <td>THEFT</td>\n",
       "      <td>0</td>\n",
       "      <td>0</td>\n",
       "      <td>2019</td>\n",
       "      <td>10</td>\n",
       "      <td>13</td>\n",
       "      <td>20</td>\n",
       "      <td>0</td>\n",
       "      <td>0</td>\n",
       "      <td>0</td>\n",
       "      <td>0</td>\n",
       "      <td>3</td>\n",
       "    </tr>\n",
       "    <tr>\n",
       "      <th>3</th>\n",
       "      <td>OTHERS</td>\n",
       "      <td>0</td>\n",
       "      <td>1</td>\n",
       "      <td>2020</td>\n",
       "      <td>3</td>\n",
       "      <td>18</td>\n",
       "      <td>2</td>\n",
       "      <td>0</td>\n",
       "      <td>0</td>\n",
       "      <td>0</td>\n",
       "      <td>1</td>\n",
       "      <td>0</td>\n",
       "    </tr>\n",
       "    <tr>\n",
       "      <th>4</th>\n",
       "      <td>THEFT</td>\n",
       "      <td>0</td>\n",
       "      <td>0</td>\n",
       "      <td>2019</td>\n",
       "      <td>10</td>\n",
       "      <td>5</td>\n",
       "      <td>18</td>\n",
       "      <td>0</td>\n",
       "      <td>0</td>\n",
       "      <td>0</td>\n",
       "      <td>1</td>\n",
       "      <td>1</td>\n",
       "    </tr>\n",
       "    <tr>\n",
       "      <th>...</th>\n",
       "      <td>...</td>\n",
       "      <td>...</td>\n",
       "      <td>...</td>\n",
       "      <td>...</td>\n",
       "      <td>...</td>\n",
       "      <td>...</td>\n",
       "      <td>...</td>\n",
       "      <td>...</td>\n",
       "      <td>...</td>\n",
       "      <td>...</td>\n",
       "      <td>...</td>\n",
       "      <td>...</td>\n",
       "    </tr>\n",
       "    <tr>\n",
       "      <th>477772</th>\n",
       "      <td>OTHERS</td>\n",
       "      <td>0</td>\n",
       "      <td>0</td>\n",
       "      <td>2021</td>\n",
       "      <td>1</td>\n",
       "      <td>14</td>\n",
       "      <td>9</td>\n",
       "      <td>0</td>\n",
       "      <td>0</td>\n",
       "      <td>0</td>\n",
       "      <td>1</td>\n",
       "      <td>1</td>\n",
       "    </tr>\n",
       "    <tr>\n",
       "      <th>477773</th>\n",
       "      <td>OTHERS</td>\n",
       "      <td>0</td>\n",
       "      <td>0</td>\n",
       "      <td>2019</td>\n",
       "      <td>2</td>\n",
       "      <td>1</td>\n",
       "      <td>7</td>\n",
       "      <td>0</td>\n",
       "      <td>0</td>\n",
       "      <td>0</td>\n",
       "      <td>0</td>\n",
       "      <td>2</td>\n",
       "    </tr>\n",
       "    <tr>\n",
       "      <th>477774</th>\n",
       "      <td>OTHERS</td>\n",
       "      <td>0</td>\n",
       "      <td>0</td>\n",
       "      <td>2021</td>\n",
       "      <td>1</td>\n",
       "      <td>16</td>\n",
       "      <td>13</td>\n",
       "      <td>0</td>\n",
       "      <td>0</td>\n",
       "      <td>0</td>\n",
       "      <td>1</td>\n",
       "      <td>0</td>\n",
       "    </tr>\n",
       "    <tr>\n",
       "      <th>477775</th>\n",
       "      <td>OTHERS</td>\n",
       "      <td>0</td>\n",
       "      <td>0</td>\n",
       "      <td>2021</td>\n",
       "      <td>1</td>\n",
       "      <td>16</td>\n",
       "      <td>21</td>\n",
       "      <td>0</td>\n",
       "      <td>0</td>\n",
       "      <td>1</td>\n",
       "      <td>0</td>\n",
       "      <td>3</td>\n",
       "    </tr>\n",
       "    <tr>\n",
       "      <th>477776</th>\n",
       "      <td>OTHERS</td>\n",
       "      <td>1</td>\n",
       "      <td>0</td>\n",
       "      <td>2021</td>\n",
       "      <td>1</td>\n",
       "      <td>16</td>\n",
       "      <td>11</td>\n",
       "      <td>0</td>\n",
       "      <td>0</td>\n",
       "      <td>0</td>\n",
       "      <td>0</td>\n",
       "      <td>1</td>\n",
       "    </tr>\n",
       "  </tbody>\n",
       "</table>\n",
       "<p>477777 rows × 12 columns</p>\n",
       "</div>"
      ],
      "text/plain": [
       "       Primary Type  Arrest  Domestic  Year  Month  Day  Hour  \\\n",
       "0             THEFT       0         0  2020      3   17    21   \n",
       "1            OTHERS       0         0  2019      9   24     8   \n",
       "2             THEFT       0         0  2019     10   13    20   \n",
       "3            OTHERS       0         1  2020      3   18     2   \n",
       "4             THEFT       0         0  2019     10    5    18   \n",
       "...             ...     ...       ...   ...    ...  ...   ...   \n",
       "477772       OTHERS       0         0  2021      1   14     9   \n",
       "477773       OTHERS       0         0  2019      2    1     7   \n",
       "477774       OTHERS       0         0  2021      1   16    13   \n",
       "477775       OTHERS       0         0  2021      1   16    21   \n",
       "477776       OTHERS       1         0  2021      1   16    11   \n",
       "\n",
       "        Location Description_0  Location Description_1  \\\n",
       "0                            0                       0   \n",
       "1                            0                       0   \n",
       "2                            0                       0   \n",
       "3                            0                       0   \n",
       "4                            0                       0   \n",
       "...                        ...                     ...   \n",
       "477772                       0                       0   \n",
       "477773                       0                       0   \n",
       "477774                       0                       0   \n",
       "477775                       0                       0   \n",
       "477776                       0                       0   \n",
       "\n",
       "        Location Description_2  Location Description_3  Location Description_4  \n",
       "0                            0                       0                       1  \n",
       "1                            0                       0                       2  \n",
       "2                            0                       0                       3  \n",
       "3                            0                       1                       0  \n",
       "4                            0                       1                       1  \n",
       "...                        ...                     ...                     ...  \n",
       "477772                       0                       1                       1  \n",
       "477773                       0                       0                       2  \n",
       "477774                       0                       1                       0  \n",
       "477775                       1                       0                       3  \n",
       "477776                       0                       0                       1  \n",
       "\n",
       "[477777 rows x 12 columns]"
      ]
     },
     "execution_count": 29,
     "metadata": {},
     "output_type": "execute_result"
    }
   ],
   "source": [
    "df"
   ]
  },
  {
   "cell_type": "code",
   "execution_count": 30,
   "metadata": {},
   "outputs": [],
   "source": [
    "x=df.iloc[:,1:]\n",
    "y=df[\"Primary Type\"]"
   ]
  },
  {
   "cell_type": "code",
   "execution_count": 31,
   "metadata": {},
   "outputs": [
    {
     "data": {
      "text/html": [
       "<div>\n",
       "<style scoped>\n",
       "    .dataframe tbody tr th:only-of-type {\n",
       "        vertical-align: middle;\n",
       "    }\n",
       "\n",
       "    .dataframe tbody tr th {\n",
       "        vertical-align: top;\n",
       "    }\n",
       "\n",
       "    .dataframe thead th {\n",
       "        text-align: right;\n",
       "    }\n",
       "</style>\n",
       "<table border=\"1\" class=\"dataframe\">\n",
       "  <thead>\n",
       "    <tr style=\"text-align: right;\">\n",
       "      <th></th>\n",
       "      <th>Arrest</th>\n",
       "      <th>Domestic</th>\n",
       "      <th>Year</th>\n",
       "      <th>Month</th>\n",
       "      <th>Day</th>\n",
       "      <th>Hour</th>\n",
       "      <th>Location Description_0</th>\n",
       "      <th>Location Description_1</th>\n",
       "      <th>Location Description_2</th>\n",
       "      <th>Location Description_3</th>\n",
       "      <th>Location Description_4</th>\n",
       "    </tr>\n",
       "  </thead>\n",
       "  <tbody>\n",
       "    <tr>\n",
       "      <th>0</th>\n",
       "      <td>0</td>\n",
       "      <td>0</td>\n",
       "      <td>2020</td>\n",
       "      <td>3</td>\n",
       "      <td>17</td>\n",
       "      <td>21</td>\n",
       "      <td>0</td>\n",
       "      <td>0</td>\n",
       "      <td>0</td>\n",
       "      <td>0</td>\n",
       "      <td>1</td>\n",
       "    </tr>\n",
       "    <tr>\n",
       "      <th>1</th>\n",
       "      <td>0</td>\n",
       "      <td>0</td>\n",
       "      <td>2019</td>\n",
       "      <td>9</td>\n",
       "      <td>24</td>\n",
       "      <td>8</td>\n",
       "      <td>0</td>\n",
       "      <td>0</td>\n",
       "      <td>0</td>\n",
       "      <td>0</td>\n",
       "      <td>2</td>\n",
       "    </tr>\n",
       "    <tr>\n",
       "      <th>2</th>\n",
       "      <td>0</td>\n",
       "      <td>0</td>\n",
       "      <td>2019</td>\n",
       "      <td>10</td>\n",
       "      <td>13</td>\n",
       "      <td>20</td>\n",
       "      <td>0</td>\n",
       "      <td>0</td>\n",
       "      <td>0</td>\n",
       "      <td>0</td>\n",
       "      <td>3</td>\n",
       "    </tr>\n",
       "    <tr>\n",
       "      <th>3</th>\n",
       "      <td>0</td>\n",
       "      <td>1</td>\n",
       "      <td>2020</td>\n",
       "      <td>3</td>\n",
       "      <td>18</td>\n",
       "      <td>2</td>\n",
       "      <td>0</td>\n",
       "      <td>0</td>\n",
       "      <td>0</td>\n",
       "      <td>1</td>\n",
       "      <td>0</td>\n",
       "    </tr>\n",
       "    <tr>\n",
       "      <th>4</th>\n",
       "      <td>0</td>\n",
       "      <td>0</td>\n",
       "      <td>2019</td>\n",
       "      <td>10</td>\n",
       "      <td>5</td>\n",
       "      <td>18</td>\n",
       "      <td>0</td>\n",
       "      <td>0</td>\n",
       "      <td>0</td>\n",
       "      <td>1</td>\n",
       "      <td>1</td>\n",
       "    </tr>\n",
       "    <tr>\n",
       "      <th>...</th>\n",
       "      <td>...</td>\n",
       "      <td>...</td>\n",
       "      <td>...</td>\n",
       "      <td>...</td>\n",
       "      <td>...</td>\n",
       "      <td>...</td>\n",
       "      <td>...</td>\n",
       "      <td>...</td>\n",
       "      <td>...</td>\n",
       "      <td>...</td>\n",
       "      <td>...</td>\n",
       "    </tr>\n",
       "    <tr>\n",
       "      <th>477772</th>\n",
       "      <td>0</td>\n",
       "      <td>0</td>\n",
       "      <td>2021</td>\n",
       "      <td>1</td>\n",
       "      <td>14</td>\n",
       "      <td>9</td>\n",
       "      <td>0</td>\n",
       "      <td>0</td>\n",
       "      <td>0</td>\n",
       "      <td>1</td>\n",
       "      <td>1</td>\n",
       "    </tr>\n",
       "    <tr>\n",
       "      <th>477773</th>\n",
       "      <td>0</td>\n",
       "      <td>0</td>\n",
       "      <td>2019</td>\n",
       "      <td>2</td>\n",
       "      <td>1</td>\n",
       "      <td>7</td>\n",
       "      <td>0</td>\n",
       "      <td>0</td>\n",
       "      <td>0</td>\n",
       "      <td>0</td>\n",
       "      <td>2</td>\n",
       "    </tr>\n",
       "    <tr>\n",
       "      <th>477774</th>\n",
       "      <td>0</td>\n",
       "      <td>0</td>\n",
       "      <td>2021</td>\n",
       "      <td>1</td>\n",
       "      <td>16</td>\n",
       "      <td>13</td>\n",
       "      <td>0</td>\n",
       "      <td>0</td>\n",
       "      <td>0</td>\n",
       "      <td>1</td>\n",
       "      <td>0</td>\n",
       "    </tr>\n",
       "    <tr>\n",
       "      <th>477775</th>\n",
       "      <td>0</td>\n",
       "      <td>0</td>\n",
       "      <td>2021</td>\n",
       "      <td>1</td>\n",
       "      <td>16</td>\n",
       "      <td>21</td>\n",
       "      <td>0</td>\n",
       "      <td>0</td>\n",
       "      <td>1</td>\n",
       "      <td>0</td>\n",
       "      <td>3</td>\n",
       "    </tr>\n",
       "    <tr>\n",
       "      <th>477776</th>\n",
       "      <td>1</td>\n",
       "      <td>0</td>\n",
       "      <td>2021</td>\n",
       "      <td>1</td>\n",
       "      <td>16</td>\n",
       "      <td>11</td>\n",
       "      <td>0</td>\n",
       "      <td>0</td>\n",
       "      <td>0</td>\n",
       "      <td>0</td>\n",
       "      <td>1</td>\n",
       "    </tr>\n",
       "  </tbody>\n",
       "</table>\n",
       "<p>477777 rows × 11 columns</p>\n",
       "</div>"
      ],
      "text/plain": [
       "        Arrest  Domestic  Year  Month  Day  Hour  Location Description_0  \\\n",
       "0            0         0  2020      3   17    21                       0   \n",
       "1            0         0  2019      9   24     8                       0   \n",
       "2            0         0  2019     10   13    20                       0   \n",
       "3            0         1  2020      3   18     2                       0   \n",
       "4            0         0  2019     10    5    18                       0   \n",
       "...        ...       ...   ...    ...  ...   ...                     ...   \n",
       "477772       0         0  2021      1   14     9                       0   \n",
       "477773       0         0  2019      2    1     7                       0   \n",
       "477774       0         0  2021      1   16    13                       0   \n",
       "477775       0         0  2021      1   16    21                       0   \n",
       "477776       1         0  2021      1   16    11                       0   \n",
       "\n",
       "        Location Description_1  Location Description_2  \\\n",
       "0                            0                       0   \n",
       "1                            0                       0   \n",
       "2                            0                       0   \n",
       "3                            0                       0   \n",
       "4                            0                       0   \n",
       "...                        ...                     ...   \n",
       "477772                       0                       0   \n",
       "477773                       0                       0   \n",
       "477774                       0                       0   \n",
       "477775                       0                       1   \n",
       "477776                       0                       0   \n",
       "\n",
       "        Location Description_3  Location Description_4  \n",
       "0                            0                       1  \n",
       "1                            0                       2  \n",
       "2                            0                       3  \n",
       "3                            1                       0  \n",
       "4                            1                       1  \n",
       "...                        ...                     ...  \n",
       "477772                       1                       1  \n",
       "477773                       0                       2  \n",
       "477774                       1                       0  \n",
       "477775                       0                       3  \n",
       "477776                       0                       1  \n",
       "\n",
       "[477777 rows x 11 columns]"
      ]
     },
     "execution_count": 31,
     "metadata": {},
     "output_type": "execute_result"
    }
   ],
   "source": [
    "x"
   ]
  },
  {
   "cell_type": "code",
   "execution_count": 32,
   "metadata": {},
   "outputs": [],
   "source": [
    "from sklearn.metrics import f1_score\n",
    "from sklearn.metrics import precision_recall_fscore_support\n",
    "from sklearn.metrics import confusion_matrix, plot_confusion_matrix\n",
    "import matplotlib.pyplot as plt# doctest: +SKIP\n",
    "from sklearn.metrics import mean_absolute_error"
   ]
  },
  {
   "cell_type": "code",
   "execution_count": 33,
   "metadata": {},
   "outputs": [],
   "source": [
    "import numpy as np\n",
    "#The following test cases will be used to check the values given by each model.\n",
    "test1 = np.array([[0,0,2019,0,0,1,0,0,3,18,20]]) #Readings for Crime 1.\n",
    "test2 = np.array([[0,1,2017,0,1,0,0,1,5,8,10]]) #Readings for Crime 2.\n",
    "test3 = np.array([[1,0,2020,1,0,0,0,0,10,15,7]]) #Readings for Crime 3.\n",
    "test4 = np.array([[1,1,2020,0,0,0,1,1,8,11,21]])#Readings for Crime 4."
   ]
  },
  {
   "cell_type": "markdown",
   "metadata": {},
   "source": [
    "# Train Test Split"
   ]
  },
  {
   "cell_type": "code",
   "execution_count": 34,
   "metadata": {},
   "outputs": [],
   "source": [
    "from sklearn.model_selection import train_test_split\n",
    "#Creating the test and train data sets for the given data.\n",
    "X_train,X_test,y_train,y_test=train_test_split(x,y,test_size=0.8,random_state=10)\n",
    "#list to store precision values of each model.\n",
    "precision = [0, 0, 0, 0, 0]\n",
    "#list to store recall values of each model.\n",
    "recall = [0, 0, 0, 0, 0]\n",
    "#list to store f1-score values of each model.\n",
    "fscore = [0, 0, 0, 0, 0]\n"
   ]
  },
  {
   "cell_type": "code",
   "execution_count": 35,
   "metadata": {},
   "outputs": [],
   "source": [
    "#StandardScalar is used for preprocessing of data.\n",
    "from sklearn.preprocessing import StandardScaler\n",
    "scaler = StandardScaler()\n",
    "X_train=scaler.fit_transform(X_train)\n",
    "X_test=scaler.fit_transform(X_test)\n"
   ]
  },
  {
   "cell_type": "code",
   "execution_count": 36,
   "metadata": {},
   "outputs": [],
   "source": [
    "#Creating lists of label outputs given in each test case by different models\n",
    "label_1 = [0, 0, 0, 0, 0]\n",
    "label_2 = [0, 0, 0, 0, 0]\n",
    "label_3 = [0, 0, 0, 0, 0]\n",
    "label_4 = [0, 0, 0, 0, 0]"
   ]
  },
  {
   "cell_type": "markdown",
   "metadata": {},
   "source": [
    "# Decision Tree"
   ]
  },
  {
   "cell_type": "code",
   "execution_count": 37,
   "metadata": {},
   "outputs": [],
   "source": [
    "from sklearn.tree import DecisionTreeClassifier\n",
    "#Creating the DecisionTree model.\n",
    "dt = DecisionTreeClassifier(random_state = 1)\n",
    "#Training the model.\n",
    "dt.fit(X_train, y_train)\n",
    "#Making predictions using the decision tree model.\n",
    "pred_dt = dt.predict(X_test)\n"
   ]
  },
  {
   "cell_type": "code",
   "execution_count": 38,
   "metadata": {},
   "outputs": [],
   "source": [
    "#Testing the model with predefined test cases.\n",
    "ans_1 = dt.predict((test1))\n",
    "ans_2 = dt.predict((test2))\n",
    "ans_3 = dt.predict((test3))\n",
    "ans_4 = dt.predict((test4))\n",
    "\n",
    "#Storing the above predictions into respective lists.\n",
    "label_1[0] = ans_1[0]\n",
    "label_2[0] = ans_2[0]\n",
    "label_3[0] = ans_3[0]\n",
    "label_4[0] = ans_4[0]"
   ]
  },
  {
   "cell_type": "markdown",
   "metadata": {},
   "source": [
    "# Random forest"
   ]
  },
  {
   "cell_type": "code",
   "execution_count": 39,
   "metadata": {},
   "outputs": [],
   "source": [
    "from sklearn.ensemble import RandomForestClassifier\n",
    "#Creating the RandomClassifier model.\n",
    "rf = RandomForestClassifier(random_state = 0) \n",
    "#Training the model.\n",
    "rf.fit(X_train, y_train)\n",
    "#Making predictions using the model.\n",
    "pred_rf = rf.predict(X_test)\n"
   ]
  },
  {
   "cell_type": "code",
   "execution_count": 40,
   "metadata": {},
   "outputs": [],
   "source": [
    "#Testing the model with predefined test cases.\n",
    "ans_1 = rf.predict((test1))\n",
    "ans_2 = rf.predict((test2))\n",
    "ans_3 = rf.predict((test3))\n",
    "ans_4 = rf.predict((test4))\n",
    "\n",
    "#Storing the above predictions into respective lists.\n",
    "label_1[1] = ans_1[0]\n",
    "label_2[1] = ans_2[0]\n",
    "label_3[1] = ans_3[0]\n",
    "label_4[1] = ans_4[0]"
   ]
  },
  {
   "cell_type": "markdown",
   "metadata": {},
   "source": [
    "# Logistic regression"
   ]
  },
  {
   "cell_type": "code",
   "execution_count": 41,
   "metadata": {},
   "outputs": [],
   "source": [
    "from sklearn.linear_model import LogisticRegression\n",
    "#Creating the Logistic Regression model.\n",
    "logreg = LogisticRegression()\n",
    "#Training the model.\n",
    "logreg.fit(X_train,y_train)\n",
    "#Making predictions using the model.\n",
    "pred_lg=logreg.predict(X_test)"
   ]
  },
  {
   "cell_type": "code",
   "execution_count": 42,
   "metadata": {},
   "outputs": [],
   "source": [
    "#Testing the model with predefined test cases.\n",
    "ans_1 = logreg.predict((test1))\n",
    "ans_2 = logreg.predict((test2))\n",
    "ans_3 = logreg.predict((test3))\n",
    "ans_4 = logreg.predict((test4))\n",
    "\n",
    "#Storing the above predictions into respective lists.\n",
    "label_1[2] = ans_1[0]\n",
    "label_2[2] = ans_2[0]\n",
    "label_3[2] = ans_3[0]\n",
    "label_4[2] = ans_4[0]"
   ]
  },
  {
   "cell_type": "markdown",
   "metadata": {},
   "source": [
    "# KNN"
   ]
  },
  {
   "cell_type": "code",
   "execution_count": 43,
   "metadata": {},
   "outputs": [],
   "source": [
    "from sklearn.neighbors import KNeighborsClassifier\n",
    "#Creating the KneighboursClassifier model.\n",
    "knn = KNeighborsClassifier(n_neighbors=5)\n",
    "#Training the model.\n",
    "knn.fit(X_train, y_train)\n",
    "#Making predictions using the model.\n",
    "pred_knn = knn.predict(X_test)"
   ]
  },
  {
   "cell_type": "code",
   "execution_count": 44,
   "metadata": {},
   "outputs": [],
   "source": [
    "#Testing the model with predefined test cases.\n",
    "ans_1 = knn.predict((test1))\n",
    "ans_2 = knn.predict((test2))\n",
    "ans_3 = knn.predict((test3))\n",
    "ans_4 = knn.predict((test4))\n",
    "\n",
    "#Storing the above predictions into respective lists.\n",
    "label_1[3] = ans_1[0]\n",
    "label_2[3] = ans_2[0]\n",
    "label_3[3] = ans_3[0]\n",
    "label_4[3] = ans_4[0]"
   ]
  },
  {
   "cell_type": "markdown",
   "metadata": {},
   "source": [
    "# SVM"
   ]
  },
  {
   "cell_type": "code",
   "execution_count": 45,
   "metadata": {},
   "outputs": [],
   "source": [
    "from sklearn.svm import SVC\n",
    "#Creating the SVM model.\n",
    "svm = SVC(kernel = \"linear\")\n",
    "#Training the model.\n",
    "svm.fit(X_train, y_train)\n",
    "#Making predictions using the model.\n",
    "pred_svm = svm.predict(X_test)"
   ]
  },
  {
   "cell_type": "code",
   "execution_count": 46,
   "metadata": {},
   "outputs": [],
   "source": [
    "#Testing the model with predefined test cases.\n",
    "ans_1 = svm.predict((test1))\n",
    "ans_2 = svm.predict((test2))\n",
    "ans_3 = svm.predict((test3))\n",
    "ans_4 = svm.predict((test4))\n",
    "\n",
    "#Storing the above predictions into respective lists.\n",
    "label_1[4] = ans_1[0]\n",
    "label_2[4] = ans_2[0]\n",
    "label_3[4] = ans_3[0]\n",
    "label_4[4] = ans_4[0]"
   ]
  },
  {
   "cell_type": "code",
   "execution_count": 47,
   "metadata": {},
   "outputs": [
    {
     "data": {
      "image/png": "[encoded data removed]",
      "text/plain": [
       "<Figure size 720x360 with 1 Axes>"
      ]
     },
     "metadata": {
      "needs_background": "light"
     },
     "output_type": "display_data"
    }
   ],
   "source": [
    "import seaborn as sns\n",
    "plt.figure(figsize=(10,5))\n",
    "sns.scatterplot(x = ['DecisionTree', 'RandomForest','Logistic Regression', 'KNN', 'SVM '], \n",
    "                y = label_1, s = 200, label = 'test1',)\n",
    "sns.scatterplot(x = ['DecisionTree', 'RandomForest','Logistic Regression', 'KNN', 'SVM '], \n",
    "                y = label_2, s = 150, label = 'test2')\n",
    "sns.scatterplot(x = ['DecisionTree', 'RandomForest','Logistic Regression', 'KNN', 'SVM '], \n",
    "                y = label_3, s = 100, label = 'test3')\n",
    "sns.scatterplot(x = ['DecisionTree', 'RandomForest','Logistic Regression', 'KNN', 'SVM '], \n",
    "                y = label_4, s = 50, label = 'test4')\n",
    "sns.lineplot(x = ['DecisionTree', 'RandomForest','Logistic Regression', 'KNN', 'SVM '], \n",
    "                y = label_1)\n",
    "sns.lineplot(x = ['DecisionTree', 'RandomForest','Logistic Regression', 'KNN', 'SVM '], \n",
    "                y = label_2)\n",
    "sns.lineplot(x = ['DecisionTree', 'RandomForest','Logistic Regression', 'KNN', 'SVM '], \n",
    "                y = label_3)\n",
    "sns.lineplot(x = ['DecisionTree', 'RandomForest','Logistic Regression', 'KNN', 'SVM '], \n",
    "                y = label_4)\n",
    "plt.show()"
   ]
  },
  {
   "cell_type": "code",
   "execution_count": 48,
   "metadata": {},
   "outputs": [
    {
     "name": "stdout",
     "output_type": "stream",
     "text": [
      "[[ 29304   7372  27418   9626]\n",
      " [  7713   8174  17609   8498]\n",
      " [ 31714  21081 100978  29074]\n",
      " [ 11662  10888  31821  29290]]\n"
     ]
    },
    {
     "data": {
      "image/png": "[encoded data removed]",
      "text/plain": [
       "<Figure size 432x288 with 2 Axes>"
      ]
     },
     "metadata": {
      "needs_background": "light"
     },
     "output_type": "display_data"
    },
    {
     "name": "stdout",
     "output_type": "stream",
     "text": [
      "For a DecisionTreeClassifier:  Precision = 0.372, Recall = 0.374, F1-score = 0.372\n"
     ]
    }
   ],
   "source": [
    "#Confusion matrix for Decision tree model.\n",
    "print(confusion_matrix(np.array(y_test), pred_dt))\n",
    "plot_confusion_matrix(dt, X_test, y_test)\n",
    "plt.show()\n",
    "#Finding precision, recall and f-score for Decision Tree Model and updating values in respective lists.\n",
    "precision[0], recall[0], fscore[0], Nil = precision_recall_fscore_support(y_test, pred_dt, average='macro')\n",
    "print('For a DecisionTreeClassifier:  Precision = %.3f, Recall = %.3f, F1-score = %.3f'%(precision[0], recall[0], fscore[0]))"
   ]
  },
  {
   "cell_type": "code",
   "execution_count": 49,
   "metadata": {},
   "outputs": [
    {
     "name": "stdout",
     "output_type": "stream",
     "text": [
      "[[ 31957   3944  29357   8462]\n",
      " [  6401   5505  20988   9100]\n",
      " [ 24280  12113 118293  28161]\n",
      " [  7636   6589  34704  34732]]\n"
     ]
    },
    {
     "data": {
      "image/png": "[encoded data removed]",
      "text/plain": [
       "<Figure size 432x288 with 2 Axes>"
      ]
     },
     "metadata": {
      "needs_background": "light"
     },
     "output_type": "display_data"
    },
    {
     "name": "stdout",
     "output_type": "stream",
     "text": [
      "For a RandomForestClassifier:  Precision = 0.416, Recall = 0.407, F1-score = 0.409\n"
     ]
    }
   ],
   "source": [
    "#Confusion matrix for RandomForest model.\n",
    "print(confusion_matrix(np.array(y_test), pred_rf))\n",
    "plot_confusion_matrix(rf, X_test, y_test)\n",
    "plt.show()\n",
    "#Finding precision, recall and f-score for RandomForest Model and updating values in respective lists.\n",
    "precision[1], recall[1], fscore[1], Nil = precision_recall_fscore_support(y_test, pred_rf, average='macro')\n",
    "print('For a RandomForestClassifier:  Precision = %.3f, Recall = %.3f, F1-score = %.3f'%(precision[1], recall[1], fscore[1]))"
   ]
  },
  {
   "cell_type": "code",
   "execution_count": 50,
   "metadata": {},
   "outputs": [
    {
     "name": "stdout",
     "output_type": "stream",
     "text": [
      "[[ 36720      0  34281   2719]\n",
      " [  5651      0  34620   1723]\n",
      " [ 21149      0 156323   5375]\n",
      " [  3709      0  74732   5220]]\n"
     ]
    },
    {
     "data": {
      "image/png": "[encoded data removed]",
      "text/plain": [
       "<Figure size 432x288 with 2 Axes>"
      ]
     },
     "metadata": {
      "needs_background": "light"
     },
     "output_type": "display_data"
    },
    {
     "name": "stdout",
     "output_type": "stream",
     "text": [
      "For a Logistic Regression model:  Precision = 0.354, Recall = 0.354, F1-score = 0.319\n"
     ]
    },
    {
     "name": "stderr",
     "output_type": "stream",
     "text": [
      "C:\\Users\\rishita\\anaconda3\\lib\\site-packages\\sklearn\\metrics\\_classification.py:1245: UndefinedMetricWarning: Precision and F-score are ill-defined and being set to 0.0 in labels with no predicted samples. Use `zero_division` parameter to control this behavior.\n",
      "  _warn_prf(average, modifier, msg_start, len(result))\n"
     ]
    }
   ],
   "source": [
    "#Confusion matrix for LR model\n",
    "print(confusion_matrix(np.array(y_test), pred_lg))\n",
    "plot_confusion_matrix(logreg, X_test, y_test)\n",
    "plt.show()\n",
    "#Finding precision, recall and f-score for SVM model and updating values in respective lists.\n",
    "precision[2], recall[2], fscore[2], Nil = precision_recall_fscore_support(y_test, pred_lg, average='macro')\n",
    "print('For a Logistic Regression model:  Precision = %.3f, Recall = %.3f, F1-score = %.3f'%(precision[2], recall[2], fscore[2]))"
   ]
  },
  {
   "cell_type": "code",
   "execution_count": 51,
   "metadata": {},
   "outputs": [
    {
     "name": "stdout",
     "output_type": "stream",
     "text": [
      "[[ 36174   4088  27842   5616]\n",
      " [  7344   6701  21596   6353]\n",
      " [ 28115  14159 120387  20186]\n",
      " [  9350   8350  36480  29481]]\n"
     ]
    },
    {
     "data": {
      "image/png": "[encoded data removed]",
      "text/plain": [
       "<Figure size 432x288 with 2 Axes>"
      ]
     },
     "metadata": {
      "needs_background": "light"
     },
     "output_type": "display_data"
    },
    {
     "name": "stdout",
     "output_type": "stream",
     "text": [
      "For a KNN model:  Precision = 0.427, Recall = 0.415, F1-score = 0.418\n"
     ]
    }
   ],
   "source": [
    "#Confusion matrix for LR model\n",
    "print(confusion_matrix(np.array(y_test), pred_knn))\n",
    "plot_confusion_matrix(knn, X_test, y_test)\n",
    "plt.show()\n",
    "#Finding precision, recall and f-score for SVM model and updating values in respective lists.\n",
    "precision[3], recall[3], fscore[3], Nil = precision_recall_fscore_support(y_test, pred_knn, average='macro')\n",
    "print('For a KNN model:  Precision = %.3f, Recall = %.3f, F1-score = %.3f'%(precision[3], recall[3], fscore[3]))"
   ]
  },
  {
   "cell_type": "code",
   "execution_count": 52,
   "metadata": {},
   "outputs": [
    {
     "name": "stdout",
     "output_type": "stream",
     "text": [
      "[[ 36788      0  36932      0]\n",
      " [  5658      0  36336      0]\n",
      " [ 21163      0 161684      0]\n",
      " [  3712      0  79949      0]]\n"
     ]
    },
    {
     "data": {
      "image/png": "[encoded data removed]",
      "text/plain": [
       "<Figure size 432x288 with 2 Axes>"
      ]
     },
     "metadata": {
      "needs_background": "light"
     },
     "output_type": "display_data"
    },
    {
     "name": "stdout",
     "output_type": "stream",
     "text": [
      "For a SVM model:  Precision = 0.265, Recall = 0.346, F1-score = 0.293\n"
     ]
    },
    {
     "name": "stderr",
     "output_type": "stream",
     "text": [
      "C:\\Users\\rishita\\anaconda3\\lib\\site-packages\\sklearn\\metrics\\_classification.py:1245: UndefinedMetricWarning: Precision and F-score are ill-defined and being set to 0.0 in labels with no predicted samples. Use `zero_division` parameter to control this behavior.\n",
      "  _warn_prf(average, modifier, msg_start, len(result))\n"
     ]
    }
   ],
   "source": [
    "#Confusion matrix for SVM model\n",
    "print(confusion_matrix(np.array(y_test), pred_svm))\n",
    "plot_confusion_matrix(svm, X_test, y_test)\n",
    "plt.show()\n",
    "#Finding precision, recall and f-score for SVM model and updating values in respective lists.\n",
    "precision[4], recall[4], fscore[4], Nil = precision_recall_fscore_support(y_test, pred_svm, average='macro')\n",
    "print('For a SVM model:  Precision = %.3f, Recall = %.3f, F1-score = %.3f'%(precision[4], recall[4], fscore[4]))"
   ]
  },
  {
   "cell_type": "code",
   "execution_count": 53,
   "metadata": {},
   "outputs": [
    {
     "data": {
      "image/png": "[encoded data removed]",
      "text/plain": [
       "<Figure size 1080x360 with 1 Axes>"
      ]
     },
     "metadata": {
      "needs_background": "light"
     },
     "output_type": "display_data"
    }
   ],
   "source": [
    "#Creating a line plot to compare teh precision, recall and f1-score of all the models.\n",
    "#This graph is plotted to find the best fit for our dataset.\n",
    "plt.figure(figsize=(15,5))\n",
    "sns.lineplot(x = ['DecisionTree', 'RandomForest','Logistic Regression', 'KNN', 'SVM '], \n",
    "             y = precision,label = 'precision')\n",
    "sns.lineplot(x = ['DecisionTree', 'RandomForest','Logistic Regression', 'KNN', 'SVM '], \n",
    "             y = recall,label = 'recall')\n",
    "sns.lineplot(x = ['DecisionTree', 'RandomForest','Logistic Regression', 'KNN', 'SVM '], \n",
    "             y = fscore,label = 'f1-score')\n",
    "plt.show()"
   ]
  }
 ],
 "metadata": {
  "kernelspec": {
   "display_name": "Python 3",
   "language": "python",
   "name": "python3"
  },
  "language_info": {
   "codemirror_mode": {
    "name": "ipython",
    "version": 3
   },
   "file_extension": ".py",
   "mimetype": "text/x-python",
   "name": "python",
   "nbconvert_exporter": "python",
   "pygments_lexer": "ipython3",
   "version": "3.8.8"
  }
 },
 "nbformat": 4,
 "nbformat_minor": 2
}
